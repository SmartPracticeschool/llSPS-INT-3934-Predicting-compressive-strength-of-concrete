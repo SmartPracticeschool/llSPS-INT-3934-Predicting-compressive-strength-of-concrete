{
 "cells": [
  {
   "cell_type": "markdown",
   "metadata": {},
   "source": [
    "# Importing Required Libraries"
   ]
  },
  {
   "cell_type": "code",
   "execution_count": 1,
   "metadata": {},
   "outputs": [],
   "source": [
    "import numpy as np\n",
    "import pandas as pd\n",
    "import matplotlib.pyplot as plt\n",
    "import seaborn as sns"
   ]
  },
  {
   "cell_type": "markdown",
   "metadata": {},
   "source": [
    "# Reading the Data"
   ]
  },
  {
   "cell_type": "code",
   "execution_count": 2,
   "metadata": {},
   "outputs": [],
   "source": [
    "data=pd.read_excel('Concrete_Data.xls')"
   ]
  },
  {
   "cell_type": "markdown",
   "metadata": {},
   "source": [
    "# Data Pre-processing"
   ]
  },
  {
   "cell_type": "code",
   "execution_count": 3,
   "metadata": {},
   "outputs": [
    {
     "data": {
      "text/html": [
       "<div>\n",
       "<style scoped>\n",
       "    .dataframe tbody tr th:only-of-type {\n",
       "        vertical-align: middle;\n",
       "    }\n",
       "\n",
       "    .dataframe tbody tr th {\n",
       "        vertical-align: top;\n",
       "    }\n",
       "\n",
       "    .dataframe thead th {\n",
       "        text-align: right;\n",
       "    }\n",
       "</style>\n",
       "<table border=\"1\" class=\"dataframe\">\n",
       "  <thead>\n",
       "    <tr style=\"text-align: right;\">\n",
       "      <th></th>\n",
       "      <th>Cement (component 1)(kg in a m^3 mixture)</th>\n",
       "      <th>Blast Furnace Slag (component 2)(kg in a m^3 mixture)</th>\n",
       "      <th>Fly Ash (component 3)(kg in a m^3 mixture)</th>\n",
       "      <th>Water  (component 4)(kg in a m^3 mixture)</th>\n",
       "      <th>Superplasticizer (component 5)(kg in a m^3 mixture)</th>\n",
       "      <th>Coarse Aggregate  (component 6)(kg in a m^3 mixture)</th>\n",
       "      <th>Fine Aggregate (component 7)(kg in a m^3 mixture)</th>\n",
       "      <th>Age (day)</th>\n",
       "      <th>Concrete compressive strength(MPa, megapascals)</th>\n",
       "    </tr>\n",
       "  </thead>\n",
       "  <tbody>\n",
       "    <tr>\n",
       "      <th>0</th>\n",
       "      <td>540.0</td>\n",
       "      <td>0.0</td>\n",
       "      <td>0.0</td>\n",
       "      <td>162.0</td>\n",
       "      <td>2.5</td>\n",
       "      <td>1040.0</td>\n",
       "      <td>676.0</td>\n",
       "      <td>28</td>\n",
       "      <td>79.986111</td>\n",
       "    </tr>\n",
       "    <tr>\n",
       "      <th>1</th>\n",
       "      <td>540.0</td>\n",
       "      <td>0.0</td>\n",
       "      <td>0.0</td>\n",
       "      <td>162.0</td>\n",
       "      <td>2.5</td>\n",
       "      <td>1055.0</td>\n",
       "      <td>676.0</td>\n",
       "      <td>28</td>\n",
       "      <td>61.887366</td>\n",
       "    </tr>\n",
       "    <tr>\n",
       "      <th>2</th>\n",
       "      <td>332.5</td>\n",
       "      <td>142.5</td>\n",
       "      <td>0.0</td>\n",
       "      <td>228.0</td>\n",
       "      <td>0.0</td>\n",
       "      <td>932.0</td>\n",
       "      <td>594.0</td>\n",
       "      <td>270</td>\n",
       "      <td>40.269535</td>\n",
       "    </tr>\n",
       "    <tr>\n",
       "      <th>3</th>\n",
       "      <td>332.5</td>\n",
       "      <td>142.5</td>\n",
       "      <td>0.0</td>\n",
       "      <td>228.0</td>\n",
       "      <td>0.0</td>\n",
       "      <td>932.0</td>\n",
       "      <td>594.0</td>\n",
       "      <td>365</td>\n",
       "      <td>41.052780</td>\n",
       "    </tr>\n",
       "    <tr>\n",
       "      <th>4</th>\n",
       "      <td>198.6</td>\n",
       "      <td>132.4</td>\n",
       "      <td>0.0</td>\n",
       "      <td>192.0</td>\n",
       "      <td>0.0</td>\n",
       "      <td>978.4</td>\n",
       "      <td>825.5</td>\n",
       "      <td>360</td>\n",
       "      <td>44.296075</td>\n",
       "    </tr>\n",
       "  </tbody>\n",
       "</table>\n",
       "</div>"
      ],
      "text/plain": [
       "   Cement (component 1)(kg in a m^3 mixture)  \\\n",
       "0                                      540.0   \n",
       "1                                      540.0   \n",
       "2                                      332.5   \n",
       "3                                      332.5   \n",
       "4                                      198.6   \n",
       "\n",
       "   Blast Furnace Slag (component 2)(kg in a m^3 mixture)  \\\n",
       "0                                                0.0       \n",
       "1                                                0.0       \n",
       "2                                              142.5       \n",
       "3                                              142.5       \n",
       "4                                              132.4       \n",
       "\n",
       "   Fly Ash (component 3)(kg in a m^3 mixture)  \\\n",
       "0                                         0.0   \n",
       "1                                         0.0   \n",
       "2                                         0.0   \n",
       "3                                         0.0   \n",
       "4                                         0.0   \n",
       "\n",
       "   Water  (component 4)(kg in a m^3 mixture)  \\\n",
       "0                                      162.0   \n",
       "1                                      162.0   \n",
       "2                                      228.0   \n",
       "3                                      228.0   \n",
       "4                                      192.0   \n",
       "\n",
       "   Superplasticizer (component 5)(kg in a m^3 mixture)  \\\n",
       "0                                                2.5     \n",
       "1                                                2.5     \n",
       "2                                                0.0     \n",
       "3                                                0.0     \n",
       "4                                                0.0     \n",
       "\n",
       "   Coarse Aggregate  (component 6)(kg in a m^3 mixture)  \\\n",
       "0                                             1040.0      \n",
       "1                                             1055.0      \n",
       "2                                              932.0      \n",
       "3                                              932.0      \n",
       "4                                              978.4      \n",
       "\n",
       "   Fine Aggregate (component 7)(kg in a m^3 mixture)  Age (day)  \\\n",
       "0                                              676.0         28   \n",
       "1                                              676.0         28   \n",
       "2                                              594.0        270   \n",
       "3                                              594.0        365   \n",
       "4                                              825.5        360   \n",
       "\n",
       "   Concrete compressive strength(MPa, megapascals)   \n",
       "0                                         79.986111  \n",
       "1                                         61.887366  \n",
       "2                                         40.269535  \n",
       "3                                         41.052780  \n",
       "4                                         44.296075  "
      ]
     },
     "execution_count": 3,
     "metadata": {},
     "output_type": "execute_result"
    }
   ],
   "source": [
    "data.head()"
   ]
  },
  {
   "cell_type": "code",
   "execution_count": 4,
   "metadata": {},
   "outputs": [
    {
     "data": {
      "text/plain": [
       "Index(['Cement (component 1)(kg in a m^3 mixture)',\n",
       "       'Blast Furnace Slag (component 2)(kg in a m^3 mixture)',\n",
       "       'Fly Ash (component 3)(kg in a m^3 mixture)',\n",
       "       'Water  (component 4)(kg in a m^3 mixture)',\n",
       "       'Superplasticizer (component 5)(kg in a m^3 mixture)',\n",
       "       'Coarse Aggregate  (component 6)(kg in a m^3 mixture)',\n",
       "       'Fine Aggregate (component 7)(kg in a m^3 mixture)', 'Age (day)',\n",
       "       'Concrete compressive strength(MPa, megapascals) '],\n",
       "      dtype='object')"
      ]
     },
     "execution_count": 4,
     "metadata": {},
     "output_type": "execute_result"
    }
   ],
   "source": [
    "data.columns"
   ]
  },
  {
   "cell_type": "code",
   "execution_count": 5,
   "metadata": {},
   "outputs": [
    {
     "data": {
      "text/plain": [
       "(1030, 9)"
      ]
     },
     "execution_count": 5,
     "metadata": {},
     "output_type": "execute_result"
    }
   ],
   "source": [
    "data.shape"
   ]
  },
  {
   "cell_type": "code",
   "execution_count": 6,
   "metadata": {},
   "outputs": [
    {
     "data": {
      "text/plain": [
       "Cement (component 1)(kg in a m^3 mixture)                float64\n",
       "Blast Furnace Slag (component 2)(kg in a m^3 mixture)    float64\n",
       "Fly Ash (component 3)(kg in a m^3 mixture)               float64\n",
       "Water  (component 4)(kg in a m^3 mixture)                float64\n",
       "Superplasticizer (component 5)(kg in a m^3 mixture)      float64\n",
       "Coarse Aggregate  (component 6)(kg in a m^3 mixture)     float64\n",
       "Fine Aggregate (component 7)(kg in a m^3 mixture)        float64\n",
       "Age (day)                                                  int64\n",
       "Concrete compressive strength(MPa, megapascals)          float64\n",
       "dtype: object"
      ]
     },
     "execution_count": 6,
     "metadata": {},
     "output_type": "execute_result"
    }
   ],
   "source": [
    "data.dtypes"
   ]
  },
  {
   "cell_type": "markdown",
   "metadata": {},
   "source": [
    "# Checking for Null values and Unique values in the Data Columns"
   ]
  },
  {
   "cell_type": "code",
   "execution_count": 7,
   "metadata": {},
   "outputs": [
    {
     "data": {
      "text/plain": [
       "Cement (component 1)(kg in a m^3 mixture)                False\n",
       "Blast Furnace Slag (component 2)(kg in a m^3 mixture)    False\n",
       "Fly Ash (component 3)(kg in a m^3 mixture)               False\n",
       "Water  (component 4)(kg in a m^3 mixture)                False\n",
       "Superplasticizer (component 5)(kg in a m^3 mixture)      False\n",
       "Coarse Aggregate  (component 6)(kg in a m^3 mixture)     False\n",
       "Fine Aggregate (component 7)(kg in a m^3 mixture)        False\n",
       "Age (day)                                                False\n",
       "Concrete compressive strength(MPa, megapascals)          False\n",
       "dtype: bool"
      ]
     },
     "execution_count": 7,
     "metadata": {},
     "output_type": "execute_result"
    }
   ],
   "source": [
    "data.isnull().any()"
   ]
  },
  {
   "cell_type": "code",
   "execution_count": 8,
   "metadata": {},
   "outputs": [
    {
     "data": {
      "text/plain": [
       "Cement (component 1)(kg in a m^3 mixture)                0\n",
       "Blast Furnace Slag (component 2)(kg in a m^3 mixture)    0\n",
       "Fly Ash (component 3)(kg in a m^3 mixture)               0\n",
       "Water  (component 4)(kg in a m^3 mixture)                0\n",
       "Superplasticizer (component 5)(kg in a m^3 mixture)      0\n",
       "Coarse Aggregate  (component 6)(kg in a m^3 mixture)     0\n",
       "Fine Aggregate (component 7)(kg in a m^3 mixture)        0\n",
       "Age (day)                                                0\n",
       "Concrete compressive strength(MPa, megapascals)          0\n",
       "dtype: int64"
      ]
     },
     "execution_count": 8,
     "metadata": {},
     "output_type": "execute_result"
    }
   ],
   "source": [
    "data.isnull().sum()"
   ]
  },
  {
   "cell_type": "code",
   "execution_count": 9,
   "metadata": {},
   "outputs": [
    {
     "name": "stdout",
     "output_type": "stream",
     "text": [
      "<class 'pandas.core.frame.DataFrame'>\n",
      "RangeIndex: 1030 entries, 0 to 1029\n",
      "Data columns (total 9 columns):\n",
      " #   Column                                                 Non-Null Count  Dtype  \n",
      "---  ------                                                 --------------  -----  \n",
      " 0   Cement (component 1)(kg in a m^3 mixture)              1030 non-null   float64\n",
      " 1   Blast Furnace Slag (component 2)(kg in a m^3 mixture)  1030 non-null   float64\n",
      " 2   Fly Ash (component 3)(kg in a m^3 mixture)             1030 non-null   float64\n",
      " 3   Water  (component 4)(kg in a m^3 mixture)              1030 non-null   float64\n",
      " 4   Superplasticizer (component 5)(kg in a m^3 mixture)    1030 non-null   float64\n",
      " 5   Coarse Aggregate  (component 6)(kg in a m^3 mixture)   1030 non-null   float64\n",
      " 6   Fine Aggregate (component 7)(kg in a m^3 mixture)      1030 non-null   float64\n",
      " 7   Age (day)                                              1030 non-null   int64  \n",
      " 8   Concrete compressive strength(MPa, megapascals)        1030 non-null   float64\n",
      "dtypes: float64(8), int64(1)\n",
      "memory usage: 72.5 KB\n"
     ]
    }
   ],
   "source": [
    "data.info()"
   ]
  },
  {
   "cell_type": "code",
   "execution_count": 10,
   "metadata": {},
   "outputs": [
    {
     "data": {
      "text/html": [
       "<div>\n",
       "<style scoped>\n",
       "    .dataframe tbody tr th:only-of-type {\n",
       "        vertical-align: middle;\n",
       "    }\n",
       "\n",
       "    .dataframe tbody tr th {\n",
       "        vertical-align: top;\n",
       "    }\n",
       "\n",
       "    .dataframe thead th {\n",
       "        text-align: right;\n",
       "    }\n",
       "</style>\n",
       "<table border=\"1\" class=\"dataframe\">\n",
       "  <thead>\n",
       "    <tr style=\"text-align: right;\">\n",
       "      <th></th>\n",
       "      <th>Cement (component 1)(kg in a m^3 mixture)</th>\n",
       "      <th>Blast Furnace Slag (component 2)(kg in a m^3 mixture)</th>\n",
       "      <th>Fly Ash (component 3)(kg in a m^3 mixture)</th>\n",
       "      <th>Water  (component 4)(kg in a m^3 mixture)</th>\n",
       "      <th>Superplasticizer (component 5)(kg in a m^3 mixture)</th>\n",
       "      <th>Coarse Aggregate  (component 6)(kg in a m^3 mixture)</th>\n",
       "      <th>Fine Aggregate (component 7)(kg in a m^3 mixture)</th>\n",
       "      <th>Age (day)</th>\n",
       "      <th>Concrete compressive strength(MPa, megapascals)</th>\n",
       "    </tr>\n",
       "  </thead>\n",
       "  <tbody>\n",
       "    <tr>\n",
       "      <th>count</th>\n",
       "      <td>1030.000000</td>\n",
       "      <td>1030.000000</td>\n",
       "      <td>1030.000000</td>\n",
       "      <td>1030.000000</td>\n",
       "      <td>1030.000000</td>\n",
       "      <td>1030.000000</td>\n",
       "      <td>1030.000000</td>\n",
       "      <td>1030.000000</td>\n",
       "      <td>1030.000000</td>\n",
       "    </tr>\n",
       "    <tr>\n",
       "      <th>mean</th>\n",
       "      <td>281.165631</td>\n",
       "      <td>73.895485</td>\n",
       "      <td>54.187136</td>\n",
       "      <td>181.566359</td>\n",
       "      <td>6.203112</td>\n",
       "      <td>972.918592</td>\n",
       "      <td>773.578883</td>\n",
       "      <td>45.662136</td>\n",
       "      <td>35.817836</td>\n",
       "    </tr>\n",
       "    <tr>\n",
       "      <th>std</th>\n",
       "      <td>104.507142</td>\n",
       "      <td>86.279104</td>\n",
       "      <td>63.996469</td>\n",
       "      <td>21.355567</td>\n",
       "      <td>5.973492</td>\n",
       "      <td>77.753818</td>\n",
       "      <td>80.175427</td>\n",
       "      <td>63.169912</td>\n",
       "      <td>16.705679</td>\n",
       "    </tr>\n",
       "    <tr>\n",
       "      <th>min</th>\n",
       "      <td>102.000000</td>\n",
       "      <td>0.000000</td>\n",
       "      <td>0.000000</td>\n",
       "      <td>121.750000</td>\n",
       "      <td>0.000000</td>\n",
       "      <td>801.000000</td>\n",
       "      <td>594.000000</td>\n",
       "      <td>1.000000</td>\n",
       "      <td>2.331808</td>\n",
       "    </tr>\n",
       "    <tr>\n",
       "      <th>25%</th>\n",
       "      <td>192.375000</td>\n",
       "      <td>0.000000</td>\n",
       "      <td>0.000000</td>\n",
       "      <td>164.900000</td>\n",
       "      <td>0.000000</td>\n",
       "      <td>932.000000</td>\n",
       "      <td>730.950000</td>\n",
       "      <td>7.000000</td>\n",
       "      <td>23.707115</td>\n",
       "    </tr>\n",
       "    <tr>\n",
       "      <th>50%</th>\n",
       "      <td>272.900000</td>\n",
       "      <td>22.000000</td>\n",
       "      <td>0.000000</td>\n",
       "      <td>185.000000</td>\n",
       "      <td>6.350000</td>\n",
       "      <td>968.000000</td>\n",
       "      <td>779.510000</td>\n",
       "      <td>28.000000</td>\n",
       "      <td>34.442774</td>\n",
       "    </tr>\n",
       "    <tr>\n",
       "      <th>75%</th>\n",
       "      <td>350.000000</td>\n",
       "      <td>142.950000</td>\n",
       "      <td>118.270000</td>\n",
       "      <td>192.000000</td>\n",
       "      <td>10.160000</td>\n",
       "      <td>1029.400000</td>\n",
       "      <td>824.000000</td>\n",
       "      <td>56.000000</td>\n",
       "      <td>46.136287</td>\n",
       "    </tr>\n",
       "    <tr>\n",
       "      <th>max</th>\n",
       "      <td>540.000000</td>\n",
       "      <td>359.400000</td>\n",
       "      <td>200.100000</td>\n",
       "      <td>247.000000</td>\n",
       "      <td>32.200000</td>\n",
       "      <td>1145.000000</td>\n",
       "      <td>992.600000</td>\n",
       "      <td>365.000000</td>\n",
       "      <td>82.599225</td>\n",
       "    </tr>\n",
       "  </tbody>\n",
       "</table>\n",
       "</div>"
      ],
      "text/plain": [
       "       Cement (component 1)(kg in a m^3 mixture)  \\\n",
       "count                                1030.000000   \n",
       "mean                                  281.165631   \n",
       "std                                   104.507142   \n",
       "min                                   102.000000   \n",
       "25%                                   192.375000   \n",
       "50%                                   272.900000   \n",
       "75%                                   350.000000   \n",
       "max                                   540.000000   \n",
       "\n",
       "       Blast Furnace Slag (component 2)(kg in a m^3 mixture)  \\\n",
       "count                                        1030.000000       \n",
       "mean                                           73.895485       \n",
       "std                                            86.279104       \n",
       "min                                             0.000000       \n",
       "25%                                             0.000000       \n",
       "50%                                            22.000000       \n",
       "75%                                           142.950000       \n",
       "max                                           359.400000       \n",
       "\n",
       "       Fly Ash (component 3)(kg in a m^3 mixture)  \\\n",
       "count                                 1030.000000   \n",
       "mean                                    54.187136   \n",
       "std                                     63.996469   \n",
       "min                                      0.000000   \n",
       "25%                                      0.000000   \n",
       "50%                                      0.000000   \n",
       "75%                                    118.270000   \n",
       "max                                    200.100000   \n",
       "\n",
       "       Water  (component 4)(kg in a m^3 mixture)  \\\n",
       "count                                1030.000000   \n",
       "mean                                  181.566359   \n",
       "std                                    21.355567   \n",
       "min                                   121.750000   \n",
       "25%                                   164.900000   \n",
       "50%                                   185.000000   \n",
       "75%                                   192.000000   \n",
       "max                                   247.000000   \n",
       "\n",
       "       Superplasticizer (component 5)(kg in a m^3 mixture)  \\\n",
       "count                                        1030.000000     \n",
       "mean                                            6.203112     \n",
       "std                                             5.973492     \n",
       "min                                             0.000000     \n",
       "25%                                             0.000000     \n",
       "50%                                             6.350000     \n",
       "75%                                            10.160000     \n",
       "max                                            32.200000     \n",
       "\n",
       "       Coarse Aggregate  (component 6)(kg in a m^3 mixture)  \\\n",
       "count                                        1030.000000      \n",
       "mean                                          972.918592      \n",
       "std                                            77.753818      \n",
       "min                                           801.000000      \n",
       "25%                                           932.000000      \n",
       "50%                                           968.000000      \n",
       "75%                                          1029.400000      \n",
       "max                                          1145.000000      \n",
       "\n",
       "       Fine Aggregate (component 7)(kg in a m^3 mixture)    Age (day)  \\\n",
       "count                                        1030.000000  1030.000000   \n",
       "mean                                          773.578883    45.662136   \n",
       "std                                            80.175427    63.169912   \n",
       "min                                           594.000000     1.000000   \n",
       "25%                                           730.950000     7.000000   \n",
       "50%                                           779.510000    28.000000   \n",
       "75%                                           824.000000    56.000000   \n",
       "max                                           992.600000   365.000000   \n",
       "\n",
       "       Concrete compressive strength(MPa, megapascals)   \n",
       "count                                       1030.000000  \n",
       "mean                                          35.817836  \n",
       "std                                           16.705679  \n",
       "min                                            2.331808  \n",
       "25%                                           23.707115  \n",
       "50%                                           34.442774  \n",
       "75%                                           46.136287  \n",
       "max                                           82.599225  "
      ]
     },
     "execution_count": 10,
     "metadata": {},
     "output_type": "execute_result"
    }
   ],
   "source": [
    "data.describe(include='all')"
   ]
  },
  {
   "cell_type": "code",
   "execution_count": 11,
   "metadata": {},
   "outputs": [
    {
     "data": {
      "text/plain": [
       "Index(['Cement (component 1)(kg in a m^3 mixture)',\n",
       "       'Blast Furnace Slag (component 2)(kg in a m^3 mixture)',\n",
       "       'Fly Ash (component 3)(kg in a m^3 mixture)',\n",
       "       'Water  (component 4)(kg in a m^3 mixture)',\n",
       "       'Superplasticizer (component 5)(kg in a m^3 mixture)',\n",
       "       'Coarse Aggregate  (component 6)(kg in a m^3 mixture)',\n",
       "       'Fine Aggregate (component 7)(kg in a m^3 mixture)', 'Age (day)',\n",
       "       'Concrete compressive strength(MPa, megapascals) '],\n",
       "      dtype='object')"
      ]
     },
     "execution_count": 11,
     "metadata": {},
     "output_type": "execute_result"
    }
   ],
   "source": [
    "data.columns"
   ]
  },
  {
   "cell_type": "code",
   "execution_count": 12,
   "metadata": {},
   "outputs": [
    {
     "data": {
      "text/plain": [
       "array([540.  , 332.5 , 198.6 , 266.  , 380.  , 475.  , 427.5 , 190.  ,\n",
       "       304.  , 139.6 , 342.  , 237.5 , 349.  , 310.  , 485.  , 374.  ,\n",
       "       313.3 , 425.  , 375.  , 469.  , 388.6 , 531.3 , 318.8 , 401.8 ,\n",
       "       362.6 , 323.7 , 379.5 , 286.3 , 439.  , 389.9 , 337.9 , 222.36,\n",
       "       233.81, 194.68, 190.68, 212.07, 229.97, 190.34, 166.09, 167.95,\n",
       "       213.72, 213.76, 229.68, 238.05, 250.  , 212.52, 212.57, 212.  ,\n",
       "       231.75, 251.37, 181.38, 182.04, 168.88, 290.35, 277.05, 295.71,\n",
       "       251.81, 249.1 , 252.31, 246.83, 275.07, 297.16, 213.74, 213.5 ,\n",
       "       277.19, 218.23, 214.9 , 218.85, 376.  , 500.  , 315.  , 505.  ,\n",
       "       451.  , 516.  , 520.  , 528.  , 385.  , 500.1 , 450.1 , 397.  ,\n",
       "       333.  , 334.  , 405.  , 200.  , 145.  , 160.  , 234.  , 285.  ,\n",
       "       356.  , 275.  , 165.  , 178.03, 167.35, 172.38, 173.54, 167.  ,\n",
       "       173.81, 446.  , 387.  , 355.  , 491.  , 424.  , 202.  , 284.  ,\n",
       "       359.  , 436.  , 289.  , 393.  , 480.  , 255.  , 158.8 , 239.6 ,\n",
       "       238.2 , 181.9 , 193.5 , 255.5 , 272.8 , 220.8 , 382.5 , 210.7 ,\n",
       "       295.8 , 203.5 , 381.4 , 228.  , 316.1 , 135.7 , 238.1 , 339.2 ,\n",
       "       290.2 , 170.3 , 186.2 , 252.5 , 339.  , 236.  , 277.  , 254.  ,\n",
       "       307.  , 225.  , 325.  , 300.  , 400.  , 350.  , 250.2 , 157.  ,\n",
       "       141.3 , 166.8 , 122.6 , 183.9 , 102.  , 108.3 , 305.3 , 116.  ,\n",
       "       133.  , 173.  , 192.  , 153.  , 288.  , 331.  , 238.  , 296.  ,\n",
       "       297.  , 281.  , 382.  , 295.  , 302.  , 525.  , 252.  , 322.  ,\n",
       "       522.  , 273.  , 162.  , 154.  , 147.  , 152.  , 144.  , 159.  ,\n",
       "       305.  , 151.  , 142.  , 298.  , 321.  , 366.  , 280.  , 156.  ,\n",
       "       318.  , 287.  , 326.  , 132.  , 164.  , 314.  , 140.  , 265.  ,\n",
       "       166.  , 276.  , 149.  , 261.  , 237.  , 313.  , 155.  , 146.  ,\n",
       "       148.  , 262.  , 158.  , 143.  , 260.  , 336.  , 150.  , 135.  ,\n",
       "       136.  , 184.  , 236.9 , 154.8 , 145.9 , 133.1 , 151.6 , 153.1 ,\n",
       "       139.9 , 149.5 , 299.8 , 148.1 , 326.5 , 152.7 , 261.9 , 158.4 ,\n",
       "       150.7 , 272.6 , 259.9 , 312.9 , 336.5 , 144.8 , 143.7 , 330.5 ,\n",
       "       134.7 , 266.2 , 312.7 , 145.7 , 143.8 , 298.1 , 155.2 , 147.8 ,\n",
       "       145.4 , 136.4 , 255.3 , 153.6 , 146.5 , 151.8 , 309.9 , 143.6 ,\n",
       "       303.6 , 374.3 , 158.6 , 152.6 , 304.8 , 150.9 , 141.9 , 297.8 ,\n",
       "       321.3 , 279.8 , 252.1 , 164.6 , 155.6 , 160.2 , 317.9 , 287.3 ,\n",
       "       325.6 , 355.9 , 322.5 , 164.2 , 313.8 , 321.4 , 139.7 , 288.4 ,\n",
       "       298.2 , 264.5 , 159.8 , 276.4 , 322.2 , 148.5 , 159.1 , 260.9 ])"
      ]
     },
     "execution_count": 12,
     "metadata": {},
     "output_type": "execute_result"
    }
   ],
   "source": [
    "data['Cement (component 1)(kg in a m^3 mixture)'].unique()"
   ]
  },
  {
   "cell_type": "code",
   "execution_count": 13,
   "metadata": {},
   "outputs": [
    {
     "data": {
      "text/plain": [
       "array([0.000e+00, 1.425e+02, 1.324e+02, 1.140e+02, 9.500e+01, 4.750e+01,\n",
       "       1.900e+02, 7.600e+01, 2.094e+02, 3.800e+01, 2.375e+02, 1.892e+02,\n",
       "       2.622e+02, 1.063e+02, 9.380e+01, 1.188e+02, 1.172e+02, 9.710e+01,\n",
       "       2.125e+02, 9.470e+01, 1.890e+02, 2.828e+02, 1.512e+02, 2.009e+02,\n",
       "       1.770e+02, 4.208e+01, 9.805e+01, 9.806e+01, 4.521e+01, 4.222e+01,\n",
       "       9.782e+01, 5.464e+01, 5.380e+01, 1.370e+02, 5.000e+01, 1.720e+01,\n",
       "       1.750e+01, 1.760e+01, 2.000e+02, 1.160e+02, 1.280e+02, 1.560e+02,\n",
       "       1.800e+02, 1.190e+02, 2.000e-02, 1.285e+02, 1.298e+02, 1.299e+02,\n",
       "       1.361e+01, 5.005e+01, 7.540e+01, 9.337e+01, 2.400e+01, 2.000e+01,\n",
       "       1.900e+01, 2.600e+01, 2.200e+01, 1.100e+01, 1.500e+01, 2.382e+02,\n",
       "       3.594e+02, 1.588e+02, 2.728e+02, 2.902e+02, 1.703e+02, 1.819e+02,\n",
       "       1.472e+02, 3.161e+02, 1.357e+02, 3.421e+02, 2.107e+02, 2.035e+02,\n",
       "       1.935e+02, 1.555e+02, 1.241e+02, 3.053e+02, 1.668e+02, 2.360e+02,\n",
       "       2.120e+02, 2.502e+02, 1.839e+02, 1.226e+02, 1.530e+02, 1.330e+02,\n",
       "       1.624e+02, 1.730e+02, 2.880e+02, 1.020e+02, 1.920e+02, 1.570e+02,\n",
       "       1.413e+02, 1.050e+02, 1.440e+02, 1.150e+02, 1.780e+02, 1.430e+02,\n",
       "       1.400e+02, 1.490e+02, 2.390e+02, 1.670e+02, 1.640e+02, 1.870e+02,\n",
       "       1.290e+02, 9.700e+01, 2.430e+02, 1.880e+02, 1.210e+02, 1.660e+02,\n",
       "       2.070e+02, 1.110e+02, 2.500e+02, 2.600e+02, 1.390e+02, 1.000e+02,\n",
       "       9.200e+01, 1.830e+02, 2.300e+02, 2.100e+02, 1.450e+02, 1.180e+02,\n",
       "       1.690e+02, 1.010e+02, 1.610e+02, 1.200e+02, 2.370e+02, 1.700e+02,\n",
       "       1.120e+02, 1.360e+02, 1.170e+02, 1.840e+02, 1.340e+02, 1.750e+02,\n",
       "       1.620e+02, 9.900e+01, 1.960e+02, 1.630e+02, 2.140e+02, 2.090e+02,\n",
       "       1.740e+02, 8.600e+01, 9.170e+01, 1.834e+02, 2.305e+02, 2.102e+02,\n",
       "       1.326e+02, 1.447e+02, 1.105e+02, 1.176e+02, 1.694e+02, 1.006e+02,\n",
       "       1.605e+02, 1.197e+02, 2.368e+02, 1.702e+02, 1.696e+02, 1.123e+02,\n",
       "       1.453e+02, 1.726e+02, 1.363e+02, 1.168e+02, 1.337e+02, 1.751e+02,\n",
       "       1.616e+02, 9.880e+01, 1.051e+02, 1.901e+02, 1.442e+02, 1.146e+02,\n",
       "       1.781e+02, 1.428e+02, 1.399e+02, 1.489e+02, 2.387e+02, 1.666e+02,\n",
       "       1.372e+02, 1.642e+02, 1.289e+02, 2.435e+02, 1.205e+02, 1.664e+02,\n",
       "       2.065e+02, 1.486e+02, 1.639e+02, 2.597e+02, 1.394e+02, 1.867e+02,\n",
       "       1.005e+02])"
      ]
     },
     "execution_count": 13,
     "metadata": {},
     "output_type": "execute_result"
    }
   ],
   "source": [
    "data['Blast Furnace Slag (component 2)(kg in a m^3 mixture)'].unique()"
   ]
  },
  {
   "cell_type": "code",
   "execution_count": 14,
   "metadata": {},
   "outputs": [
    {
     "data": {
      "text/plain": [
       "array([  0.  ,  96.67,  94.58, 100.52, 125.4 , 121.62, 118.31, 125.18,\n",
       "       163.27, 163.83,  24.51,  24.52, 118.16,  94.11,  95.69, 100.37,\n",
       "       100.39, 124.78, 118.27, 167.01, 121.97, 124.25,  96.18,  97.39,\n",
       "        95.64,  99.94,  98.75, 125.08, 121.35, 117.54, 174.74, 174.24,\n",
       "        24.46, 123.78, 121.89, 124.13,  59.  ,  60.  , 136.  , 158.  ,\n",
       "       163.  , 119.  , 122.  ,  95.  , 120.  , 143.57, 132.1 , 118.6 ,\n",
       "       128.62, 172.37, 173.53, 167.  , 159.9 ,  79.  ,  94.  ,  97.  ,\n",
       "       123.  , 132.  , 141.  ,  82.  , 148.  , 112.  ,  89.  , 139.  ,\n",
       "       111.  , 175.  , 116.  , 100.  , 184.  , 130.  , 107.  ,  76.  ,\n",
       "       150.  , 146.  , 126.  , 142.  , 161.  , 200.  , 113.  , 128.  ,\n",
       "        86.  ,  90.  , 109.  ,  78.  ,  71.  , 103.  , 137.  , 138.  ,\n",
       "       195.  , 185.  ,  92.  , 143.  , 134.  , 133.  , 166.  ,  87.  ,\n",
       "       106.  , 182.  ,  91.  , 179.  ,  77.  , 172.  ,  98.  , 164.  ,\n",
       "       152.  , 194.  , 193.  , 190.  , 187.  ,  71.5 , 106.7 , 111.9 ,\n",
       "       103.3 , 119.8 , 136.6 , 137.9 ,  86.1 , 194.9 , 185.3 ,  89.6 ,\n",
       "        91.7 , 142.7 ,  78.4 , 133.6 , 132.6 , 142.8 , 165.7 ,  87.5 ,\n",
       "       113.2 , 106.2 , 182.1 , 107.5 , 143.2 , 178.9 , 125.8 ,  81.8 ,\n",
       "       148.1 , 112.3 ,  89.3 , 138.7 , 111.2 , 174.9 ,  99.6 , 183.9 ,\n",
       "       129.7 , 106.9 , 100.4 ,  75.6 , 150.4 , 146.4 , 126.5 ,  93.9 ,\n",
       "       141.6 , 160.9 , 200.1 , 112.6 , 127.9 , 127.7 ,  86.5 ,  90.3 ,\n",
       "       115.6 , 108.6 ,  78.3 ])"
      ]
     },
     "execution_count": 14,
     "metadata": {},
     "output_type": "execute_result"
    }
   ],
   "source": [
    "data['Fly Ash (component 3)(kg in a m^3 mixture)'].unique()"
   ]
  },
  {
   "cell_type": "code",
   "execution_count": 15,
   "metadata": {},
   "outputs": [
    {
     "data": {
      "text/plain": [
       "array([162.  , 228.  , 192.  , 146.  , 170.1 , 175.5 , 153.5 , 151.4 ,\n",
       "       126.6 , 181.1 , 137.8 , 157.9 , 141.8 , 155.7 , 147.4 , 164.9 ,\n",
       "       183.8 , 153.9 , 144.7 , 186.  , 145.9 , 174.9 , 189.29, 197.89,\n",
       "       165.62, 162.14, 180.31, 195.47, 161.85, 176.46, 121.75, 181.71,\n",
       "       181.74, 195.23, 186.66, 187.42, 159.32, 159.35, 159.  , 173.96,\n",
       "       188.45, 169.59, 170.21, 158.33, 168.08, 160.6 , 171.54, 146.14,\n",
       "       158.11, 146.25, 143.3 , 159.48, 174.8 , 154.79, 154.61, 160.7 ,\n",
       "       140.75, 155.63, 158.49, 214.6 , 140.  , 142.  , 145.  , 195.  ,\n",
       "       165.  , 170.  , 185.  , 175.  , 158.  , 200.  , 167.  , 189.  ,\n",
       "       190.  , 184.  , 182.  , 163.  , 160.  , 151.  , 163.81, 175.06,\n",
       "       179.94, 175.46, 156.76, 164.77, 164.03, 172.34, 166.61, 191.84,\n",
       "       159.21, 170.17, 192.94, 157.  , 210.  , 201.  , 178.  , 168.  ,\n",
       "       206.  , 179.  , 154.  , 218.  , 185.7 , 197.  , 194.  , 193.  ,\n",
       "       191.  , 198.  , 180.  , 181.  , 183.  , 187.  , 203.5 , 173.  ,\n",
       "       203.  , 220.  , 202.  , 214.  , 196.  , 174.  , 172.  , 188.  ,\n",
       "       237.  , 177.  , 176.  , 247.  , 221.  , 212.  , 199.  , 171.  ,\n",
       "       127.  , 164.  , 216.  , 213.  , 246.9 , 178.5 , 193.3 , 202.5 ,\n",
       "       221.4 , 195.7 , 184.4 , 200.3 , 175.8 , 211.5 , 158.1 , 178.1 ,\n",
       "       195.4 , 219.7 , 166.7 , 198.7 , 182.9 , 190.7 , 170.6 , 177.6 ,\n",
       "       168.3 , 181.9 , 180.8 , 173.8 , 191.6 , 194.9 , 180.2 , 177.9 ,\n",
       "       178.9 , 127.3 , 181.4 , 190.6 , 163.6 , 193.8 , 171.2 , 201.7 ,\n",
       "       171.6 , 188.6 , 209.7 , 178.8 , 220.1 , 201.9 , 167.5 , 167.8 ,\n",
       "       158.4 , 213.5 , 190.2 , 175.1 , 167.9 , 166.6 , 173.5 , 201.3 ,\n",
       "       190.5 , 191.3 , 172.4 , 181.6 , 180.3 , 203.2 , 186.4 , 187.6 ,\n",
       "       185.8 , 181.2 , 169.9 , 182.5 , 236.7 , 177.4 , 195.5 , 168.4 ,\n",
       "       183.2 , 179.6 , 192.7 , 175.6 , 200.6 ])"
      ]
     },
     "execution_count": 15,
     "metadata": {},
     "output_type": "execute_result"
    }
   ],
   "source": [
    "data['Water  (component 4)(kg in a m^3 mixture)'].unique()"
   ]
  },
  {
   "cell_type": "code",
   "execution_count": 16,
   "metadata": {},
   "outputs": [
    {
     "data": {
      "text/plain": [
       "array([ 2.5  ,  0.   , 10.1  ,  8.6  , 16.5  , 18.6  , 23.4  ,  8.9  ,\n",
       "       32.2  , 12.1  , 28.2  , 14.3  , 11.4  , 11.6  , 10.3  , 15.9  ,\n",
       "       11.2  , 11.1  , 22.   ,  9.5  ,  4.46 ,  4.567,  7.48 ,  7.77 ,\n",
       "        5.69 ,  4.63 ,  9.88 ,  4.49 ,  5.72 ,  6.86 ,  6.65 ,  6.13 ,\n",
       "        7.   ,  5.53 ,  8.71 , 10.37 ,  7.84 ,  6.72 ,  5.75 ,  6.35 ,\n",
       "        7.56 ,  8.19 , 10.83 ,  9.41 , 11.83 ,  8.87 , 12.35 , 12.8  ,\n",
       "       14.17 , 11.99 ,  9.9  ,  9.52 , 10.16 , 11.66 , 11.19 , 11.91 ,\n",
       "        9.61 , 11.33 ,  4.   ,  1.9  ,  5.9  , 11.25 ,  8.2  ,  5.2  ,\n",
       "       20.   ,  3.   , 20.8  , 17.9  , 15.3  ,  8.26 ,  5.7  ,  6.4  ,\n",
       "        5.85 ,  9.45 ,  7.6  ,  9.03 , 10.35 ,  9.   ,  8.08 ,  3.57 ,\n",
       "        7.79 ,  4.14 ,  6.47 ,  7.91 ,  9.73 ,  5.33 , 11.61 , 11.64 ,\n",
       "       14.32 , 13.93 , 13.13 , 12.25 ,  3.93 ,  8.48 ,  8.92 ,  1.72 ,\n",
       "        5.46 , 10.91 , 19.   , 10.   , 18.   ,  6.   , 15.   , 12.   ,\n",
       "       11.   ,  5.   ,  8.   , 13.   , 16.   ,  2.   ,  9.1  ,  3.4  ,\n",
       "       10.5  ,  3.1  ,  7.9  ,  7.4  , 12.6  , 16.1  , 10.8  , 15.6  ,\n",
       "       10.6  ,  7.1  ,  8.4  , 10.4  ,  9.6  ,  7.2  , 11.9  ,  8.5  ,\n",
       "        8.1  ,  7.5  ,  9.2  ,  5.5  ,  2.2  ,  7.8  ,  6.5  , 18.8  ,\n",
       "        8.8  , 18.3  , 22.1  ,  6.2  ,  6.7  ,  6.3  ,  9.8  , 10.9  ,\n",
       "        4.6  ,  6.6  ,  8.3  , 11.7  , 10.7  , 11.3  ,  6.1  , 11.5  ,\n",
       "        5.8  , 12.2  , 12.7  ])"
      ]
     },
     "execution_count": 16,
     "metadata": {},
     "output_type": "execute_result"
    }
   ],
   "source": [
    "data['Superplasticizer (component 5)(kg in a m^3 mixture)'].unique()"
   ]
  },
  {
   "cell_type": "code",
   "execution_count": 17,
   "metadata": {},
   "outputs": [
    {
     "data": {
      "text/plain": [
       "array([1040.  , 1055.  ,  932.  ,  978.4 , 1047.  ,  971.  , 1120.  ,\n",
       "        926.1 , 1046.9 ,  852.1 ,  936.  ,  946.8 ,  944.7 ,  942.7 ,\n",
       "       1134.3 , 1004.6 ,  884.9 ,  967.08,  947.04, 1006.4 , 1090.  ,\n",
       "       1057.6 , 1029.4 , 1088.1 , 1058.6 , 1058.7 , 1065.8 , 1066.  ,\n",
       "       1028.1 ,  949.91,  956.86, 1007.8 , 1003.8 , 1085.4 , 1056.4 ,\n",
       "       1028.4 , 1055.6 , 1059.4 , 1080.8 ,  961.18,  973.9 ,  955.14,\n",
       "       1006.  ,  987.76, 1086.8 , 1053.6 , 1022.8 , 1053.5 , 1052.3 ,\n",
       "       1061.7 , 1075.7 , 1014.3 , 1078.7 , 1003.5 ,  966.  , 1098.  ,\n",
       "       1130.  , 1030.  ,  801.  ,  855.  ,  920.  ,  870.  ,  903.  ,\n",
       "       1124.4 ,  967.  ,  996.  , 1145.  ,  833.  ,  824.  ,  981.  ,\n",
       "        860.  , 1044.  , 1031.  , 1061.  ,  830.  , 1033.  , 1005.6 ,\n",
       "       1005.8 , 1007.3 , 1006.3 , 1006.2 , 1007.2 , 1079.  ,  948.9 ,\n",
       "       1043.6 ,  998.  ,  938.  ,  882.  ,  822.  ,  942.  ,  842.  ,\n",
       "        838.4 ,  913.2 ,  940.6 ,  936.2 ,  931.2 ,  889.8 , 1040.6 ,\n",
       "        941.6 , 1012.4 ,  998.2 , 1026.6 , 1047.8 ,  977.  , 1091.4 ,\n",
       "       1076.2 , 1104.6 ,  955.8 , 1118.8 , 1069.2 , 1083.4 , 1111.6 ,\n",
       "        968.  , 1125.  , 1113.  , 1063.  , 1088.  , 1075.  , 1038.  ,\n",
       "       1025.  , 1100.  , 1050.  ,  963.4 ,  977.6 ,  935.4 ,  971.8 ,\n",
       "        975.6 ,  958.2 ,  959.2 ,  887.  ,  965.4 ,  938.2 ,  909.8 ,\n",
       "        927.4 ,  929.8 ,  888.  ,  972.6 ,  973.4 , 1012.  , 1056.  ,\n",
       "       1119.  , 1104.  ,  974.  ,  978.  , 1111.  , 1069.  , 1118.  ,\n",
       "       1085.  ,  879.  , 1060.  ,  940.  ,  970.  ,  896.  ,  904.  ,\n",
       "        838.  ,  923.  ,  944.  ,  914.  ,  943.  ,  895.  , 1013.  ,\n",
       "        953.  , 1002.  ,  959.  ,  991.  ,  883.  ,  878.  ,  825.  ,\n",
       "        835.  , 1023.  , 1022.  ,  829.  ,  861.  ,  867.  ,  951.  ,\n",
       "        849.  ,  925.  ,  869.  ,  908.  ,  880.  , 1049.  ,  859.  ,\n",
       "        818.  ,  892.  ,  990.  ,  864.  ,  853.  ,  827.  ,  819.  ,\n",
       "        949.  ,  992.  ,  916.  ,  847.  , 1000.  ,  898.  , 1074.  ,\n",
       "        931.  ,  917.  ,  986.  ,  979.  ,  814.  ,  811.  ,  877.  ,\n",
       "        961.  ,  910.  ,  941.  ,  839.  ,  946.  ,  924.  ,  919.  ,\n",
       "        820.  ,  935.  ,  965.  ,  848.  , 1021.  ,  845.  ,  854.  ,\n",
       "        852.9 , 1001.9 , 1047.4 ,  819.2 ,  949.4 ,  867.2 ,  846.8 ,\n",
       "        878.2 , 1001.8 ,  801.1 ,  999.7 ,  895.2 ,  897.7 , 1074.5 ,\n",
       "        931.3 ,  953.4 ,  967.4 ,  935.7 ,  916.6 ,  970.4 ,  985.8 ,\n",
       "        979.5 , 1069.3 ,  814.1 ,  877.2 ,  909.7 ,  869.1 ,  941.5 ,\n",
       "        838.9 ,  946.5 ,  953.2 ,  879.6 ,  924.1 ,  922.6 ,  838.1 ,\n",
       "        923.2 ,  913.9 ,  895.5 , 1013.2 ,  953.3 ,  914.3 ,  959.4 ,\n",
       "        991.2 ,  882.6 ,  878.4 ,  824.3 ,  825.1 ,  835.5 , 1023.3 ,\n",
       "        828.7 ,  860.5 ,  904.4 ,  881.6 ,  801.4 ,  866.9 ,  849.3 ,\n",
       "        925.3 ,  870.1 ,  868.6 ,  907.9 ,  832.6 , 1049.3 ,  858.8 ,\n",
       "        817.9 ,  892.4 ,  989.6 ,  864.5 ])"
      ]
     },
     "execution_count": 17,
     "metadata": {},
     "output_type": "execute_result"
    }
   ],
   "source": [
    "data['Coarse Aggregate  (component 6)(kg in a m^3 mixture)'].unique()"
   ]
  },
  {
   "cell_type": "code",
   "execution_count": 18,
   "metadata": {},
   "outputs": [
    {
     "data": {
      "text/plain": [
       "array([676.  , 594.  , 825.5 , 670.  , 806.9 , 850.6 , 800.  , 756.7 ,\n",
       "       611.8 , 887.1 , 803.7 , 992.6 , 781.5 , 840.5 , 925.7 , 893.7 ,\n",
       "       880.4 , 852.1 , 755.8 , 659.9 , 605.  , 707.9 , 870.32, 852.16,\n",
       "       905.9 , 804.01, 779.32, 758.59, 802.59, 780.09, 780.11, 785.38,\n",
       "       785.52, 757.63, 847.01, 861.17, 903.59, 903.79, 799.54, 778.45,\n",
       "       757.73, 777.8 , 780.65, 796.15, 865.  , 875.61, 859.2 , 899.76,\n",
       "       889.01, 800.89, 777.5 , 753.45, 776.35, 775.48, 782.46, 792.67,\n",
       "       780.58, 794.91, 762.36, 853.  , 641.  , 745.  , 630.  , 802.  ,\n",
       "       855.  , 720.  , 805.  , 768.  , 613.2 , 633.  , 652.  , 695.  ,\n",
       "       660.  , 880.  , 879.  , 760.  , 662.  , 685.  , 657.  , 765.  ,\n",
       "       655.  , 900.9 , 746.6 , 746.8 , 856.4 , 793.5 , 770.1 , 798.9 ,\n",
       "       857.2 , 771.9 , 901.8 , 754.3 , 712.  , 845.  , 871.  , 699.  ,\n",
       "       750.  , 801.  , 719.7 , 895.3 , 785.6 , 712.2 , 842.6 , 945.  ,\n",
       "       734.3 , 664.3 , 714.3 , 704.3 , 724.3 , 744.3 , 739.3 , 689.3 ,\n",
       "       769.3 , 759.3 , 784.3 , 674.3 , 789.3 , 764.3 , 781.  , 885.  ,\n",
       "       856.  , 863.  , 812.  , 833.  , 783.  , 808.  , 795.  , 758.  ,\n",
       "       820.  , 770.  , 694.1 , 781.2 , 748.5 , 692.6 , 800.1 , 942.  ,\n",
       "       806.2 , 849.  , 631.  , 891.9 , 839.2 , 856.8 , 716.1 , 943.1 ,\n",
       "       717.8 , 749.1 , 830.  , 821.  , 809.  , 789.  , 769.  , 734.  ,\n",
       "       721.  , 774.  , 613.  , 775.  , 763.  , 825.  , 806.  , 739.  ,\n",
       "       784.  , 754.  , 817.  , 850.  , 896.  , 680.  , 741.  , 658.  ,\n",
       "       829.  , 651.  , 844.  , 722.  , 730.  , 684.  , 804.  , 705.  ,\n",
       "       772.  , 785.  , 757.  , 729.  , 698.  , 710.  , 815.  , 737.  ,\n",
       "       696.  , 790.  , 778.  , 736.  , 709.  , 846.  , 780.  , 656.  ,\n",
       "       744.  , 688.  , 827.  , 813.  , 761.  , 689.  , 697.  , 872.  ,\n",
       "       824.  , 816.  , 753.  , 893.  , 728.  , 792.  , 822.  , 733.  ,\n",
       "       713.  , 678.  , 762.  , 643.  , 759.  , 794.  , 675.  , 868.  ,\n",
       "       690.  , 884.  , 666.  , 828.  , 869.  , 764.  , 749.  , 638.  ,\n",
       "       704.  , 623.  , 669.  , 612.  , 636.  , 614.  , 695.4 , 688.7 ,\n",
       "       696.7 , 871.8 , 778.4 , 795.3 , 815.9 , 753.4 , 892.7 , 727.6 ,\n",
       "       830.1 , 792.5 , 822.2 , 732.6 , 712.9 , 762.2 , 780.3 , 643.5 ,\n",
       "       762.9 , 759.5 , 794.2 , 816.8 , 811.5 , 674.8 , 805.3 , 802.3 ,\n",
       "       867.7 , 804.9 , 744.5 , 690.2 , 774.3 , 884.3 , 665.6 , 698.5 ,\n",
       "       760.1 , 828.5 , 868.7 , 764.4 , 749.3 , 679.7 , 741.4 , 657.9 ,\n",
       "       829.5 , 694.6 , 651.2 , 844.5 , 722.5 , 730.4 , 683.9 , 705.2 ,\n",
       "       772.2 , 785.3 , 655.3 , 756.9 , 821.4 , 728.9 , 697.7 , 709.7 ,\n",
       "       815.2 , 736.6 , 695.9 , 735.6 , 709.5 , 782.9 , 779.7 , 655.6 ,\n",
       "       744.2 , 790.4 , 688.2 , 826.8 , 768.3 , 813.4 , 788.9 , 761.5 ])"
      ]
     },
     "execution_count": 18,
     "metadata": {},
     "output_type": "execute_result"
    }
   ],
   "source": [
    "data['Fine Aggregate (component 7)(kg in a m^3 mixture)'].unique()"
   ]
  },
  {
   "cell_type": "code",
   "execution_count": 19,
   "metadata": {},
   "outputs": [
    {
     "data": {
      "text/plain": [
       "array([ 28, 270, 365, 360,  90, 180,   3,   7,  56,  91,  14, 100, 120,\n",
       "         1], dtype=int64)"
      ]
     },
     "execution_count": 19,
     "metadata": {},
     "output_type": "execute_result"
    }
   ],
   "source": [
    "data['Age (day)'].unique()"
   ]
  },
  {
   "cell_type": "code",
   "execution_count": 20,
   "metadata": {},
   "outputs": [
    {
     "data": {
      "text/plain": [
       "array([79.98611076, 61.88736576, 40.26953526, 41.05277999, 44.2960751 ,\n",
       "       47.02984744, 43.6982994 , 36.44776979, 45.85429086, 39.28978986,\n",
       "       38.07424367, 28.02168359, 43.01296026, 42.32693164, 47.81378165,\n",
       "       52.90831981, 39.35804798, 56.14196225, 40.56325203, 42.62064842,\n",
       "       41.8367142 , 28.23748958,  8.06342182, 44.20782217, 52.51669744,\n",
       "       53.30063166, 41.15137506, 52.1243856 , 37.42751518, 38.60376124,\n",
       "       55.26012245, 41.71950328, 42.13112046, 53.69225402, 38.40795006,\n",
       "       30.07976945, 37.72192144, 42.22902605, 36.2519586 , 50.45930106,\n",
       "       38.99538361, 53.104131  , 41.54299743, 35.07640202, 15.04919265,\n",
       "       40.75906322, 26.25800398, 32.82319446, 39.77931782, 46.93194184,\n",
       "       33.11691123, 49.18514941, 14.58931216, 14.63826496, 41.9346198 ,\n",
       "        9.13142014, 50.94882902, 33.01900564, 54.37828264, 51.73276323,\n",
       "        9.86640156, 50.65511224, 48.69562145, 55.06431126, 44.6980396 ,\n",
       "       30.27558064, 40.85696881, 71.98818916, 34.39795764, 28.79941252,\n",
       "       33.39821744, 36.3009114 , 28.99936056, 37.79707432, 40.1964508 ,\n",
       "       28.096147  , 41.2996124 , 25.2003478 , 41.09966436, 35.3011712 ,\n",
       "       28.29609504, 28.59946448, 24.40055564, 39.300132  , 40.59634688,\n",
       "       24.0971862 , 46.20178676, 42.79577532, 49.20100736, 46.80163088,\n",
       "       45.69846928, 55.59934464, 54.89607912, 34.90127512, 46.89815752,\n",
       "       54.09628696, 55.89581932, 49.80085148, 47.09810556, 37.99702236,\n",
       "       56.09576736, 59.09498796, 22.89749796, 35.10122316, 61.09446836,\n",
       "       59.79825348, 60.2946762 , 61.79773388, 56.69561148, 68.29949256,\n",
       "       66.89985628, 50.69717028, 56.3991368 , 55.49592324, 68.4994406 ,\n",
       "       71.29871316, 74.69782984, 52.20022796, 67.69964844, 65.99664272,\n",
       "       74.4978818 , 49.89737812, 63.3973182 , 64.90037588, 64.30053176,\n",
       "       60.19814956, 72.29845336, 69.29923276, 55.19944856, 58.79851328,\n",
       "       66.10006412, 73.69808964, 77.29715436, 80.19984832, 72.99482412,\n",
       "       71.69860924, 79.40005616, 59.89478012, 66.59648684, 65.19685056,\n",
       "       66.69990824, 62.5009994 , 74.19451236, 70.69886904, 57.59882504,\n",
       "       59.19840936, 68.09954452, 75.497622  , 79.29663476, 56.49566344,\n",
       "       76.80073164, 73.29819356, 82.5992248 , 67.79617508, 11.57630204,\n",
       "       24.44881896, 24.8900836 , 29.44751996, 40.7135578 , 10.38350856,\n",
       "       22.13907436, 22.83544512, 27.66177712, 34.55653712, 12.45193656,\n",
       "       24.98661024, 25.72434956, 33.96358776, 37.34202016, 15.04436632,\n",
       "       21.0634918 , 26.40003604, 35.34253976, 40.56876784, 12.47262084,\n",
       "       20.91870184, 24.90387312, 34.20490436, 39.6103962 , 10.0318758 ,\n",
       "       20.08443588, 24.48329276, 31.53663224,  9.4458212 , 22.7182342 ,\n",
       "       28.46846404, 38.56239268, 40.38950408, 10.76272036, 25.48303296,\n",
       "       21.53923024, 28.62704352, 33.5430074 ,  7.74971024, 17.8229546 ,\n",
       "       24.24197616, 32.8535314 , 39.2311844 , 17.9953236 , 30.38520732,\n",
       "       45.70536404, 50.77301264, 53.90323368, 13.18278112, 17.83674412,\n",
       "       40.2309246 , 47.13257936, 49.97322048, 13.35515012, 22.31833812,\n",
       "       24.53845084, 31.35047372, 40.85834776, 19.93275116, 25.68987576,\n",
       "       30.2335226 , 39.58971192, 44.298833  , 13.81709904, 24.91766264,\n",
       "       29.21999288, 38.32797084, 42.34761592, 13.54130864, 26.31040416,\n",
       "       31.64005364, 42.54756396, 42.919881  , 13.33446584, 25.3727168 ,\n",
       "       37.404073  , 44.39535964, 47.73931824, 19.51906556, 38.50033984,\n",
       "       45.08483564, 47.8151606 , 15.43736764, 26.77235308, 33.72916592,\n",
       "       42.69924868, 45.83636448, 17.22311048, 29.93015316, 29.65436276,\n",
       "       36.96970312, 43.58177796, 13.12072828, 24.42813468, 32.66047812,\n",
       "       36.63875464, 44.20920112, 13.62404576, 21.60128308, 27.77209328,\n",
       "       35.57006684, 45.3675208 ,  7.31534036, 21.50475644, 31.2677366 ,\n",
       "       43.49904084, 48.67011084,  7.39807748, 23.5111316 , 31.11605188,\n",
       "       39.14844728, 48.15300384, 22.50449664, 34.67374804, 34.73580088,\n",
       "       48.97348028, 23.13881456, 41.885667  , 48.28400428, 51.03501352,\n",
       "       55.6407132 , 22.94576128, 35.2322236 , 39.94134468, 48.71837416,\n",
       "       52.04164848, 21.02212324, 33.35684888, 33.94290348, 44.14025352,\n",
       "       15.36152528, 28.6822016 , 30.84715624, 42.03045696, 51.0556978 ,\n",
       "       21.78054684, 42.29245784, 50.60064364, 55.82687172, 60.9496784 ,\n",
       "       23.52492112, 42.21661548, 52.5035974 , 60.32225524, 66.42411784,\n",
       "       23.80071152, 38.76923548, 51.3314882 , 56.8472962 , 58.60546   ,\n",
       "       21.91154728, 36.9903874 , 47.401475  , 51.95891136, 56.7438748 ,\n",
       "       17.57474324, 40.14818748, 46.6430514 , 50.07664188, 17.36790044,\n",
       "       33.70158688, 45.93978588, 51.4349096 , 59.30183076, 30.44726016,\n",
       "       47.7117392 , 63.14221208, 66.82401392, 66.9481196 , 27.42046052,\n",
       "       35.9561734 , 55.50971276, 61.99078716, 63.52831864, 18.01600788,\n",
       "       53.95839176, 56.63355864, 15.340841  , 26.04840328, 30.21973308,\n",
       "       37.2661778 , 46.2293658 , 16.27852836, 25.62092816, 31.97100212,\n",
       "       43.0577762 , 67.568648  , 57.226508  , 81.75116932, 64.0178466 ,\n",
       "       78.80021204, 41.36856   , 60.28088668, 56.83350668, 51.021224  ,\n",
       "       55.55108132, 44.13335876, 39.37597436, 55.64760796, 47.27736932,\n",
       "       44.32641204, 52.30364936, 49.24927068, 29.15794004, 39.39665864,\n",
       "       67.86512268, 58.52272288, 53.57917996, 58.99846132, 76.23536132,\n",
       "       69.83702404, 14.39625888, 19.41564416, 20.72564856, 14.94094492,\n",
       "       21.29101888, 23.07676172, 15.52010476, 15.81657944, 12.5484632 ,\n",
       "        8.48744956, 15.60973664, 12.17614616, 11.98309288, 16.87837248,\n",
       "       33.08795324, 34.23937816, 31.81242264, 29.7508894 , 33.00521612,\n",
       "       32.90179472, 29.55094136, 24.65566176, 29.59230992, 24.28334472,\n",
       "       26.200088  , 46.38794528, 39.1622368 , 41.20308576, 33.68779736,\n",
       "       38.20386516, 41.40992856, 37.81086384, 24.84871504, 27.22051248,\n",
       "       44.63667624, 33.27411176, 36.56291228, 53.72396992, 48.58737372,\n",
       "       51.72448952, 35.852752  , 53.77223324, 53.46196904, 48.9872698 ,\n",
       "       31.715896  , 39.64487   , 51.25564584, 43.38872468, 39.2656582 ,\n",
       "       37.9556538 , 55.0201848 , 49.99390476, 53.65502232, 37.6798634 ,\n",
       "       56.06129356, 56.8128224 , 50.93848688, 33.56369168, 41.1617172 ,\n",
       "       52.95865156, 44.27814872, 57.02655996, 44.42293868, 53.38612668,\n",
       "       35.36322404, 25.02108404, 23.34565736, 52.00717468, 38.01770664,\n",
       "       61.06688932, 56.14403068, 55.25460664, 54.76507868, 50.23522136,\n",
       "       46.68441996, 22.752708  , 25.510612  , 34.77027468, 36.83870268,\n",
       "       45.89841732, 41.66503468, 56.33708396, 47.96684532, 61.45989064,\n",
       "       44.02993736, 55.45455468, 57.915984  , 25.60910857, 33.48883428,\n",
       "       59.59042572, 29.54897143, 37.92118   , 61.85584685, 62.05284   ,\n",
       "       32.01138572, 72.09850532, 39.00464228, 65.69721315, 32.10988228,\n",
       "       40.28509772, 74.36491146, 21.96670536,  9.84965715, 15.06997543,\n",
       "       23.24519085, 43.73346268, 13.39553372, 24.13166   , 44.52045028,\n",
       "       62.93536928, 59.49488404, 25.11662572, 23.63917715, 35.75425543,\n",
       "       38.610656  , 68.75060685, 66.78067543, 23.84897484, 32.06821824,\n",
       "       11.6549023 , 19.1991487 , 48.8466167 , 39.60488039, 43.94237391,\n",
       "       34.56963716, 54.31554033, 24.4046925 , 15.61594192, 21.8591471 ,\n",
       "       10.22217118, 14.5968964 , 18.74616296, 31.96686526, 23.4049523 ,\n",
       "       25.57335432, 41.68020315, 27.74244581,  8.20407492,  9.61750072,\n",
       "       25.42235907, 15.69109481, 27.93549909, 32.6266938 , 17.23621052,\n",
       "       19.76520849, 39.4352693 , 25.74503384, 33.08243743, 24.0654703 ,\n",
       "       21.81984697, 21.0662497 , 14.8437288 , 32.05167081, 11.95758227,\n",
       "       25.44786968, 22.48932817, 25.21689522, 39.6993386 , 13.08901238,\n",
       "       38.70028788,  7.50701469, 17.57612219, 21.17932377, 18.19871902,\n",
       "       17.20035777, 22.62998127, 12.37264682, 25.72641799, 37.81362174,\n",
       "       21.91706309, 33.0431373 , 14.54104884, 26.91369566,  7.99585317,\n",
       "       31.89998609, 10.33593472, 37.43785732, 11.48391226, 24.43778734,\n",
       "       17.59680647, 10.73031499, 31.38150014, 13.22414968, 20.96696516,\n",
       "       27.04124872, 32.03994972, 35.17017076, 36.44570136, 38.89334116,\n",
       "        6.46728488, 12.83804312, 18.41590396, 21.94602108, 24.10408096,\n",
       "       25.08313688, 21.26343984, 25.96566616, 11.36256448, 31.25394708,\n",
       "       32.32952964,  9.307926  , 26.94472208, 27.62730332, 29.7853632 ,\n",
       "       34.48758952, 36.14922668, 12.54156844, 27.53077668, 32.922479  ,\n",
       "        9.99050724,  7.83934212, 12.24509376, 11.1695112 , 17.3403214 ,\n",
       "       17.54026944, 30.57136584, 14.2032056 , 24.49708228, 15.57526284,\n",
       "       26.84819544, 26.0621928 , 38.21075992, 43.69898888, 30.14389072,\n",
       "       12.73462172, 20.87043852, 20.27748916, 34.29453624, 19.53906036,\n",
       "       47.7144971 , 43.37700359, 29.89223198,  6.90234424, 33.19206412,\n",
       "        4.90355331,  4.5650206 , 25.46096973, 24.29092896, 33.94772981,\n",
       "       11.41427518, 20.59395864, 25.89396066, 29.23171397, 31.0236621 ,\n",
       "       10.3938507 , 33.66435518, 27.8748252 , 19.35014394, 11.39221195,\n",
       "       12.78840085, 39.32150576,  4.78220554, 16.10960674, 20.41607384,\n",
       "        6.94095489, 15.0305768 , 13.5654403 , 32.53292506, 15.74832132,\n",
       "        7.67593631, 38.80439876, 33.00383717, 17.27551066, 24.28196577,\n",
       "       24.04616498, 36.58842289, 50.73233356, 13.66403537, 14.14391066,\n",
       "       47.78206575,  2.33180783, 16.8894041 , 23.52354217,  6.8085755 ,\n",
       "       39.70002808, 17.96429718, 32.88455782, 22.34798559, 10.7875415 ,\n",
       "        7.72351015, 41.68434001,  9.56165317,  6.88372838, 50.52686971,\n",
       "       17.16588397, 30.43967592,  9.73126426,  3.31982694, 26.32281473,\n",
       "       43.25082948,  6.28043688, 32.10269204, 36.96418731, 54.59891496,\n",
       "       21.48062478,  9.69472204,  8.3743755 , 39.6621069 , 10.08979178,\n",
       "        4.82771095, 10.35455057, 43.56523054, 51.86376367, 11.85209244,\n",
       "       17.24379476, 27.82725136, 35.76312012, 14.306627  , 17.43684804,\n",
       "       31.74347504, 37.91428524, 39.38286912, 15.87173752,  9.01145132,\n",
       "       33.60506024, 40.65839972, 12.05204048, 18.91232668, 25.17966352,\n",
       "       30.9574724 , 43.89204216, 54.27555072, 36.93522932, 14.49968028,\n",
       "       22.43554904, 12.63809508, 33.21205892, 44.0919902 , 52.61391356,\n",
       "       59.76377968, 67.30664712, 69.65776028, 71.62276688, 74.16693332,\n",
       "       18.12632404, 22.53207568, 27.3377234 , 29.97841648, 32.72253096,\n",
       "        6.26733684, 14.69962832, 23.22155168, 27.923778  , 38.99676256,\n",
       "       41.24445432, 14.98920824, 13.52062436, 24.00065956, 37.42475728,\n",
       "       11.46598588, 21.16001844, 31.84000168, 14.79615496, 21.6495464 ,\n",
       "       29.39236188, 16.26473884, 31.44700036, 37.231704  , 39.48629052,\n",
       "       41.05140104, 42.1269836 , 26.74477404, 61.92183956, 47.22221124,\n",
       "       51.04190828, 55.15808   , 41.63745564, 13.71367764, 19.69143456,\n",
       "       31.6469484 , 19.10537996, 39.58281716, 48.79421652, 34.6806428 ,\n",
       "       37.32823064, 38.11423328, 33.79811352, 42.42345828, 48.4012152 ,\n",
       "       55.94408264, 58.78472376, 67.11359384, 20.77391188, 29.58541516,\n",
       "       21.7529678 , 39.0932892 , 24.39366088, 50.51101176, 74.98740976,\n",
       "       37.16965116, 33.75674496, 16.49916068, 19.98790924, 36.34917472,\n",
       "       15.41668336, 33.41890172, 39.05192064, 27.67556664, 26.8550902 ,\n",
       "       45.2985732 , 30.12320644, 15.56836808, 44.6090972 , 53.52402188,\n",
       "       57.21271848, 65.90701084, 52.82075636, 18.0297974 , 37.36270444,\n",
       "       32.83974188, 42.63719584, 40.0585556 , 41.94082508, 61.23236356,\n",
       "       40.86524252, 33.3016908 , 52.42086028, 15.08573488, 38.45897128,\n",
       "       37.25928304, 35.22532884, 42.13387836, 31.87447548, 41.540929  ,\n",
       "       39.45181672, 31.17810472, 23.69039536, 32.76389952, 32.39847724,\n",
       "       36.80422888, 18.28490352, 33.0603742 , 31.41942132, 31.02642   ,\n",
       "       44.38846488, 25.55887532, 36.4388066 , 32.9569528 , 23.83518532,\n",
       "       26.22766704, 17.95395504, 40.679084  , 19.00885332, 33.7153764 ,\n",
       "        8.53571288, 13.45857152, 32.23989776, 23.51802636, 29.72331036,\n",
       "       49.77327244, 52.44154456, 40.93419012, 44.86420332, 13.19657064,\n",
       "       37.43165204, 29.86810032, 56.61287436, 12.45883132, 23.786922  ,\n",
       "       13.29309728, 39.41734292, 44.51946532, 23.73865868, 26.14492992,\n",
       "       43.5748832 , 35.85964676, 28.98557104, 46.24315532, 26.91714304,\n",
       "       10.53519328, 25.0969264 , 29.06830816,  9.73540112, 39.84481804,\n",
       "       26.96540636, 27.234302  , 30.6472082 , 33.05347944, 24.5798194 ,\n",
       "       30.88163004, 24.3385028 , 23.8903434 , 22.93197176, 29.41304616,\n",
       "       28.62980142, 36.80491836, 18.28766142, 32.72046253, 31.4201108 ,\n",
       "       28.9379972 , 40.92522693, 12.18097249, 25.5595648 , 36.44363293,\n",
       "       32.96384756, 23.8358748 , 26.23318285, 17.95947085, 38.6306508 ,\n",
       "       19.0095428 , 33.71882378,  8.53640236, 13.46132942, 32.24541357,\n",
       "       23.52423164, 29.72606826, 52.44637089, 40.9348796 , 44.86834018,\n",
       "       13.20208645, 29.87085822, 56.61907964, 12.4595208 , 13.29378676,\n",
       "       39.42147978, 46.23419213, 44.52360218, 23.74417449, 26.14768782,\n",
       "       15.52631004, 43.57833058, 35.86585204, 41.05346947, 28.99108685,\n",
       "       46.24729218, 26.92265885, 10.53588276, 25.10382116, 29.07313449,\n",
       "        9.73815902, 33.798803  , 37.17103011, 33.76226077, 16.50398701,\n",
       "       36.3498642 , 38.21558625, 15.42357812, 33.4195912 , 39.0560575 ,\n",
       "       27.68108245, 26.85991653, 45.30477848, 15.56974703, 44.6118551 ,\n",
       "       53.52471136, 57.21823429, 65.90907927, 52.82696164, 33.39959639,\n",
       "       18.03393426, 37.36339392, 35.31427124, 42.6440906 , 40.06200298,\n",
       "       43.79827342, 61.23581094, 40.8686899 , 33.30651713, 52.42637609,\n",
       "       15.09125069, 38.46103971, 37.26548832, 42.14008364, 31.87516496,\n",
       "       41.54230795, 39.45595358, 37.91704314, 44.284354  , 31.1787942 ,\n",
       "       23.69660064, 32.76803638, 32.40123514])"
      ]
     },
     "execution_count": 20,
     "metadata": {},
     "output_type": "execute_result"
    }
   ],
   "source": [
    "data['Concrete compressive strength(MPa, megapascals) '].unique()"
   ]
  },
  {
   "cell_type": "markdown",
   "metadata": {},
   "source": [
    "# Data Visualization"
   ]
  },
  {
   "cell_type": "code",
   "execution_count": 21,
   "metadata": {},
   "outputs": [
    {
     "data": {
      "text/html": [
       "<div>\n",
       "<style scoped>\n",
       "    .dataframe tbody tr th:only-of-type {\n",
       "        vertical-align: middle;\n",
       "    }\n",
       "\n",
       "    .dataframe tbody tr th {\n",
       "        vertical-align: top;\n",
       "    }\n",
       "\n",
       "    .dataframe thead th {\n",
       "        text-align: right;\n",
       "    }\n",
       "</style>\n",
       "<table border=\"1\" class=\"dataframe\">\n",
       "  <thead>\n",
       "    <tr style=\"text-align: right;\">\n",
       "      <th></th>\n",
       "      <th>Cement (component 1)(kg in a m^3 mixture)</th>\n",
       "      <th>Blast Furnace Slag (component 2)(kg in a m^3 mixture)</th>\n",
       "      <th>Fly Ash (component 3)(kg in a m^3 mixture)</th>\n",
       "      <th>Water  (component 4)(kg in a m^3 mixture)</th>\n",
       "      <th>Superplasticizer (component 5)(kg in a m^3 mixture)</th>\n",
       "      <th>Coarse Aggregate  (component 6)(kg in a m^3 mixture)</th>\n",
       "      <th>Fine Aggregate (component 7)(kg in a m^3 mixture)</th>\n",
       "      <th>Age (day)</th>\n",
       "      <th>Concrete compressive strength(MPa, megapascals)</th>\n",
       "    </tr>\n",
       "  </thead>\n",
       "  <tbody>\n",
       "    <tr>\n",
       "      <th>Cement (component 1)(kg in a m^3 mixture)</th>\n",
       "      <td>1.000000</td>\n",
       "      <td>-0.275193</td>\n",
       "      <td>-0.397475</td>\n",
       "      <td>-0.081544</td>\n",
       "      <td>0.092771</td>\n",
       "      <td>-0.109356</td>\n",
       "      <td>-0.222720</td>\n",
       "      <td>0.081947</td>\n",
       "      <td>0.497833</td>\n",
       "    </tr>\n",
       "    <tr>\n",
       "      <th>Blast Furnace Slag (component 2)(kg in a m^3 mixture)</th>\n",
       "      <td>-0.275193</td>\n",
       "      <td>1.000000</td>\n",
       "      <td>-0.323569</td>\n",
       "      <td>0.107286</td>\n",
       "      <td>0.043376</td>\n",
       "      <td>-0.283998</td>\n",
       "      <td>-0.281593</td>\n",
       "      <td>-0.044246</td>\n",
       "      <td>0.134824</td>\n",
       "    </tr>\n",
       "    <tr>\n",
       "      <th>Fly Ash (component 3)(kg in a m^3 mixture)</th>\n",
       "      <td>-0.397475</td>\n",
       "      <td>-0.323569</td>\n",
       "      <td>1.000000</td>\n",
       "      <td>-0.257044</td>\n",
       "      <td>0.377340</td>\n",
       "      <td>-0.009977</td>\n",
       "      <td>0.079076</td>\n",
       "      <td>-0.154370</td>\n",
       "      <td>-0.105753</td>\n",
       "    </tr>\n",
       "    <tr>\n",
       "      <th>Water  (component 4)(kg in a m^3 mixture)</th>\n",
       "      <td>-0.081544</td>\n",
       "      <td>0.107286</td>\n",
       "      <td>-0.257044</td>\n",
       "      <td>1.000000</td>\n",
       "      <td>-0.657464</td>\n",
       "      <td>-0.182312</td>\n",
       "      <td>-0.450635</td>\n",
       "      <td>0.277604</td>\n",
       "      <td>-0.289613</td>\n",
       "    </tr>\n",
       "    <tr>\n",
       "      <th>Superplasticizer (component 5)(kg in a m^3 mixture)</th>\n",
       "      <td>0.092771</td>\n",
       "      <td>0.043376</td>\n",
       "      <td>0.377340</td>\n",
       "      <td>-0.657464</td>\n",
       "      <td>1.000000</td>\n",
       "      <td>-0.266303</td>\n",
       "      <td>0.222501</td>\n",
       "      <td>-0.192717</td>\n",
       "      <td>0.366102</td>\n",
       "    </tr>\n",
       "    <tr>\n",
       "      <th>Coarse Aggregate  (component 6)(kg in a m^3 mixture)</th>\n",
       "      <td>-0.109356</td>\n",
       "      <td>-0.283998</td>\n",
       "      <td>-0.009977</td>\n",
       "      <td>-0.182312</td>\n",
       "      <td>-0.266303</td>\n",
       "      <td>1.000000</td>\n",
       "      <td>-0.178506</td>\n",
       "      <td>-0.003016</td>\n",
       "      <td>-0.164928</td>\n",
       "    </tr>\n",
       "    <tr>\n",
       "      <th>Fine Aggregate (component 7)(kg in a m^3 mixture)</th>\n",
       "      <td>-0.222720</td>\n",
       "      <td>-0.281593</td>\n",
       "      <td>0.079076</td>\n",
       "      <td>-0.450635</td>\n",
       "      <td>0.222501</td>\n",
       "      <td>-0.178506</td>\n",
       "      <td>1.000000</td>\n",
       "      <td>-0.156094</td>\n",
       "      <td>-0.167249</td>\n",
       "    </tr>\n",
       "    <tr>\n",
       "      <th>Age (day)</th>\n",
       "      <td>0.081947</td>\n",
       "      <td>-0.044246</td>\n",
       "      <td>-0.154370</td>\n",
       "      <td>0.277604</td>\n",
       "      <td>-0.192717</td>\n",
       "      <td>-0.003016</td>\n",
       "      <td>-0.156094</td>\n",
       "      <td>1.000000</td>\n",
       "      <td>0.328877</td>\n",
       "    </tr>\n",
       "    <tr>\n",
       "      <th>Concrete compressive strength(MPa, megapascals)</th>\n",
       "      <td>0.497833</td>\n",
       "      <td>0.134824</td>\n",
       "      <td>-0.105753</td>\n",
       "      <td>-0.289613</td>\n",
       "      <td>0.366102</td>\n",
       "      <td>-0.164928</td>\n",
       "      <td>-0.167249</td>\n",
       "      <td>0.328877</td>\n",
       "      <td>1.000000</td>\n",
       "    </tr>\n",
       "  </tbody>\n",
       "</table>\n",
       "</div>"
      ],
      "text/plain": [
       "                                                    Cement (component 1)(kg in a m^3 mixture)  \\\n",
       "Cement (component 1)(kg in a m^3 mixture)                                            1.000000   \n",
       "Blast Furnace Slag (component 2)(kg in a m^3 mi...                                  -0.275193   \n",
       "Fly Ash (component 3)(kg in a m^3 mixture)                                          -0.397475   \n",
       "Water  (component 4)(kg in a m^3 mixture)                                           -0.081544   \n",
       "Superplasticizer (component 5)(kg in a m^3 mixt...                                   0.092771   \n",
       "Coarse Aggregate  (component 6)(kg in a m^3 mix...                                  -0.109356   \n",
       "Fine Aggregate (component 7)(kg in a m^3 mixture)                                   -0.222720   \n",
       "Age (day)                                                                            0.081947   \n",
       "Concrete compressive strength(MPa, megapascals)                                      0.497833   \n",
       "\n",
       "                                                    Blast Furnace Slag (component 2)(kg in a m^3 mixture)  \\\n",
       "Cement (component 1)(kg in a m^3 mixture)                                                   -0.275193       \n",
       "Blast Furnace Slag (component 2)(kg in a m^3 mi...                                           1.000000       \n",
       "Fly Ash (component 3)(kg in a m^3 mixture)                                                  -0.323569       \n",
       "Water  (component 4)(kg in a m^3 mixture)                                                    0.107286       \n",
       "Superplasticizer (component 5)(kg in a m^3 mixt...                                           0.043376       \n",
       "Coarse Aggregate  (component 6)(kg in a m^3 mix...                                          -0.283998       \n",
       "Fine Aggregate (component 7)(kg in a m^3 mixture)                                           -0.281593       \n",
       "Age (day)                                                                                   -0.044246       \n",
       "Concrete compressive strength(MPa, megapascals)                                              0.134824       \n",
       "\n",
       "                                                    Fly Ash (component 3)(kg in a m^3 mixture)  \\\n",
       "Cement (component 1)(kg in a m^3 mixture)                                            -0.397475   \n",
       "Blast Furnace Slag (component 2)(kg in a m^3 mi...                                   -0.323569   \n",
       "Fly Ash (component 3)(kg in a m^3 mixture)                                            1.000000   \n",
       "Water  (component 4)(kg in a m^3 mixture)                                            -0.257044   \n",
       "Superplasticizer (component 5)(kg in a m^3 mixt...                                    0.377340   \n",
       "Coarse Aggregate  (component 6)(kg in a m^3 mix...                                   -0.009977   \n",
       "Fine Aggregate (component 7)(kg in a m^3 mixture)                                     0.079076   \n",
       "Age (day)                                                                            -0.154370   \n",
       "Concrete compressive strength(MPa, megapascals)                                      -0.105753   \n",
       "\n",
       "                                                    Water  (component 4)(kg in a m^3 mixture)  \\\n",
       "Cement (component 1)(kg in a m^3 mixture)                                           -0.081544   \n",
       "Blast Furnace Slag (component 2)(kg in a m^3 mi...                                   0.107286   \n",
       "Fly Ash (component 3)(kg in a m^3 mixture)                                          -0.257044   \n",
       "Water  (component 4)(kg in a m^3 mixture)                                            1.000000   \n",
       "Superplasticizer (component 5)(kg in a m^3 mixt...                                  -0.657464   \n",
       "Coarse Aggregate  (component 6)(kg in a m^3 mix...                                  -0.182312   \n",
       "Fine Aggregate (component 7)(kg in a m^3 mixture)                                   -0.450635   \n",
       "Age (day)                                                                            0.277604   \n",
       "Concrete compressive strength(MPa, megapascals)                                     -0.289613   \n",
       "\n",
       "                                                    Superplasticizer (component 5)(kg in a m^3 mixture)  \\\n",
       "Cement (component 1)(kg in a m^3 mixture)                                                    0.092771     \n",
       "Blast Furnace Slag (component 2)(kg in a m^3 mi...                                           0.043376     \n",
       "Fly Ash (component 3)(kg in a m^3 mixture)                                                   0.377340     \n",
       "Water  (component 4)(kg in a m^3 mixture)                                                   -0.657464     \n",
       "Superplasticizer (component 5)(kg in a m^3 mixt...                                           1.000000     \n",
       "Coarse Aggregate  (component 6)(kg in a m^3 mix...                                          -0.266303     \n",
       "Fine Aggregate (component 7)(kg in a m^3 mixture)                                            0.222501     \n",
       "Age (day)                                                                                   -0.192717     \n",
       "Concrete compressive strength(MPa, megapascals)                                              0.366102     \n",
       "\n",
       "                                                    Coarse Aggregate  (component 6)(kg in a m^3 mixture)  \\\n",
       "Cement (component 1)(kg in a m^3 mixture)                                                   -0.109356      \n",
       "Blast Furnace Slag (component 2)(kg in a m^3 mi...                                          -0.283998      \n",
       "Fly Ash (component 3)(kg in a m^3 mixture)                                                  -0.009977      \n",
       "Water  (component 4)(kg in a m^3 mixture)                                                   -0.182312      \n",
       "Superplasticizer (component 5)(kg in a m^3 mixt...                                          -0.266303      \n",
       "Coarse Aggregate  (component 6)(kg in a m^3 mix...                                           1.000000      \n",
       "Fine Aggregate (component 7)(kg in a m^3 mixture)                                           -0.178506      \n",
       "Age (day)                                                                                   -0.003016      \n",
       "Concrete compressive strength(MPa, megapascals)                                             -0.164928      \n",
       "\n",
       "                                                    Fine Aggregate (component 7)(kg in a m^3 mixture)  \\\n",
       "Cement (component 1)(kg in a m^3 mixture)                                                   -0.222720   \n",
       "Blast Furnace Slag (component 2)(kg in a m^3 mi...                                          -0.281593   \n",
       "Fly Ash (component 3)(kg in a m^3 mixture)                                                   0.079076   \n",
       "Water  (component 4)(kg in a m^3 mixture)                                                   -0.450635   \n",
       "Superplasticizer (component 5)(kg in a m^3 mixt...                                           0.222501   \n",
       "Coarse Aggregate  (component 6)(kg in a m^3 mix...                                          -0.178506   \n",
       "Fine Aggregate (component 7)(kg in a m^3 mixture)                                            1.000000   \n",
       "Age (day)                                                                                   -0.156094   \n",
       "Concrete compressive strength(MPa, megapascals)                                             -0.167249   \n",
       "\n",
       "                                                    Age (day)  \\\n",
       "Cement (component 1)(kg in a m^3 mixture)            0.081947   \n",
       "Blast Furnace Slag (component 2)(kg in a m^3 mi...  -0.044246   \n",
       "Fly Ash (component 3)(kg in a m^3 mixture)          -0.154370   \n",
       "Water  (component 4)(kg in a m^3 mixture)            0.277604   \n",
       "Superplasticizer (component 5)(kg in a m^3 mixt...  -0.192717   \n",
       "Coarse Aggregate  (component 6)(kg in a m^3 mix...  -0.003016   \n",
       "Fine Aggregate (component 7)(kg in a m^3 mixture)   -0.156094   \n",
       "Age (day)                                            1.000000   \n",
       "Concrete compressive strength(MPa, megapascals)      0.328877   \n",
       "\n",
       "                                                    Concrete compressive strength(MPa, megapascals)   \n",
       "Cement (component 1)(kg in a m^3 mixture)                                                   0.497833  \n",
       "Blast Furnace Slag (component 2)(kg in a m^3 mi...                                          0.134824  \n",
       "Fly Ash (component 3)(kg in a m^3 mixture)                                                 -0.105753  \n",
       "Water  (component 4)(kg in a m^3 mixture)                                                  -0.289613  \n",
       "Superplasticizer (component 5)(kg in a m^3 mixt...                                          0.366102  \n",
       "Coarse Aggregate  (component 6)(kg in a m^3 mix...                                         -0.164928  \n",
       "Fine Aggregate (component 7)(kg in a m^3 mixture)                                          -0.167249  \n",
       "Age (day)                                                                                   0.328877  \n",
       "Concrete compressive strength(MPa, megapascals)                                             1.000000  "
      ]
     },
     "execution_count": 21,
     "metadata": {},
     "output_type": "execute_result"
    }
   ],
   "source": [
    "data.corr()"
   ]
  },
  {
   "cell_type": "code",
   "execution_count": 22,
   "metadata": {},
   "outputs": [
    {
     "data": {
      "text/plain": [
       "Text(0.5, 1, 'Heat Map on Concrete Dataset')"
      ]
     },
     "execution_count": 22,
     "metadata": {},
     "output_type": "execute_result"
    },
    {
     "data": {
      "image/png": "[encoded data removed]",
      "text/plain": [
       "<Figure size 864x864 with 2 Axes>"
      ]
     },
     "metadata": {
      "needs_background": "light"
     },
     "output_type": "display_data"
    }
   ],
   "source": [
    "plt.figure(figsize=(12,12))\n",
    "sns.heatmap(data.corr(),annot=True,cmap='viridis')\n",
    "plt.title('Heat Map on Concrete Dataset')"
   ]
  },
  {
   "cell_type": "code",
   "execution_count": 23,
   "metadata": {},
   "outputs": [
    {
     "data": {
      "text/plain": [
       "Text(0.5, 1.0, 'Scatter plot on Concrete Dataset')"
      ]
     },
     "execution_count": 23,
     "metadata": {},
     "output_type": "execute_result"
    },
    {
     "data": {
      "image/png": "[encoded data removed]",
      "text/plain": [
       "<Figure size 432x288 with 1 Axes>"
      ]
     },
     "metadata": {
      "needs_background": "light"
     },
     "output_type": "display_data"
    }
   ],
   "source": [
    "plt.scatter(data['Cement (component 1)(kg in a m^3 mixture)'],data['Concrete compressive strength(MPa, megapascals) '])\n",
    "plt.xlabel('Cement (component 1)(kg in a m^3 mixture)')\n",
    "plt.ylabel('Concrete compressive strength(MPa, megapascals)')\n",
    "plt.title('Scatter plot on Concrete Dataset')"
   ]
  },
  {
   "cell_type": "code",
   "execution_count": 24,
   "metadata": {},
   "outputs": [
    {
     "data": {
      "text/plain": [
       "Text(0.5, 1.0, 'Scatter plot on Concrete Dataset')"
      ]
     },
     "execution_count": 24,
     "metadata": {},
     "output_type": "execute_result"
    },
    {
     "data": {
      "image/png": "[encoded data removed]",
      "text/plain": [
       "<Figure size 432x288 with 1 Axes>"
      ]
     },
     "metadata": {
      "needs_background": "light"
     },
     "output_type": "display_data"
    }
   ],
   "source": [
    "plt.scatter(data['Blast Furnace Slag (component 2)(kg in a m^3 mixture)'],data['Concrete compressive strength(MPa, megapascals) '])\n",
    "plt.xlabel('Blast Furnace Slag (component 2)(kg in a m^3 mixture)')\n",
    "plt.ylabel('Concrete compressive strength(MPa, megapascals)')\n",
    "plt.title('Scatter plot on Concrete Dataset')"
   ]
  },
  {
   "cell_type": "code",
   "execution_count": 25,
   "metadata": {},
   "outputs": [
    {
     "data": {
      "text/plain": [
       "Text(0.5, 1.0, 'Scatter plot on Concrete Dataset')"
      ]
     },
     "execution_count": 25,
     "metadata": {},
     "output_type": "execute_result"
    },
    {
     "data": {
      "image/png": "[encoded data removed]",
      "text/plain": [
       "<Figure size 432x288 with 1 Axes>"
      ]
     },
     "metadata": {
      "needs_background": "light"
     },
     "output_type": "display_data"
    }
   ],
   "source": [
    "plt.scatter(data['Fly Ash (component 3)(kg in a m^3 mixture)'],data['Concrete compressive strength(MPa, megapascals) '])\n",
    "plt.xlabel('Fly Ash (component 3)(kg in a m^3 mixture)')\n",
    "plt.ylabel('Concrete compressive strength(MPa, megapascals)')\n",
    "plt.title('Scatter plot on Concrete Dataset')"
   ]
  },
  {
   "cell_type": "code",
   "execution_count": 26,
   "metadata": {},
   "outputs": [
    {
     "data": {
      "text/plain": [
       "Text(0.5, 1.0, 'Scatter plot on Concrete Dataset')"
      ]
     },
     "execution_count": 26,
     "metadata": {},
     "output_type": "execute_result"
    },
    {
     "data": {
      "image/png": "[encoded data removed]",
      "text/plain": [
       "<Figure size 432x288 with 1 Axes>"
      ]
     },
     "metadata": {
      "needs_background": "light"
     },
     "output_type": "display_data"
    }
   ],
   "source": [
    "plt.scatter(data['Water  (component 4)(kg in a m^3 mixture)'],data['Concrete compressive strength(MPa, megapascals) '])\n",
    "plt.xlabel('Water  (component 4)(kg in a m^3 mixture)')\n",
    "plt.ylabel('Concrete compressive strength(MPa, megapascals)')\n",
    "plt.title('Scatter plot on Concrete Dataset')"
   ]
  },
  {
   "cell_type": "code",
   "execution_count": 27,
   "metadata": {},
   "outputs": [
    {
     "data": {
      "text/plain": [
       "Text(0.5, 1.0, 'Scatter plot on Concrete Dataset')"
      ]
     },
     "execution_count": 27,
     "metadata": {},
     "output_type": "execute_result"
    },
    {
     "data": {
      "image/png": "[encoded data removed]",
      "text/plain": [
       "<Figure size 432x288 with 1 Axes>"
      ]
     },
     "metadata": {
      "needs_background": "light"
     },
     "output_type": "display_data"
    }
   ],
   "source": [
    "plt.scatter(data['Superplasticizer (component 5)(kg in a m^3 mixture)'],data['Concrete compressive strength(MPa, megapascals) '])\n",
    "plt.xlabel('Superplasticizer (component 5)(kg in a m^3 mixture)')\n",
    "plt.ylabel('Concrete compressive strength(MPa, megapascals)')\n",
    "plt.title('Scatter plot on Concrete Dataset')"
   ]
  },
  {
   "cell_type": "code",
   "execution_count": 28,
   "metadata": {},
   "outputs": [
    {
     "data": {
      "text/plain": [
       "Text(0.5, 1.0, 'Scatter plot on Concrete Dataset')"
      ]
     },
     "execution_count": 28,
     "metadata": {},
     "output_type": "execute_result"
    },
    {
     "data": {
      "image/png": "[encoded data removed]",
      "text/plain": [
       "<Figure size 432x288 with 1 Axes>"
      ]
     },
     "metadata": {
      "needs_background": "light"
     },
     "output_type": "display_data"
    }
   ],
   "source": [
    "plt.scatter(data['Coarse Aggregate  (component 6)(kg in a m^3 mixture)'],data['Concrete compressive strength(MPa, megapascals) '])\n",
    "plt.xlabel('Coarse Aggregate  (component 6)(kg in a m^3 mixture)')\n",
    "plt.ylabel('Concrete compressive strength(MPa, megapascals)')\n",
    "plt.title('Scatter plot on Concrete Dataset')"
   ]
  },
  {
   "cell_type": "code",
   "execution_count": 29,
   "metadata": {},
   "outputs": [
    {
     "data": {
      "text/plain": [
       "Text(0.5, 1.0, 'Scatter plot on Concrete Dataset')"
      ]
     },
     "execution_count": 29,
     "metadata": {},
     "output_type": "execute_result"
    },
    {
     "data": {
      "image/png": "[encoded data removed]",
      "text/plain": [
       "<Figure size 432x288 with 1 Axes>"
      ]
     },
     "metadata": {
      "needs_background": "light"
     },
     "output_type": "display_data"
    }
   ],
   "source": [
    "plt.scatter(data['Fine Aggregate (component 7)(kg in a m^3 mixture)'],data['Concrete compressive strength(MPa, megapascals) '])\n",
    "plt.xlabel('Fine Aggregate (component 7)(kg in a m^3 mixture)')\n",
    "plt.ylabel('Concrete compressive strength(MPa, megapascals)')\n",
    "plt.title('Scatter plot on Concrete Dataset')"
   ]
  },
  {
   "cell_type": "code",
   "execution_count": 30,
   "metadata": {},
   "outputs": [
    {
     "data": {
      "text/plain": [
       "Text(0.5, 1.0, 'Scatter plot on Concrete Dataset')"
      ]
     },
     "execution_count": 30,
     "metadata": {},
     "output_type": "execute_result"
    },
    {
     "data": {
      "image/png": "[encoded data removed]",
      "text/plain": [
       "<Figure size 432x288 with 1 Axes>"
      ]
     },
     "metadata": {
      "needs_background": "light"
     },
     "output_type": "display_data"
    }
   ],
   "source": [
    "plt.scatter(data['Age (day)'],data['Concrete compressive strength(MPa, megapascals) '])\n",
    "plt.xlabel('Age (day)')\n",
    "plt.ylabel('Concrete compressive strength(MPa, megapascals)')\n",
    "plt.title('Scatter plot on Concrete Dataset')"
   ]
  },
  {
   "cell_type": "code",
   "execution_count": 31,
   "metadata": {},
   "outputs": [
    {
     "data": {
      "image/png": "[encoded data removed]",
      "text/plain": [
       "<Figure size 432x288 with 1 Axes>"
      ]
     },
     "metadata": {
      "needs_background": "light"
     },
     "output_type": "display_data"
    },
    {
     "data": {
      "image/png": "[encoded data removed]",
      "text/plain": [
       "<Figure size 432x288 with 1 Axes>"
      ]
     },
     "metadata": {
      "needs_background": "light"
     },
     "output_type": "display_data"
    },
    {
     "data": {
      "image/png": "[encoded data removed]",
      "text/plain": [
       "<Figure size 432x288 with 1 Axes>"
      ]
     },
     "metadata": {
      "needs_background": "light"
     },
     "output_type": "display_data"
    },
    {
     "data": {
      "image/png": "[encoded data removed]",
      "text/plain": [
       "<Figure size 432x288 with 1 Axes>"
      ]
     },
     "metadata": {
      "needs_background": "light"
     },
     "output_type": "display_data"
    },
    {
     "data": {
      "image/png": "[encoded data removed]",
      "text/plain": [
       "<Figure size 432x288 with 1 Axes>"
      ]
     },
     "metadata": {
      "needs_background": "light"
     },
     "output_type": "display_data"
    },
    {
     "data": {
      "image/png": "[encoded data removed]",
      "text/plain": [
       "<Figure size 432x288 with 1 Axes>"
      ]
     },
     "metadata": {
      "needs_background": "light"
     },
     "output_type": "display_data"
    },
    {
     "data": {
      "image/png": "[encoded data removed]",
      "text/plain": [
       "<Figure size 432x288 with 1 Axes>"
      ]
     },
     "metadata": {
      "needs_background": "light"
     },
     "output_type": "display_data"
    },
    {
     "data": {
      "image/png": "[encoded data removed]",
      "text/plain": [
       "<Figure size 432x288 with 1 Axes>"
      ]
     },
     "metadata": {
      "needs_background": "light"
     },
     "output_type": "display_data"
    },
    {
     "data": {
      "image/png": "[encoded data removed]",
      "text/plain": [
       "<Figure size 432x288 with 1 Axes>"
      ]
     },
     "metadata": {
      "needs_background": "light"
     },
     "output_type": "display_data"
    }
   ],
   "source": [
    "for i in data.columns:\n",
    "    sns.distplot(data[i])\n",
    "    plt.ylabel('Concrete compressive strength(MPa, megapascals)')\n",
    "    plt.title('Distribution Plot on Concrete Dataset')\n",
    "    plt.show()"
   ]
  },
  {
   "cell_type": "code",
   "execution_count": 32,
   "metadata": {},
   "outputs": [
    {
     "data": {
      "text/plain": [
       "Text(0.5, 1.0, 'Box plot on Concrete Dataset')"
      ]
     },
     "execution_count": 32,
     "metadata": {},
     "output_type": "execute_result"
    },
    {
     "data": {
      "image/png": "[encoded data removed]",
      "text/plain": [
       "<Figure size 432x288 with 1 Axes>"
      ]
     },
     "metadata": {
      "needs_background": "light"
     },
     "output_type": "display_data"
    }
   ],
   "source": [
    "sns.boxplot(x='Age (day)',y='Concrete compressive strength(MPa, megapascals) ',data=data)\n",
    "plt.title('Box plot on Concrete Dataset')"
   ]
  },
  {
   "cell_type": "code",
   "execution_count": 33,
   "metadata": {},
   "outputs": [
    {
     "data": {
      "text/plain": [
       "Text(0.5, 1.0, 'Violin plot on Concrete Dataset')"
      ]
     },
     "execution_count": 33,
     "metadata": {},
     "output_type": "execute_result"
    },
    {
     "data": {
      "image/png": "[encoded data removed]",
      "text/plain": [
       "<Figure size 432x288 with 1 Axes>"
      ]
     },
     "metadata": {
      "needs_background": "light"
     },
     "output_type": "display_data"
    }
   ],
   "source": [
    "sns.violinplot(x='Age (day)',y='Concrete compressive strength(MPa, megapascals) ',data=data,size=10)\n",
    "plt.title('Violin plot on Concrete Dataset')"
   ]
  },
  {
   "cell_type": "markdown",
   "metadata": {},
   "source": [
    "# Separating Input and Output Variables"
   ]
  },
  {
   "cell_type": "code",
   "execution_count": 34,
   "metadata": {},
   "outputs": [
    {
     "data": {
      "text/html": [
       "<div>\n",
       "<style scoped>\n",
       "    .dataframe tbody tr th:only-of-type {\n",
       "        vertical-align: middle;\n",
       "    }\n",
       "\n",
       "    .dataframe tbody tr th {\n",
       "        vertical-align: top;\n",
       "    }\n",
       "\n",
       "    .dataframe thead th {\n",
       "        text-align: right;\n",
       "    }\n",
       "</style>\n",
       "<table border=\"1\" class=\"dataframe\">\n",
       "  <thead>\n",
       "    <tr style=\"text-align: right;\">\n",
       "      <th></th>\n",
       "      <th>Cement (component 1)(kg in a m^3 mixture)</th>\n",
       "      <th>Blast Furnace Slag (component 2)(kg in a m^3 mixture)</th>\n",
       "      <th>Fly Ash (component 3)(kg in a m^3 mixture)</th>\n",
       "      <th>Water  (component 4)(kg in a m^3 mixture)</th>\n",
       "      <th>Superplasticizer (component 5)(kg in a m^3 mixture)</th>\n",
       "      <th>Coarse Aggregate  (component 6)(kg in a m^3 mixture)</th>\n",
       "      <th>Fine Aggregate (component 7)(kg in a m^3 mixture)</th>\n",
       "      <th>Age (day)</th>\n",
       "      <th>Concrete compressive strength(MPa, megapascals)</th>\n",
       "    </tr>\n",
       "  </thead>\n",
       "  <tbody>\n",
       "    <tr>\n",
       "      <th>0</th>\n",
       "      <td>540.0</td>\n",
       "      <td>0.0</td>\n",
       "      <td>0.0</td>\n",
       "      <td>162.0</td>\n",
       "      <td>2.5</td>\n",
       "      <td>1040.0</td>\n",
       "      <td>676.0</td>\n",
       "      <td>28</td>\n",
       "      <td>79.986111</td>\n",
       "    </tr>\n",
       "    <tr>\n",
       "      <th>1</th>\n",
       "      <td>540.0</td>\n",
       "      <td>0.0</td>\n",
       "      <td>0.0</td>\n",
       "      <td>162.0</td>\n",
       "      <td>2.5</td>\n",
       "      <td>1055.0</td>\n",
       "      <td>676.0</td>\n",
       "      <td>28</td>\n",
       "      <td>61.887366</td>\n",
       "    </tr>\n",
       "    <tr>\n",
       "      <th>2</th>\n",
       "      <td>332.5</td>\n",
       "      <td>142.5</td>\n",
       "      <td>0.0</td>\n",
       "      <td>228.0</td>\n",
       "      <td>0.0</td>\n",
       "      <td>932.0</td>\n",
       "      <td>594.0</td>\n",
       "      <td>270</td>\n",
       "      <td>40.269535</td>\n",
       "    </tr>\n",
       "    <tr>\n",
       "      <th>3</th>\n",
       "      <td>332.5</td>\n",
       "      <td>142.5</td>\n",
       "      <td>0.0</td>\n",
       "      <td>228.0</td>\n",
       "      <td>0.0</td>\n",
       "      <td>932.0</td>\n",
       "      <td>594.0</td>\n",
       "      <td>365</td>\n",
       "      <td>41.052780</td>\n",
       "    </tr>\n",
       "    <tr>\n",
       "      <th>4</th>\n",
       "      <td>198.6</td>\n",
       "      <td>132.4</td>\n",
       "      <td>0.0</td>\n",
       "      <td>192.0</td>\n",
       "      <td>0.0</td>\n",
       "      <td>978.4</td>\n",
       "      <td>825.5</td>\n",
       "      <td>360</td>\n",
       "      <td>44.296075</td>\n",
       "    </tr>\n",
       "  </tbody>\n",
       "</table>\n",
       "</div>"
      ],
      "text/plain": [
       "   Cement (component 1)(kg in a m^3 mixture)  \\\n",
       "0                                      540.0   \n",
       "1                                      540.0   \n",
       "2                                      332.5   \n",
       "3                                      332.5   \n",
       "4                                      198.6   \n",
       "\n",
       "   Blast Furnace Slag (component 2)(kg in a m^3 mixture)  \\\n",
       "0                                                0.0       \n",
       "1                                                0.0       \n",
       "2                                              142.5       \n",
       "3                                              142.5       \n",
       "4                                              132.4       \n",
       "\n",
       "   Fly Ash (component 3)(kg in a m^3 mixture)  \\\n",
       "0                                         0.0   \n",
       "1                                         0.0   \n",
       "2                                         0.0   \n",
       "3                                         0.0   \n",
       "4                                         0.0   \n",
       "\n",
       "   Water  (component 4)(kg in a m^3 mixture)  \\\n",
       "0                                      162.0   \n",
       "1                                      162.0   \n",
       "2                                      228.0   \n",
       "3                                      228.0   \n",
       "4                                      192.0   \n",
       "\n",
       "   Superplasticizer (component 5)(kg in a m^3 mixture)  \\\n",
       "0                                                2.5     \n",
       "1                                                2.5     \n",
       "2                                                0.0     \n",
       "3                                                0.0     \n",
       "4                                                0.0     \n",
       "\n",
       "   Coarse Aggregate  (component 6)(kg in a m^3 mixture)  \\\n",
       "0                                             1040.0      \n",
       "1                                             1055.0      \n",
       "2                                              932.0      \n",
       "3                                              932.0      \n",
       "4                                              978.4      \n",
       "\n",
       "   Fine Aggregate (component 7)(kg in a m^3 mixture)  Age (day)  \\\n",
       "0                                              676.0         28   \n",
       "1                                              676.0         28   \n",
       "2                                              594.0        270   \n",
       "3                                              594.0        365   \n",
       "4                                              825.5        360   \n",
       "\n",
       "   Concrete compressive strength(MPa, megapascals)   \n",
       "0                                         79.986111  \n",
       "1                                         61.887366  \n",
       "2                                         40.269535  \n",
       "3                                         41.052780  \n",
       "4                                         44.296075  "
      ]
     },
     "execution_count": 34,
     "metadata": {},
     "output_type": "execute_result"
    }
   ],
   "source": [
    "data.head()"
   ]
  },
  {
   "cell_type": "code",
   "execution_count": 35,
   "metadata": {},
   "outputs": [
    {
     "data": {
      "text/plain": [
       "(1030, 9)"
      ]
     },
     "execution_count": 35,
     "metadata": {},
     "output_type": "execute_result"
    }
   ],
   "source": [
    "data.shape"
   ]
  },
  {
   "cell_type": "code",
   "execution_count": 36,
   "metadata": {},
   "outputs": [],
   "source": [
    "x=data.iloc[:,:8].values"
   ]
  },
  {
   "cell_type": "code",
   "execution_count": 37,
   "metadata": {},
   "outputs": [
    {
     "data": {
      "text/plain": [
       "array([[ 540. ,    0. ,    0. , ..., 1040. ,  676. ,   28. ],\n",
       "       [ 540. ,    0. ,    0. , ..., 1055. ,  676. ,   28. ],\n",
       "       [ 332.5,  142.5,    0. , ...,  932. ,  594. ,  270. ],\n",
       "       ...,\n",
       "       [ 148.5,  139.4,  108.6, ...,  892.4,  780. ,   28. ],\n",
       "       [ 159.1,  186.7,    0. , ...,  989.6,  788.9,   28. ],\n",
       "       [ 260.9,  100.5,   78.3, ...,  864.5,  761.5,   28. ]])"
      ]
     },
     "execution_count": 37,
     "metadata": {},
     "output_type": "execute_result"
    }
   ],
   "source": [
    "x"
   ]
  },
  {
   "cell_type": "code",
   "execution_count": 38,
   "metadata": {},
   "outputs": [],
   "source": [
    "y=data.iloc[:,8:].values"
   ]
  },
  {
   "cell_type": "code",
   "execution_count": 39,
   "metadata": {},
   "outputs": [
    {
     "data": {
      "text/plain": [
       "array([[79.98611076],\n",
       "       [61.88736576],\n",
       "       [40.26953526],\n",
       "       ...,\n",
       "       [23.69660064],\n",
       "       [32.76803638],\n",
       "       [32.40123514]])"
      ]
     },
     "execution_count": 39,
     "metadata": {},
     "output_type": "execute_result"
    }
   ],
   "source": [
    "y"
   ]
  },
  {
   "cell_type": "code",
   "execution_count": 40,
   "metadata": {},
   "outputs": [
    {
     "data": {
      "text/plain": [
       "(1030, 8)"
      ]
     },
     "execution_count": 40,
     "metadata": {},
     "output_type": "execute_result"
    }
   ],
   "source": [
    "x.shape"
   ]
  },
  {
   "cell_type": "code",
   "execution_count": 41,
   "metadata": {},
   "outputs": [
    {
     "data": {
      "text/plain": [
       "2"
      ]
     },
     "execution_count": 41,
     "metadata": {},
     "output_type": "execute_result"
    }
   ],
   "source": [
    "x.ndim"
   ]
  },
  {
   "cell_type": "code",
   "execution_count": 42,
   "metadata": {},
   "outputs": [
    {
     "data": {
      "text/plain": [
       "(1030, 1)"
      ]
     },
     "execution_count": 42,
     "metadata": {},
     "output_type": "execute_result"
    }
   ],
   "source": [
    "y.shape"
   ]
  },
  {
   "cell_type": "code",
   "execution_count": 43,
   "metadata": {},
   "outputs": [
    {
     "data": {
      "text/plain": [
       "2"
      ]
     },
     "execution_count": 43,
     "metadata": {},
     "output_type": "execute_result"
    }
   ],
   "source": [
    "y.ndim"
   ]
  },
  {
   "cell_type": "markdown",
   "metadata": {},
   "source": [
    "# Splitting the Data into Training Set and Testing Set using Train Test Split"
   ]
  },
  {
   "cell_type": "code",
   "execution_count": 44,
   "metadata": {},
   "outputs": [],
   "source": [
    "from sklearn.model_selection import train_test_split"
   ]
  },
  {
   "cell_type": "code",
   "execution_count": 45,
   "metadata": {},
   "outputs": [],
   "source": [
    "x_train,x_test,y_train,y_test=train_test_split(x,y,test_size=0.3,random_state=0)"
   ]
  },
  {
   "cell_type": "code",
   "execution_count": 46,
   "metadata": {},
   "outputs": [
    {
     "data": {
      "text/plain": [
       "array([[ 382. ,    0. ,    0. , ..., 1047. ,  739. ,    7. ],\n",
       "       [ 310. ,  142.8,    0. , ...,  914.3,  804. ,   28. ],\n",
       "       [ 310. ,    0. ,    0. , ..., 1012. ,  830. ,   90. ],\n",
       "       ...,\n",
       "       [ 144. ,    0. ,  175. , ...,  943. ,  844. ,   28. ],\n",
       "       [ 239.6,  359.4,    0. , ...,  941.6,  664.3,   28. ],\n",
       "       [ 192. ,  288. ,    0. , ...,  929.8,  716.1,   90. ]])"
      ]
     },
     "execution_count": 46,
     "metadata": {},
     "output_type": "execute_result"
    }
   ],
   "source": [
    "x_train"
   ]
  },
  {
   "cell_type": "code",
   "execution_count": 47,
   "metadata": {},
   "outputs": [
    {
     "data": {
      "text/plain": [
       "(721, 8)"
      ]
     },
     "execution_count": 47,
     "metadata": {},
     "output_type": "execute_result"
    }
   ],
   "source": [
    "x_train.shape"
   ]
  },
  {
   "cell_type": "code",
   "execution_count": 48,
   "metadata": {},
   "outputs": [
    {
     "data": {
      "text/plain": [
       "2"
      ]
     },
     "execution_count": 48,
     "metadata": {},
     "output_type": "execute_result"
    }
   ],
   "source": [
    "x_train.ndim"
   ]
  },
  {
   "cell_type": "code",
   "execution_count": 49,
   "metadata": {},
   "outputs": [
    {
     "data": {
      "text/plain": [
       "array([[24.00065956],\n",
       "       [45.30477848],\n",
       "       [35.76312012],\n",
       "       [74.19451236],\n",
       "       [14.69962832],\n",
       "       [25.60910857],\n",
       "       [61.99078716],\n",
       "       [38.07424367],\n",
       "       [54.09628696],\n",
       "       [40.85696881],\n",
       "       [39.84481804],\n",
       "       [22.43554904],\n",
       "       [25.89396066],\n",
       "       [42.919881  ],\n",
       "       [30.6472082 ],\n",
       "       [26.200088  ],\n",
       "       [23.13881456],\n",
       "       [26.8550902 ],\n",
       "       [26.14768782],\n",
       "       [52.44637089],\n",
       "       [37.92118   ],\n",
       "       [41.8367142 ],\n",
       "       [48.9872698 ],\n",
       "       [ 8.53640236],\n",
       "       [35.75425543],\n",
       "       [48.58737372],\n",
       "       [21.60128308],\n",
       "       [28.79941252],\n",
       "       [32.82319446],\n",
       "       [79.29663476],\n",
       "       [11.6549023 ],\n",
       "       [66.78067543],\n",
       "       [61.09446836],\n",
       "       [48.67011084],\n",
       "       [40.1964508 ],\n",
       "       [26.25800398],\n",
       "       [13.45857152],\n",
       "       [47.73931824],\n",
       "       [23.69660064],\n",
       "       [27.82725136],\n",
       "       [31.35047372],\n",
       "       [60.32225524],\n",
       "       [48.69562145],\n",
       "       [39.0932892 ],\n",
       "       [33.11691123],\n",
       "       [37.32823064],\n",
       "       [50.69717028],\n",
       "       [13.5654403 ],\n",
       "       [33.68779736],\n",
       "       [53.46196904],\n",
       "       [16.50398701],\n",
       "       [61.85584685],\n",
       "       [60.2946762 ],\n",
       "       [43.01296026],\n",
       "       [77.29715436],\n",
       "       [56.8472962 ],\n",
       "       [55.49592324],\n",
       "       [15.04919265],\n",
       "       [17.83674412],\n",
       "       [19.76520849],\n",
       "       [24.53845084],\n",
       "       [21.94602108],\n",
       "       [33.56369168],\n",
       "       [43.0577762 ],\n",
       "       [27.68108245],\n",
       "       [31.02642   ],\n",
       "       [ 2.33180783],\n",
       "       [42.29245784],\n",
       "       [15.340841  ],\n",
       "       [19.69143456],\n",
       "       [33.70158688],\n",
       "       [47.78206575],\n",
       "       [56.14196225],\n",
       "       [24.8900836 ],\n",
       "       [29.87085822],\n",
       "       [58.60546   ],\n",
       "       [24.90387312],\n",
       "       [13.39553372],\n",
       "       [23.786922  ],\n",
       "       [33.72916592],\n",
       "       [52.04164848],\n",
       "       [31.35047372],\n",
       "       [37.9556538 ],\n",
       "       [57.59882504],\n",
       "       [29.44751996],\n",
       "       [23.8903434 ],\n",
       "       [67.69964844],\n",
       "       [34.73580088],\n",
       "       [39.0560575 ],\n",
       "       [25.0969264 ],\n",
       "       [45.3675208 ],\n",
       "       [28.096147  ],\n",
       "       [23.22155168],\n",
       "       [40.14818748],\n",
       "       [42.14008364],\n",
       "       [37.34202016],\n",
       "       [44.13335876],\n",
       "       [60.28088668],\n",
       "       [49.77327244],\n",
       "       [59.59042572],\n",
       "       [17.95947085],\n",
       "       [24.10408096],\n",
       "       [26.94472208],\n",
       "       [31.96686526],\n",
       "       [28.23748958],\n",
       "       [16.10960674],\n",
       "       [54.27555072],\n",
       "       [18.74616296],\n",
       "       [24.91766264],\n",
       "       [40.85834776],\n",
       "       [11.46598588],\n",
       "       [38.40795006],\n",
       "       [25.2003478 ],\n",
       "       [79.40005616],\n",
       "       [23.51802636],\n",
       "       [66.42411784],\n",
       "       [39.45181672],\n",
       "       [29.7853632 ],\n",
       "       [22.34798559],\n",
       "       [55.89581932],\n",
       "       [30.12320644],\n",
       "       [67.568648  ],\n",
       "       [53.52402188],\n",
       "       [13.29309728],\n",
       "       [24.0971862 ],\n",
       "       [14.98920824],\n",
       "       [39.58281716],\n",
       "       [48.8466167 ],\n",
       "       [11.95758227],\n",
       "       [39.37597436],\n",
       "       [19.98790924],\n",
       "       [39.45595358],\n",
       "       [39.42147978],\n",
       "       [24.48329276],\n",
       "       [59.19840936],\n",
       "       [66.69990824],\n",
       "       [49.97322048],\n",
       "       [40.7135578 ],\n",
       "       [39.6993386 ],\n",
       "       [20.27748916],\n",
       "       [17.57474324],\n",
       "       [33.08243743],\n",
       "       [41.05140104],\n",
       "       [56.14403068],\n",
       "       [43.37700359],\n",
       "       [15.08573488],\n",
       "       [77.29715436],\n",
       "       [32.83974188],\n",
       "       [37.43785732],\n",
       "       [23.74417449],\n",
       "       [56.3991368 ],\n",
       "       [43.38872468],\n",
       "       [44.6980396 ],\n",
       "       [32.72046253],\n",
       "       [53.90323368],\n",
       "       [ 7.74971024],\n",
       "       [47.8151606 ],\n",
       "       [59.89478012],\n",
       "       [38.01770664],\n",
       "       [68.75060685],\n",
       "       [ 6.88372838],\n",
       "       [76.80073164],\n",
       "       [11.85209244],\n",
       "       [ 8.48744956],\n",
       "       [49.20100736],\n",
       "       [32.76803638],\n",
       "       [33.21205892],\n",
       "       [17.9953236 ],\n",
       "       [23.80071152],\n",
       "       [ 6.90234424],\n",
       "       [18.12632404],\n",
       "       [10.53588276],\n",
       "       [25.510612  ],\n",
       "       [13.46132942],\n",
       "       [25.48303296],\n",
       "       [55.64760796],\n",
       "       [32.96384756],\n",
       "       [19.41564416],\n",
       "       [22.94576128],\n",
       "       [19.69143456],\n",
       "       [18.03393426],\n",
       "       [52.90831981],\n",
       "       [23.24519085],\n",
       "       [25.68987576],\n",
       "       [17.95395504],\n",
       "       [43.6982994 ],\n",
       "       [15.57526284],\n",
       "       [25.42235907],\n",
       "       [29.15794004],\n",
       "       [22.43554904],\n",
       "       [22.53207568],\n",
       "       [21.17932377],\n",
       "       [33.39821744],\n",
       "       [48.97348028],\n",
       "       [22.48932817],\n",
       "       [67.30664712],\n",
       "       [39.6103962 ],\n",
       "       [45.08483564],\n",
       "       [38.46103971],\n",
       "       [46.93194184],\n",
       "       [40.59634688],\n",
       "       [30.44726016],\n",
       "       [24.29092896],\n",
       "       [49.99390476],\n",
       "       [ 8.06342182],\n",
       "       [16.27852836],\n",
       "       [40.38950408],\n",
       "       [23.63917715],\n",
       "       [21.0662497 ],\n",
       "       [43.25082948],\n",
       "       [20.91870184],\n",
       "       [33.798803  ],\n",
       "       [44.02993736],\n",
       "       [ 9.84965715],\n",
       "       [25.62092816],\n",
       "       [24.44881896],\n",
       "       [76.23536132],\n",
       "       [15.74832132],\n",
       "       [58.52272288],\n",
       "       [ 7.83934212],\n",
       "       [17.27551066],\n",
       "       [27.22051248],\n",
       "       [71.29871316],\n",
       "       [68.09954452],\n",
       "       [24.65566176],\n",
       "       [26.91369566],\n",
       "       [33.39959639],\n",
       "       [29.39236188],\n",
       "       [29.89223198],\n",
       "       [46.80163088],\n",
       "       [31.25394708],\n",
       "       [55.55108132],\n",
       "       [28.99936056],\n",
       "       [39.300132  ],\n",
       "       [10.33593472],\n",
       "       [79.98611076],\n",
       "       [47.27736932],\n",
       "       [25.02108404],\n",
       "       [24.39366088],\n",
       "       [43.73346268],\n",
       "       [49.80085148],\n",
       "       [ 9.01145132],\n",
       "       [11.41427518],\n",
       "       [33.5430074 ],\n",
       "       [55.82687172],\n",
       "       [46.89815752],\n",
       "       [31.74347504],\n",
       "       [35.36322404],\n",
       "       [35.34253976],\n",
       "       [65.99664272],\n",
       "       [30.2335226 ],\n",
       "       [35.31427124],\n",
       "       [36.93522932],\n",
       "       [12.73462172],\n",
       "       [11.1695112 ],\n",
       "       [38.60376124],\n",
       "       [44.6090972 ],\n",
       "       [41.15137506],\n",
       "       [12.78840085],\n",
       "       [12.17614616],\n",
       "       [33.0431373 ],\n",
       "       [21.8591471 ],\n",
       "       [41.05277999],\n",
       "       [71.29871316],\n",
       "       [47.7117392 ],\n",
       "       [46.2293658 ],\n",
       "       [26.74477404],\n",
       "       [41.540929  ],\n",
       "       [26.91714304],\n",
       "       [55.94408264],\n",
       "       [17.8229546 ],\n",
       "       [61.23581094],\n",
       "       [15.340841  ],\n",
       "       [31.41942132],\n",
       "       [21.91154728],\n",
       "       [16.87837248],\n",
       "       [52.42086028],\n",
       "       [37.17103011],\n",
       "       [39.64487   ],\n",
       "       [50.65511224],\n",
       "       [13.52062436],\n",
       "       [35.9561734 ],\n",
       "       [47.13257936],\n",
       "       [56.09576736],\n",
       "       [19.35014394],\n",
       "       [32.06821824],\n",
       "       [18.19871902],\n",
       "       [60.2946762 ],\n",
       "       [13.33446584],\n",
       "       [27.923778  ],\n",
       "       [33.60506024],\n",
       "       [71.29871316],\n",
       "       [36.44776979],\n",
       "       [33.48883428],\n",
       "       [38.45897128],\n",
       "       [38.70028788],\n",
       "       [33.79811352],\n",
       "       [19.41564416],\n",
       "       [39.48629052],\n",
       "       [59.30183076],\n",
       "       [80.19984832],\n",
       "       [32.05167081],\n",
       "       [21.8591471 ],\n",
       "       [56.7438748 ],\n",
       "       [10.53519328],\n",
       "       [25.96566616],\n",
       "       [ 4.90355331],\n",
       "       [41.94082508],\n",
       "       [41.9346198 ],\n",
       "       [67.86512268],\n",
       "       [13.08901238],\n",
       "       [51.021224  ],\n",
       "       [52.95865156],\n",
       "       [28.98557104],\n",
       "       [17.96429718],\n",
       "       [29.54897143],\n",
       "       [41.24445432],\n",
       "       [58.78472376],\n",
       "       [12.4595208 ],\n",
       "       [34.67374804],\n",
       "       [41.68434001],\n",
       "       [16.8894041 ],\n",
       "       [25.21689522],\n",
       "       [66.59648684],\n",
       "       [51.3314882 ],\n",
       "       [33.01900564],\n",
       "       [30.12320644],\n",
       "       [13.29378676],\n",
       "       [34.77027468],\n",
       "       [38.11423328],\n",
       "       [35.852752  ],\n",
       "       [16.26473884],\n",
       "       [38.20386516],\n",
       "       [21.81984697],\n",
       "       [14.49968028],\n",
       "       [ 9.73540112],\n",
       "       [10.76272036],\n",
       "       [17.16588397],\n",
       "       [14.54104884],\n",
       "       [36.63875464],\n",
       "       [50.07664188],\n",
       "       [36.96418731],\n",
       "       [44.2960751 ],\n",
       "       [36.34917472],\n",
       "       [56.06129356],\n",
       "       [19.10537996],\n",
       "       [24.28196577],\n",
       "       [36.3498642 ],\n",
       "       [15.06997543],\n",
       "       [25.46096973],\n",
       "       [38.70028788],\n",
       "       [43.37700359],\n",
       "       [67.11359384],\n",
       "       [27.234302  ],\n",
       "       [19.1991487 ],\n",
       "       [29.41304616],\n",
       "       [29.65436276],\n",
       "       [13.62404576],\n",
       "       [40.14818748],\n",
       "       [29.55094136],\n",
       "       [32.66047812],\n",
       "       [56.69561148],\n",
       "       [11.48391226],\n",
       "       [35.22532884],\n",
       "       [42.32693164],\n",
       "       [33.00383717],\n",
       "       [51.25564584],\n",
       "       [21.91706309],\n",
       "       [38.21558625],\n",
       "       [77.29715436],\n",
       "       [52.42637609],\n",
       "       [37.231704  ],\n",
       "       [26.22766704],\n",
       "       [38.99676256],\n",
       "       [24.98661024],\n",
       "       [22.83544512],\n",
       "       [12.24509376],\n",
       "       [39.60488039],\n",
       "       [15.52010476],\n",
       "       [65.19685056],\n",
       "       [55.89581932],\n",
       "       [39.35804798],\n",
       "       [17.57612219],\n",
       "       [40.9348796 ],\n",
       "       [12.05204048],\n",
       "       [24.4046925 ],\n",
       "       [23.52492112],\n",
       "       [39.300132  ],\n",
       "       [55.45455468],\n",
       "       [37.43165204],\n",
       "       [69.83702404],\n",
       "       [31.35047372],\n",
       "       [46.20178676],\n",
       "       [46.38794528],\n",
       "       [35.3011712 ],\n",
       "       [28.62704352],\n",
       "       [31.87447548],\n",
       "       [20.59395864],\n",
       "       [12.5484632 ],\n",
       "       [33.66435518],\n",
       "       [15.09125069],\n",
       "       [69.65776028],\n",
       "       [59.76377968],\n",
       "       [36.44363293],\n",
       "       [22.93197176],\n",
       "       [42.03045696],\n",
       "       [32.6266938 ],\n",
       "       [66.82401392],\n",
       "       [71.98818916],\n",
       "       [74.36491146],\n",
       "       [72.09850532],\n",
       "       [36.9903874 ],\n",
       "       [21.53923024],\n",
       "       [37.43165204],\n",
       "       [64.30053176],\n",
       "       [ 7.31534036],\n",
       "       [38.60376124],\n",
       "       [22.89749796],\n",
       "       [32.01138572],\n",
       "       [27.67556664],\n",
       "       [40.06200298],\n",
       "       [56.49566344],\n",
       "       [70.69886904],\n",
       "       [46.6430514 ],\n",
       "       [31.97100212],\n",
       "       [32.72253096],\n",
       "       [23.786922  ],\n",
       "       [32.9569528 ],\n",
       "       [55.15808   ],\n",
       "       [10.38350856],\n",
       "       [74.4978818 ],\n",
       "       [53.72396992],\n",
       "       [30.88163004],\n",
       "       [13.54130864],\n",
       "       [43.5748832 ],\n",
       "       [21.50475644],\n",
       "       [52.82696164],\n",
       "       [33.0603742 ],\n",
       "       [50.77301264],\n",
       "       [19.53906036],\n",
       "       [42.13112046],\n",
       "       [35.3011712 ],\n",
       "       [41.54299743],\n",
       "       [47.401475  ],\n",
       "       [51.73276323],\n",
       "       [19.98790924],\n",
       "       [15.04436632],\n",
       "       [29.59230992],\n",
       "       [42.1269836 ],\n",
       "       [52.30364936],\n",
       "       [39.38286912],\n",
       "       [39.14844728],\n",
       "       [36.3009114 ],\n",
       "       [44.32641204],\n",
       "       [23.4049523 ],\n",
       "       [22.62998127],\n",
       "       [15.61594192],\n",
       "       [23.83518532],\n",
       "       [35.22532884],\n",
       "       [31.17810472],\n",
       "       [27.8748252 ],\n",
       "       [38.56239268],\n",
       "       [54.31554033],\n",
       "       [42.63719584],\n",
       "       [33.3016908 ],\n",
       "       [12.54156844],\n",
       "       [ 4.78220554],\n",
       "       [29.06830816],\n",
       "       [34.23937816],\n",
       "       [32.88455782],\n",
       "       [49.89737812],\n",
       "       [31.53663224],\n",
       "       [33.70158688],\n",
       "       [32.76389952],\n",
       "       [37.91428524],\n",
       "       [25.5595648 ],\n",
       "       [17.43684804],\n",
       "       [57.21823429],\n",
       "       [50.52686971],\n",
       "       [14.306627  ],\n",
       "       [19.0095428 ],\n",
       "       [10.08979178],\n",
       "       [13.18278112],\n",
       "       [13.52062436],\n",
       "       [30.27558064],\n",
       "       [52.51669744],\n",
       "       [81.75116932],\n",
       "       [28.46846404],\n",
       "       [40.85834776],\n",
       "       [71.29871316],\n",
       "       [17.36790044],\n",
       "       [55.89581932],\n",
       "       [62.5009994 ],\n",
       "       [26.23318285],\n",
       "       [34.20490436],\n",
       "       [41.40992856],\n",
       "       [ 9.61750072],\n",
       "       [17.22311048],\n",
       "       [44.38846488],\n",
       "       [19.76520849],\n",
       "       [50.51101176],\n",
       "       [39.05192064],\n",
       "       [25.11662572],\n",
       "       [35.57006684],\n",
       "       [44.27814872],\n",
       "       [50.60064364],\n",
       "       [68.29949256],\n",
       "       [31.1787942 ],\n",
       "       [62.05284   ],\n",
       "       [39.2311844 ],\n",
       "       [15.0305768 ],\n",
       "       [17.59680647],\n",
       "       [36.56291228],\n",
       "       [59.79825348],\n",
       "       [56.8128224 ],\n",
       "       [53.30063166],\n",
       "       [37.99702236],\n",
       "       [64.30053176],\n",
       "       [77.29715436],\n",
       "       [38.610656  ],\n",
       "       [10.7875415 ],\n",
       "       [34.48758952],\n",
       "       [53.65502232],\n",
       "       [13.22414968],\n",
       "       [63.3973182 ],\n",
       "       [36.93522932],\n",
       "       [25.3727168 ],\n",
       "       [12.17614616],\n",
       "       [37.16965116],\n",
       "       [51.0556978 ],\n",
       "       [21.91154728],\n",
       "       [44.298833  ],\n",
       "       [53.77223324],\n",
       "       [21.29101888],\n",
       "       [45.2985732 ],\n",
       "       [18.41590396],\n",
       "       [42.62064842],\n",
       "       [60.9496784 ],\n",
       "       [31.11605188],\n",
       "       [15.43736764],\n",
       "       [24.24197616],\n",
       "       [42.79577532],\n",
       "       [21.96670536],\n",
       "       [38.6306508 ],\n",
       "       [26.0621928 ],\n",
       "       [24.42813468],\n",
       "       [27.77209328],\n",
       "       [31.89998609],\n",
       "       [56.61907964],\n",
       "       [33.27411176],\n",
       "       [11.57630204],\n",
       "       [30.21973308],\n",
       "       [56.61287436],\n",
       "       [33.30651713],\n",
       "       [29.93015316],\n",
       "       [24.00065956],\n",
       "       [46.23419213],\n",
       "       [79.29663476],\n",
       "       [41.71950328],\n",
       "       [33.39821744],\n",
       "       [51.03501352],\n",
       "       [14.98920824],\n",
       "       [28.02168359],\n",
       "       [32.39847724],\n",
       "       [53.104131  ],\n",
       "       [35.3011712 ],\n",
       "       [14.79615496],\n",
       "       [30.07976945],\n",
       "       [37.26548832],\n",
       "       [50.94882902],\n",
       "       [43.6982994 ],\n",
       "       [21.6495464 ],\n",
       "       [23.07676172],\n",
       "       [24.0654703 ],\n",
       "       [10.0318758 ],\n",
       "       [58.79851328],\n",
       "       [25.17966352],\n",
       "       [24.43778734],\n",
       "       [60.2946762 ],\n",
       "       [40.65839972],\n",
       "       [ 7.50701469],\n",
       "       [55.59934464],\n",
       "       [36.3009114 ],\n",
       "       [74.69782984],\n",
       "       [ 9.56165317],\n",
       "       [44.20782217],\n",
       "       [13.19657064],\n",
       "       [27.93549909],\n",
       "       [26.04840328],\n",
       "       [32.10988228],\n",
       "       [78.80021204],\n",
       "       [26.40003604],\n",
       "       [56.63355864],\n",
       "       [15.69109481],\n",
       "       [25.08313688],\n",
       "       [51.021224  ],\n",
       "       [37.25928304],\n",
       "       [42.42345828],\n",
       "       [43.49904084],\n",
       "       [23.52354217],\n",
       "       [25.55887532],\n",
       "       [31.64005364],\n",
       "       [12.83804312],\n",
       "       [33.96358776],\n",
       "       [49.20100736],\n",
       "       [15.56974703],\n",
       "       [28.99108685],\n",
       "       [65.19685056],\n",
       "       [12.37264682],\n",
       "       [41.885667  ],\n",
       "       [25.74503384],\n",
       "       [40.0585556 ],\n",
       "       [46.2293658 ],\n",
       "       [23.73865868],\n",
       "       [43.56523054],\n",
       "       [41.05140104],\n",
       "       [32.8535314 ],\n",
       "       [31.0236621 ],\n",
       "       [60.19814956],\n",
       "       [65.90701084],\n",
       "       [73.29819356],\n",
       "       [44.27814872],\n",
       "       [52.20022796],\n",
       "       [26.85991653],\n",
       "       [40.75906322],\n",
       "       [11.46598588],\n",
       "       [21.78054684],\n",
       "       [40.56876784],\n",
       "       [28.29609504],\n",
       "       [18.28766142],\n",
       "       [14.2032056 ],\n",
       "       [44.51946532],\n",
       "       [14.8437288 ],\n",
       "       [21.26343984],\n",
       "       [39.39665864],\n",
       "       [52.44154456],\n",
       "       [35.3011712 ],\n",
       "       [41.09966436],\n",
       "       [24.28334472],\n",
       "       [25.17966352],\n",
       "       [61.79773388],\n",
       "       [23.69039536],\n",
       "       [31.2677366 ],\n",
       "       [ 9.13142014],\n",
       "       [36.80491836],\n",
       "       [30.84715624],\n",
       "       [42.54756396],\n",
       "       [19.00885332],\n",
       "       [25.10382116],\n",
       "       [44.63667624],\n",
       "       [38.99538361],\n",
       "       [ 9.307926  ],\n",
       "       [55.55108132],\n",
       "       [38.76923548],\n",
       "       [45.83636448],\n",
       "       [74.16693332],\n",
       "       [22.752708  ],\n",
       "       [27.74244581],\n",
       "       [29.86810032],\n",
       "       [49.18514941],\n",
       "       [24.3385028 ],\n",
       "       [44.52360218],\n",
       "       [68.4994406 ],\n",
       "       [31.6469484 ],\n",
       "       [37.42751518],\n",
       "       [67.79617508],\n",
       "       [36.4388066 ],\n",
       "       [55.0201848 ],\n",
       "       [39.00464228],\n",
       "       [32.53292506],\n",
       "       [73.69808964],\n",
       "       [19.93275116],\n",
       "       [ 8.3743755 ],\n",
       "       [10.22217118],\n",
       "       [14.5968964 ],\n",
       "       [43.69898888],\n",
       "       [ 7.72351015],\n",
       "       [31.35047372],\n",
       "       [44.86834018],\n",
       "       [45.3675208 ],\n",
       "       [29.7508894 ],\n",
       "       [26.14492992],\n",
       "       [55.19944856],\n",
       "       [29.23171397],\n",
       "       [51.04190828],\n",
       "       [65.90907927],\n",
       "       [79.29663476],\n",
       "       [ 9.73815902],\n",
       "       [54.89607912],\n",
       "       [37.36270444],\n",
       "       [51.72448952],\n",
       "       [20.72564856],\n",
       "       [52.82075636],\n",
       "       [32.10269204],\n",
       "       [71.62276688],\n",
       "       [35.86585204],\n",
       "       [35.10122316],\n",
       "       [46.24315532],\n",
       "       [31.84000168],\n",
       "       [33.39821744],\n",
       "       [57.21271848],\n",
       "       [43.94237391],\n",
       "       [ 7.67593631],\n",
       "       [18.0297974 ],\n",
       "       [31.87516496],\n",
       "       [75.497622  ],\n",
       "       [24.40055564],\n",
       "       [ 8.20407492],\n",
       "       [46.68441996],\n",
       "       [ 3.31982694],\n",
       "       [21.02212324],\n",
       "       [41.36856   ],\n",
       "       [27.04124872],\n",
       "       [44.42293868],\n",
       "       [34.39795764],\n",
       "       [20.96696516],\n",
       "       [36.96970312],\n",
       "       [ 6.26733684],\n",
       "       [15.41668336],\n",
       "       [39.4352693 ],\n",
       "       [50.73233356]])"
      ]
     },
     "execution_count": 49,
     "metadata": {},
     "output_type": "execute_result"
    }
   ],
   "source": [
    "y_train"
   ]
  },
  {
   "cell_type": "code",
   "execution_count": 50,
   "metadata": {},
   "outputs": [
    {
     "data": {
      "text/plain": [
       "(721, 1)"
      ]
     },
     "execution_count": 50,
     "metadata": {},
     "output_type": "execute_result"
    }
   ],
   "source": [
    "y_train.shape"
   ]
  },
  {
   "cell_type": "code",
   "execution_count": 51,
   "metadata": {},
   "outputs": [
    {
     "data": {
      "text/plain": [
       "2"
      ]
     },
     "execution_count": 51,
     "metadata": {},
     "output_type": "execute_result"
    }
   ],
   "source": [
    "y_train.ndim"
   ]
  },
  {
   "cell_type": "code",
   "execution_count": 52,
   "metadata": {},
   "outputs": [
    {
     "data": {
      "text/plain": [
       "array([[ 500.  ,    0.  ,    0.  , ..., 1125.  ,  613.  ,    3.  ],\n",
       "       [ 122.6 ,  183.9 ,    0.  , ...,  958.2 ,  800.1 ,    7.  ],\n",
       "       [ 362.6 ,  189.  ,    0.  , ...,  944.7 ,  755.8 ,   91.  ],\n",
       "       ...,\n",
       "       [ 173.  ,  116.  ,    0.  , ...,  946.8 ,  856.8 ,    7.  ],\n",
       "       [ 229.97,    0.  ,  118.31, ..., 1029.4 ,  758.59,   14.  ],\n",
       "       [ 277.05,    0.  ,   97.39, ...,  973.9 ,  875.61,   28.  ]])"
      ]
     },
     "execution_count": 52,
     "metadata": {},
     "output_type": "execute_result"
    }
   ],
   "source": [
    "x_test"
   ]
  },
  {
   "cell_type": "code",
   "execution_count": 53,
   "metadata": {},
   "outputs": [
    {
     "data": {
      "text/plain": [
       "(309, 8)"
      ]
     },
     "execution_count": 53,
     "metadata": {},
     "output_type": "execute_result"
    }
   ],
   "source": [
    "x_test.shape"
   ]
  },
  {
   "cell_type": "code",
   "execution_count": 54,
   "metadata": {},
   "outputs": [
    {
     "data": {
      "text/plain": [
       "2"
      ]
     },
     "execution_count": 54,
     "metadata": {},
     "output_type": "execute_result"
    }
   ],
   "source": [
    "x_test.ndim"
   ]
  },
  {
   "cell_type": "code",
   "execution_count": 55,
   "metadata": {},
   "outputs": [
    {
     "data": {
      "text/plain": [
       "array([[26.0621928 ],\n",
       "       [10.35455057],\n",
       "       [79.29663476],\n",
       "       [74.98740976],\n",
       "       [ 9.69472204],\n",
       "       [47.09810556],\n",
       "       [58.99846132],\n",
       "       [22.7182342 ],\n",
       "       [61.88736576],\n",
       "       [52.1243856 ],\n",
       "       [17.54026944],\n",
       "       [48.15300384],\n",
       "       [38.32797084],\n",
       "       [17.20035777],\n",
       "       [56.83350668],\n",
       "       [55.25460664],\n",
       "       [33.35684888],\n",
       "       [34.6806428 ],\n",
       "       [52.61391356],\n",
       "       [39.94134468],\n",
       "       [61.45989064],\n",
       "       [27.62730332],\n",
       "       [32.90179472],\n",
       "       [41.63745564],\n",
       "       [17.54026944],\n",
       "       [26.84819544],\n",
       "       [66.89985628],\n",
       "       [21.0634918 ],\n",
       "       [61.06688932],\n",
       "       [66.9481196 ],\n",
       "       [20.87043852],\n",
       "       [48.79421652],\n",
       "       [24.04616498],\n",
       "       [47.81378165],\n",
       "       [21.16001844],\n",
       "       [ 6.94095489],\n",
       "       [28.59946448],\n",
       "       [26.31040416],\n",
       "       [33.94772981],\n",
       "       [25.72434956],\n",
       "       [37.79707432],\n",
       "       [35.17017076],\n",
       "       [32.23989776],\n",
       "       [37.81086384],\n",
       "       [57.226508  ],\n",
       "       [33.39821744],\n",
       "       [30.14389072],\n",
       "       [33.79811352],\n",
       "       [35.07640202],\n",
       "       [52.90831981],\n",
       "       [40.93419012],\n",
       "       [21.7529678 ],\n",
       "       [16.49916068],\n",
       "       [42.34761592],\n",
       "       [50.93848688],\n",
       "       [64.0178466 ],\n",
       "       [52.20022796],\n",
       "       [53.38612668],\n",
       "       [64.30053176],\n",
       "       [44.52045028],\n",
       "       [37.42475728],\n",
       "       [22.13907436],\n",
       "       [62.93536928],\n",
       "       [45.69846928],\n",
       "       [14.63826496],\n",
       "       [53.57917996],\n",
       "       [33.71882378],\n",
       "       [24.5798194 ],\n",
       "       [13.20208645],\n",
       "       [18.91232668],\n",
       "       [ 7.39807748],\n",
       "       [24.84871504],\n",
       "       [49.20100736],\n",
       "       [25.57335432],\n",
       "       [31.38150014],\n",
       "       [23.34565736],\n",
       "       [45.70536404],\n",
       "       [ 6.8085755 ],\n",
       "       [27.3377234 ],\n",
       "       [39.58971192],\n",
       "       [30.9574724 ],\n",
       "       [55.6407132 ],\n",
       "       [18.01600788],\n",
       "       [33.08795324],\n",
       "       [48.71837416],\n",
       "       [36.80422888],\n",
       "       [45.89841732],\n",
       "       [46.68441996],\n",
       "       [40.8686899 ],\n",
       "       [35.34253976],\n",
       "       [65.69721315],\n",
       "       [17.24379476],\n",
       "       [ 9.4458212 ],\n",
       "       [33.94290348],\n",
       "       [15.56836808],\n",
       "       [40.26953526],\n",
       "       [15.81657944],\n",
       "       [41.54230795],\n",
       "       [50.23522136],\n",
       "       [29.97841648],\n",
       "       [20.72564856],\n",
       "       [27.42046052],\n",
       "       [27.66177712],\n",
       "       [29.72606826],\n",
       "       [45.08483564],\n",
       "       [42.13387836],\n",
       "       [51.95891136],\n",
       "       [15.60973664],\n",
       "       [34.29453624],\n",
       "       [53.52471136],\n",
       "       [ 4.82771095],\n",
       "       [41.36856   ],\n",
       "       [ 9.73126426],\n",
       "       [31.81242264],\n",
       "       [41.05346947],\n",
       "       [61.92183956],\n",
       "       [37.42475728],\n",
       "       [37.91704314],\n",
       "       [32.72253096],\n",
       "       [14.94094492],\n",
       "       [44.0919902 ],\n",
       "       [26.92265885],\n",
       "       [64.90037588],\n",
       "       [29.21999288],\n",
       "       [12.45883132],\n",
       "       [ 7.99585317],\n",
       "       [13.71367764],\n",
       "       [13.66403537],\n",
       "       [63.14221208],\n",
       "       [37.91428524],\n",
       "       [37.404073  ],\n",
       "       [55.06431126],\n",
       "       [35.2322236 ],\n",
       "       [31.4201108 ],\n",
       "       [10.73031499],\n",
       "       [47.96684532],\n",
       "       [38.89334116],\n",
       "       [38.80439876],\n",
       "       [ 4.5650206 ],\n",
       "       [10.3938507 ],\n",
       "       [29.58541516],\n",
       "       [54.37828264],\n",
       "       [22.50449664],\n",
       "       [28.62980142],\n",
       "       [17.3403214 ],\n",
       "       [32.32952964],\n",
       "       [41.66503468],\n",
       "       [15.87173752],\n",
       "       [44.86420332],\n",
       "       [17.54026944],\n",
       "       [11.98309288],\n",
       "       [15.42357812],\n",
       "       [30.38520732],\n",
       "       [45.85429086],\n",
       "       [41.68020315],\n",
       "       [42.6440906 ],\n",
       "       [34.90127512],\n",
       "       [25.44786968],\n",
       "       [39.300132  ],\n",
       "       [27.923778  ],\n",
       "       [52.5035974 ],\n",
       "       [37.81362174],\n",
       "       [15.52631004],\n",
       "       [30.57136584],\n",
       "       [37.36339392],\n",
       "       [14.58931216],\n",
       "       [53.69225402],\n",
       "       [57.02655996],\n",
       "       [55.26012245],\n",
       "       [ 6.46728488],\n",
       "       [33.41890172],\n",
       "       [41.1617172 ],\n",
       "       [31.44700036],\n",
       "       [36.14922668],\n",
       "       [14.39625888],\n",
       "       [13.35515012],\n",
       "       [ 8.53571288],\n",
       "       [40.28509772],\n",
       "       [32.03994972],\n",
       "       [51.4349096 ],\n",
       "       [21.48062478],\n",
       "       [29.72331036],\n",
       "       [14.2032056 ],\n",
       "       [37.6798634 ],\n",
       "       [24.13166   ],\n",
       "       [23.84897484],\n",
       "       [36.44570136],\n",
       "       [44.284354  ],\n",
       "       [19.51906556],\n",
       "       [59.49488404],\n",
       "       [25.17966352],\n",
       "       [69.29923276],\n",
       "       [61.23236356],\n",
       "       [32.922479  ],\n",
       "       [ 6.28043688],\n",
       "       [39.70002808],\n",
       "       [33.39821744],\n",
       "       [23.8358748 ],\n",
       "       [39.2656582 ],\n",
       "       [72.29845336],\n",
       "       [18.12632404],\n",
       "       [27.53077668],\n",
       "       [33.76226077],\n",
       "       [33.00521612],\n",
       "       [33.7153764 ],\n",
       "       [13.81709904],\n",
       "       [43.89204216],\n",
       "       [38.21075992],\n",
       "       [33.4195912 ],\n",
       "       [13.12072828],\n",
       "       [47.22221124],\n",
       "       [22.31833812],\n",
       "       [12.47262084],\n",
       "       [28.9379972 ],\n",
       "       [47.02984744],\n",
       "       [26.32281473],\n",
       "       [30.43967592],\n",
       "       [12.63809508],\n",
       "       [20.77391188],\n",
       "       [43.79827342],\n",
       "       [66.10006412],\n",
       "       [15.36152528],\n",
       "       [40.86524252],\n",
       "       [45.93978588],\n",
       "       [33.75674496],\n",
       "       [43.58177796],\n",
       "       [23.52423164],\n",
       "       [42.69924868],\n",
       "       [14.14391066],\n",
       "       [48.4012152 ],\n",
       "       [34.56963716],\n",
       "       [35.85964676],\n",
       "       [59.09498796],\n",
       "       [24.49708228],\n",
       "       [37.72192144],\n",
       "       [15.52010476],\n",
       "       [32.40123514],\n",
       "       [33.05347944],\n",
       "       [49.24927068],\n",
       "       [71.69860924],\n",
       "       [54.89607912],\n",
       "       [50.45930106],\n",
       "       [51.86376367],\n",
       "       [28.6822016 ],\n",
       "       [26.77235308],\n",
       "       [17.23621052],\n",
       "       [36.83870268],\n",
       "       [40.2309246 ],\n",
       "       [47.7144971 ],\n",
       "       [11.36256448],\n",
       "       [ 9.99050724],\n",
       "       [40.92522693],\n",
       "       [40.56325203],\n",
       "       [31.715896  ],\n",
       "       [39.41734292],\n",
       "       [18.12632404],\n",
       "       [18.28490352],\n",
       "       [ 9.86640156],\n",
       "       [41.2996124 ],\n",
       "       [34.55653712],\n",
       "       [53.95839176],\n",
       "       [82.5992248 ],\n",
       "       [54.59891496],\n",
       "       [44.6118551 ],\n",
       "       [39.28978986],\n",
       "       [63.52831864],\n",
       "       [39.1622368 ],\n",
       "       [39.32150576],\n",
       "       [20.41607384],\n",
       "       [44.39535964],\n",
       "       [56.33708396],\n",
       "       [38.50033984],\n",
       "       [32.24541357],\n",
       "       [42.22902605],\n",
       "       [46.24729218],\n",
       "       [33.68779736],\n",
       "       [44.20920112],\n",
       "       [33.72916592],\n",
       "       [64.90037588],\n",
       "       [33.19206412],\n",
       "       [12.45193656],\n",
       "       [44.14025352],\n",
       "       [57.915984  ],\n",
       "       [55.50971276],\n",
       "       [37.2661778 ],\n",
       "       [42.21661548],\n",
       "       [41.20308576],\n",
       "       [39.77931782],\n",
       "       [64.90037588],\n",
       "       [39.6621069 ],\n",
       "       [23.5111316 ],\n",
       "       [54.76507868],\n",
       "       [29.07313449],\n",
       "       [49.77327244],\n",
       "       [65.19685056],\n",
       "       [36.58842289],\n",
       "       [52.00717468],\n",
       "       [37.2661778 ],\n",
       "       [43.57833058],\n",
       "       [40.679084  ],\n",
       "       [26.96540636],\n",
       "       [36.2519586 ],\n",
       "       [25.72641799],\n",
       "       [12.18097249],\n",
       "       [72.99482412],\n",
       "       [28.62704352],\n",
       "       [11.39221195],\n",
       "       [20.08443588],\n",
       "       [48.28400428]])"
      ]
     },
     "execution_count": 55,
     "metadata": {},
     "output_type": "execute_result"
    }
   ],
   "source": [
    "y_test"
   ]
  },
  {
   "cell_type": "code",
   "execution_count": 56,
   "metadata": {},
   "outputs": [
    {
     "data": {
      "text/plain": [
       "(309, 1)"
      ]
     },
     "execution_count": 56,
     "metadata": {},
     "output_type": "execute_result"
    }
   ],
   "source": [
    "y_test.shape"
   ]
  },
  {
   "cell_type": "code",
   "execution_count": 57,
   "metadata": {},
   "outputs": [
    {
     "data": {
      "text/plain": [
       "2"
      ]
     },
     "execution_count": 57,
     "metadata": {},
     "output_type": "execute_result"
    }
   ],
   "source": [
    "y_test.ndim"
   ]
  },
  {
   "cell_type": "markdown",
   "metadata": {},
   "source": [
    "# Normalizing the Training and Testing Data using Standard Scaler Transform"
   ]
  },
  {
   "cell_type": "code",
   "execution_count": 58,
   "metadata": {},
   "outputs": [],
   "source": [
    "from sklearn.preprocessing import StandardScaler"
   ]
  },
  {
   "cell_type": "code",
   "execution_count": 59,
   "metadata": {},
   "outputs": [],
   "source": [
    "sc=StandardScaler()"
   ]
  },
  {
   "cell_type": "code",
   "execution_count": 60,
   "metadata": {},
   "outputs": [],
   "source": [
    "x_train=sc.fit_transform(x_train)"
   ]
  },
  {
   "cell_type": "code",
   "execution_count": 61,
   "metadata": {},
   "outputs": [],
   "source": [
    "x_test=sc.fit_transform(x_test)"
   ]
  },
  {
   "cell_type": "markdown",
   "metadata": {},
   "source": [
    "# Saving the Normalized Variables for Deployment"
   ]
  },
  {
   "cell_type": "code",
   "execution_count": 62,
   "metadata": {},
   "outputs": [
    {
     "data": {
      "text/plain": [
       "['scalar1.save']"
      ]
     },
     "execution_count": 62,
     "metadata": {},
     "output_type": "execute_result"
    }
   ],
   "source": [
    "from joblib import dump\n",
    "dump(sc,\"scalar1.save\")"
   ]
  },
  {
   "cell_type": "code",
   "execution_count": 63,
   "metadata": {},
   "outputs": [
    {
     "data": {
      "text/plain": [
       "array([[ 0.97441045, -0.87043476, -0.82934801, ...,  0.97018036,\n",
       "        -0.45168144, -0.60901288],\n",
       "       [ 0.28798149,  0.74393715, -0.82934801, ..., -0.73327353,\n",
       "         0.35656267, -0.28406436],\n",
       "       [ 0.28798149, -0.87043476, -0.82934801, ...,  0.52088959,\n",
       "         0.67986032,  0.67530744],\n",
       "       ...,\n",
       "       [-1.29461861, -0.87043476,  1.85588823, ..., -0.36485509,\n",
       "         0.85394367, -0.28406436],\n",
       "       [-0.38319349,  3.19262731, -0.82934801, ..., -0.38282672,\n",
       "        -1.38054045, -0.28406436],\n",
       "       [-0.8369993 ,  2.38544135, -0.82934801, ..., -0.5343019 ,\n",
       "        -0.73643206,  0.67530744]])"
      ]
     },
     "execution_count": 63,
     "metadata": {},
     "output_type": "execute_result"
    }
   ],
   "source": [
    "x_train"
   ]
  },
  {
   "cell_type": "code",
   "execution_count": 64,
   "metadata": {},
   "outputs": [
    {
     "data": {
      "text/plain": [
       "(721, 8)"
      ]
     },
     "execution_count": 64,
     "metadata": {},
     "output_type": "execute_result"
    }
   ],
   "source": [
    "x_train.shape"
   ]
  },
  {
   "cell_type": "code",
   "execution_count": 65,
   "metadata": {},
   "outputs": [
    {
     "data": {
      "text/plain": [
       "2"
      ]
     },
     "execution_count": 65,
     "metadata": {},
     "output_type": "execute_result"
    }
   ],
   "source": [
    "x_train.ndim"
   ]
  },
  {
   "cell_type": "code",
   "execution_count": 66,
   "metadata": {},
   "outputs": [
    {
     "data": {
      "text/plain": [
       "array([[ 2.08612406, -0.82955206, -0.89272385, ...,  1.9254646 ,\n",
       "        -1.97311479, -0.68978372],\n",
       "       [-1.5650093 ,  1.4588595 , -0.89272385, ..., -0.23596481,\n",
       "         0.38572046, -0.62255143],\n",
       "       [ 0.75685611,  1.52232279, -0.89272385, ..., -0.41090064,\n",
       "        -0.17278516,  0.78932667],\n",
       "       ...,\n",
       "       [-1.07741756,  0.61392668, -0.89272385, ..., -0.3836884 ,\n",
       "         1.10055722, -0.62255143],\n",
       "       [-0.52626476, -0.82955206,  1.04493637, ...,  0.68665973,\n",
       "        -0.13761066, -0.50489492],\n",
       "       [-0.07079216, -0.82955206,  0.70231232, ..., -0.03252091,\n",
       "         1.33770148, -0.2695819 ]])"
      ]
     },
     "execution_count": 66,
     "metadata": {},
     "output_type": "execute_result"
    }
   ],
   "source": [
    "x_test"
   ]
  },
  {
   "cell_type": "code",
   "execution_count": 67,
   "metadata": {},
   "outputs": [
    {
     "data": {
      "text/plain": [
       "(309, 8)"
      ]
     },
     "execution_count": 67,
     "metadata": {},
     "output_type": "execute_result"
    }
   ],
   "source": [
    "x_test.shape"
   ]
  },
  {
   "cell_type": "code",
   "execution_count": 68,
   "metadata": {},
   "outputs": [
    {
     "data": {
      "text/plain": [
       "2"
      ]
     },
     "execution_count": 68,
     "metadata": {},
     "output_type": "execute_result"
    }
   ],
   "source": [
    "x_test.ndim"
   ]
  },
  {
   "cell_type": "code",
   "execution_count": 69,
   "metadata": {},
   "outputs": [
    {
     "data": {
      "text/plain": [
       "array([[24.00065956],\n",
       "       [45.30477848],\n",
       "       [35.76312012],\n",
       "       [74.19451236],\n",
       "       [14.69962832],\n",
       "       [25.60910857],\n",
       "       [61.99078716],\n",
       "       [38.07424367],\n",
       "       [54.09628696],\n",
       "       [40.85696881],\n",
       "       [39.84481804],\n",
       "       [22.43554904],\n",
       "       [25.89396066],\n",
       "       [42.919881  ],\n",
       "       [30.6472082 ],\n",
       "       [26.200088  ],\n",
       "       [23.13881456],\n",
       "       [26.8550902 ],\n",
       "       [26.14768782],\n",
       "       [52.44637089],\n",
       "       [37.92118   ],\n",
       "       [41.8367142 ],\n",
       "       [48.9872698 ],\n",
       "       [ 8.53640236],\n",
       "       [35.75425543],\n",
       "       [48.58737372],\n",
       "       [21.60128308],\n",
       "       [28.79941252],\n",
       "       [32.82319446],\n",
       "       [79.29663476],\n",
       "       [11.6549023 ],\n",
       "       [66.78067543],\n",
       "       [61.09446836],\n",
       "       [48.67011084],\n",
       "       [40.1964508 ],\n",
       "       [26.25800398],\n",
       "       [13.45857152],\n",
       "       [47.73931824],\n",
       "       [23.69660064],\n",
       "       [27.82725136],\n",
       "       [31.35047372],\n",
       "       [60.32225524],\n",
       "       [48.69562145],\n",
       "       [39.0932892 ],\n",
       "       [33.11691123],\n",
       "       [37.32823064],\n",
       "       [50.69717028],\n",
       "       [13.5654403 ],\n",
       "       [33.68779736],\n",
       "       [53.46196904],\n",
       "       [16.50398701],\n",
       "       [61.85584685],\n",
       "       [60.2946762 ],\n",
       "       [43.01296026],\n",
       "       [77.29715436],\n",
       "       [56.8472962 ],\n",
       "       [55.49592324],\n",
       "       [15.04919265],\n",
       "       [17.83674412],\n",
       "       [19.76520849],\n",
       "       [24.53845084],\n",
       "       [21.94602108],\n",
       "       [33.56369168],\n",
       "       [43.0577762 ],\n",
       "       [27.68108245],\n",
       "       [31.02642   ],\n",
       "       [ 2.33180783],\n",
       "       [42.29245784],\n",
       "       [15.340841  ],\n",
       "       [19.69143456],\n",
       "       [33.70158688],\n",
       "       [47.78206575],\n",
       "       [56.14196225],\n",
       "       [24.8900836 ],\n",
       "       [29.87085822],\n",
       "       [58.60546   ],\n",
       "       [24.90387312],\n",
       "       [13.39553372],\n",
       "       [23.786922  ],\n",
       "       [33.72916592],\n",
       "       [52.04164848],\n",
       "       [31.35047372],\n",
       "       [37.9556538 ],\n",
       "       [57.59882504],\n",
       "       [29.44751996],\n",
       "       [23.8903434 ],\n",
       "       [67.69964844],\n",
       "       [34.73580088],\n",
       "       [39.0560575 ],\n",
       "       [25.0969264 ],\n",
       "       [45.3675208 ],\n",
       "       [28.096147  ],\n",
       "       [23.22155168],\n",
       "       [40.14818748],\n",
       "       [42.14008364],\n",
       "       [37.34202016],\n",
       "       [44.13335876],\n",
       "       [60.28088668],\n",
       "       [49.77327244],\n",
       "       [59.59042572],\n",
       "       [17.95947085],\n",
       "       [24.10408096],\n",
       "       [26.94472208],\n",
       "       [31.96686526],\n",
       "       [28.23748958],\n",
       "       [16.10960674],\n",
       "       [54.27555072],\n",
       "       [18.74616296],\n",
       "       [24.91766264],\n",
       "       [40.85834776],\n",
       "       [11.46598588],\n",
       "       [38.40795006],\n",
       "       [25.2003478 ],\n",
       "       [79.40005616],\n",
       "       [23.51802636],\n",
       "       [66.42411784],\n",
       "       [39.45181672],\n",
       "       [29.7853632 ],\n",
       "       [22.34798559],\n",
       "       [55.89581932],\n",
       "       [30.12320644],\n",
       "       [67.568648  ],\n",
       "       [53.52402188],\n",
       "       [13.29309728],\n",
       "       [24.0971862 ],\n",
       "       [14.98920824],\n",
       "       [39.58281716],\n",
       "       [48.8466167 ],\n",
       "       [11.95758227],\n",
       "       [39.37597436],\n",
       "       [19.98790924],\n",
       "       [39.45595358],\n",
       "       [39.42147978],\n",
       "       [24.48329276],\n",
       "       [59.19840936],\n",
       "       [66.69990824],\n",
       "       [49.97322048],\n",
       "       [40.7135578 ],\n",
       "       [39.6993386 ],\n",
       "       [20.27748916],\n",
       "       [17.57474324],\n",
       "       [33.08243743],\n",
       "       [41.05140104],\n",
       "       [56.14403068],\n",
       "       [43.37700359],\n",
       "       [15.08573488],\n",
       "       [77.29715436],\n",
       "       [32.83974188],\n",
       "       [37.43785732],\n",
       "       [23.74417449],\n",
       "       [56.3991368 ],\n",
       "       [43.38872468],\n",
       "       [44.6980396 ],\n",
       "       [32.72046253],\n",
       "       [53.90323368],\n",
       "       [ 7.74971024],\n",
       "       [47.8151606 ],\n",
       "       [59.89478012],\n",
       "       [38.01770664],\n",
       "       [68.75060685],\n",
       "       [ 6.88372838],\n",
       "       [76.80073164],\n",
       "       [11.85209244],\n",
       "       [ 8.48744956],\n",
       "       [49.20100736],\n",
       "       [32.76803638],\n",
       "       [33.21205892],\n",
       "       [17.9953236 ],\n",
       "       [23.80071152],\n",
       "       [ 6.90234424],\n",
       "       [18.12632404],\n",
       "       [10.53588276],\n",
       "       [25.510612  ],\n",
       "       [13.46132942],\n",
       "       [25.48303296],\n",
       "       [55.64760796],\n",
       "       [32.96384756],\n",
       "       [19.41564416],\n",
       "       [22.94576128],\n",
       "       [19.69143456],\n",
       "       [18.03393426],\n",
       "       [52.90831981],\n",
       "       [23.24519085],\n",
       "       [25.68987576],\n",
       "       [17.95395504],\n",
       "       [43.6982994 ],\n",
       "       [15.57526284],\n",
       "       [25.42235907],\n",
       "       [29.15794004],\n",
       "       [22.43554904],\n",
       "       [22.53207568],\n",
       "       [21.17932377],\n",
       "       [33.39821744],\n",
       "       [48.97348028],\n",
       "       [22.48932817],\n",
       "       [67.30664712],\n",
       "       [39.6103962 ],\n",
       "       [45.08483564],\n",
       "       [38.46103971],\n",
       "       [46.93194184],\n",
       "       [40.59634688],\n",
       "       [30.44726016],\n",
       "       [24.29092896],\n",
       "       [49.99390476],\n",
       "       [ 8.06342182],\n",
       "       [16.27852836],\n",
       "       [40.38950408],\n",
       "       [23.63917715],\n",
       "       [21.0662497 ],\n",
       "       [43.25082948],\n",
       "       [20.91870184],\n",
       "       [33.798803  ],\n",
       "       [44.02993736],\n",
       "       [ 9.84965715],\n",
       "       [25.62092816],\n",
       "       [24.44881896],\n",
       "       [76.23536132],\n",
       "       [15.74832132],\n",
       "       [58.52272288],\n",
       "       [ 7.83934212],\n",
       "       [17.27551066],\n",
       "       [27.22051248],\n",
       "       [71.29871316],\n",
       "       [68.09954452],\n",
       "       [24.65566176],\n",
       "       [26.91369566],\n",
       "       [33.39959639],\n",
       "       [29.39236188],\n",
       "       [29.89223198],\n",
       "       [46.80163088],\n",
       "       [31.25394708],\n",
       "       [55.55108132],\n",
       "       [28.99936056],\n",
       "       [39.300132  ],\n",
       "       [10.33593472],\n",
       "       [79.98611076],\n",
       "       [47.27736932],\n",
       "       [25.02108404],\n",
       "       [24.39366088],\n",
       "       [43.73346268],\n",
       "       [49.80085148],\n",
       "       [ 9.01145132],\n",
       "       [11.41427518],\n",
       "       [33.5430074 ],\n",
       "       [55.82687172],\n",
       "       [46.89815752],\n",
       "       [31.74347504],\n",
       "       [35.36322404],\n",
       "       [35.34253976],\n",
       "       [65.99664272],\n",
       "       [30.2335226 ],\n",
       "       [35.31427124],\n",
       "       [36.93522932],\n",
       "       [12.73462172],\n",
       "       [11.1695112 ],\n",
       "       [38.60376124],\n",
       "       [44.6090972 ],\n",
       "       [41.15137506],\n",
       "       [12.78840085],\n",
       "       [12.17614616],\n",
       "       [33.0431373 ],\n",
       "       [21.8591471 ],\n",
       "       [41.05277999],\n",
       "       [71.29871316],\n",
       "       [47.7117392 ],\n",
       "       [46.2293658 ],\n",
       "       [26.74477404],\n",
       "       [41.540929  ],\n",
       "       [26.91714304],\n",
       "       [55.94408264],\n",
       "       [17.8229546 ],\n",
       "       [61.23581094],\n",
       "       [15.340841  ],\n",
       "       [31.41942132],\n",
       "       [21.91154728],\n",
       "       [16.87837248],\n",
       "       [52.42086028],\n",
       "       [37.17103011],\n",
       "       [39.64487   ],\n",
       "       [50.65511224],\n",
       "       [13.52062436],\n",
       "       [35.9561734 ],\n",
       "       [47.13257936],\n",
       "       [56.09576736],\n",
       "       [19.35014394],\n",
       "       [32.06821824],\n",
       "       [18.19871902],\n",
       "       [60.2946762 ],\n",
       "       [13.33446584],\n",
       "       [27.923778  ],\n",
       "       [33.60506024],\n",
       "       [71.29871316],\n",
       "       [36.44776979],\n",
       "       [33.48883428],\n",
       "       [38.45897128],\n",
       "       [38.70028788],\n",
       "       [33.79811352],\n",
       "       [19.41564416],\n",
       "       [39.48629052],\n",
       "       [59.30183076],\n",
       "       [80.19984832],\n",
       "       [32.05167081],\n",
       "       [21.8591471 ],\n",
       "       [56.7438748 ],\n",
       "       [10.53519328],\n",
       "       [25.96566616],\n",
       "       [ 4.90355331],\n",
       "       [41.94082508],\n",
       "       [41.9346198 ],\n",
       "       [67.86512268],\n",
       "       [13.08901238],\n",
       "       [51.021224  ],\n",
       "       [52.95865156],\n",
       "       [28.98557104],\n",
       "       [17.96429718],\n",
       "       [29.54897143],\n",
       "       [41.24445432],\n",
       "       [58.78472376],\n",
       "       [12.4595208 ],\n",
       "       [34.67374804],\n",
       "       [41.68434001],\n",
       "       [16.8894041 ],\n",
       "       [25.21689522],\n",
       "       [66.59648684],\n",
       "       [51.3314882 ],\n",
       "       [33.01900564],\n",
       "       [30.12320644],\n",
       "       [13.29378676],\n",
       "       [34.77027468],\n",
       "       [38.11423328],\n",
       "       [35.852752  ],\n",
       "       [16.26473884],\n",
       "       [38.20386516],\n",
       "       [21.81984697],\n",
       "       [14.49968028],\n",
       "       [ 9.73540112],\n",
       "       [10.76272036],\n",
       "       [17.16588397],\n",
       "       [14.54104884],\n",
       "       [36.63875464],\n",
       "       [50.07664188],\n",
       "       [36.96418731],\n",
       "       [44.2960751 ],\n",
       "       [36.34917472],\n",
       "       [56.06129356],\n",
       "       [19.10537996],\n",
       "       [24.28196577],\n",
       "       [36.3498642 ],\n",
       "       [15.06997543],\n",
       "       [25.46096973],\n",
       "       [38.70028788],\n",
       "       [43.37700359],\n",
       "       [67.11359384],\n",
       "       [27.234302  ],\n",
       "       [19.1991487 ],\n",
       "       [29.41304616],\n",
       "       [29.65436276],\n",
       "       [13.62404576],\n",
       "       [40.14818748],\n",
       "       [29.55094136],\n",
       "       [32.66047812],\n",
       "       [56.69561148],\n",
       "       [11.48391226],\n",
       "       [35.22532884],\n",
       "       [42.32693164],\n",
       "       [33.00383717],\n",
       "       [51.25564584],\n",
       "       [21.91706309],\n",
       "       [38.21558625],\n",
       "       [77.29715436],\n",
       "       [52.42637609],\n",
       "       [37.231704  ],\n",
       "       [26.22766704],\n",
       "       [38.99676256],\n",
       "       [24.98661024],\n",
       "       [22.83544512],\n",
       "       [12.24509376],\n",
       "       [39.60488039],\n",
       "       [15.52010476],\n",
       "       [65.19685056],\n",
       "       [55.89581932],\n",
       "       [39.35804798],\n",
       "       [17.57612219],\n",
       "       [40.9348796 ],\n",
       "       [12.05204048],\n",
       "       [24.4046925 ],\n",
       "       [23.52492112],\n",
       "       [39.300132  ],\n",
       "       [55.45455468],\n",
       "       [37.43165204],\n",
       "       [69.83702404],\n",
       "       [31.35047372],\n",
       "       [46.20178676],\n",
       "       [46.38794528],\n",
       "       [35.3011712 ],\n",
       "       [28.62704352],\n",
       "       [31.87447548],\n",
       "       [20.59395864],\n",
       "       [12.5484632 ],\n",
       "       [33.66435518],\n",
       "       [15.09125069],\n",
       "       [69.65776028],\n",
       "       [59.76377968],\n",
       "       [36.44363293],\n",
       "       [22.93197176],\n",
       "       [42.03045696],\n",
       "       [32.6266938 ],\n",
       "       [66.82401392],\n",
       "       [71.98818916],\n",
       "       [74.36491146],\n",
       "       [72.09850532],\n",
       "       [36.9903874 ],\n",
       "       [21.53923024],\n",
       "       [37.43165204],\n",
       "       [64.30053176],\n",
       "       [ 7.31534036],\n",
       "       [38.60376124],\n",
       "       [22.89749796],\n",
       "       [32.01138572],\n",
       "       [27.67556664],\n",
       "       [40.06200298],\n",
       "       [56.49566344],\n",
       "       [70.69886904],\n",
       "       [46.6430514 ],\n",
       "       [31.97100212],\n",
       "       [32.72253096],\n",
       "       [23.786922  ],\n",
       "       [32.9569528 ],\n",
       "       [55.15808   ],\n",
       "       [10.38350856],\n",
       "       [74.4978818 ],\n",
       "       [53.72396992],\n",
       "       [30.88163004],\n",
       "       [13.54130864],\n",
       "       [43.5748832 ],\n",
       "       [21.50475644],\n",
       "       [52.82696164],\n",
       "       [33.0603742 ],\n",
       "       [50.77301264],\n",
       "       [19.53906036],\n",
       "       [42.13112046],\n",
       "       [35.3011712 ],\n",
       "       [41.54299743],\n",
       "       [47.401475  ],\n",
       "       [51.73276323],\n",
       "       [19.98790924],\n",
       "       [15.04436632],\n",
       "       [29.59230992],\n",
       "       [42.1269836 ],\n",
       "       [52.30364936],\n",
       "       [39.38286912],\n",
       "       [39.14844728],\n",
       "       [36.3009114 ],\n",
       "       [44.32641204],\n",
       "       [23.4049523 ],\n",
       "       [22.62998127],\n",
       "       [15.61594192],\n",
       "       [23.83518532],\n",
       "       [35.22532884],\n",
       "       [31.17810472],\n",
       "       [27.8748252 ],\n",
       "       [38.56239268],\n",
       "       [54.31554033],\n",
       "       [42.63719584],\n",
       "       [33.3016908 ],\n",
       "       [12.54156844],\n",
       "       [ 4.78220554],\n",
       "       [29.06830816],\n",
       "       [34.23937816],\n",
       "       [32.88455782],\n",
       "       [49.89737812],\n",
       "       [31.53663224],\n",
       "       [33.70158688],\n",
       "       [32.76389952],\n",
       "       [37.91428524],\n",
       "       [25.5595648 ],\n",
       "       [17.43684804],\n",
       "       [57.21823429],\n",
       "       [50.52686971],\n",
       "       [14.306627  ],\n",
       "       [19.0095428 ],\n",
       "       [10.08979178],\n",
       "       [13.18278112],\n",
       "       [13.52062436],\n",
       "       [30.27558064],\n",
       "       [52.51669744],\n",
       "       [81.75116932],\n",
       "       [28.46846404],\n",
       "       [40.85834776],\n",
       "       [71.29871316],\n",
       "       [17.36790044],\n",
       "       [55.89581932],\n",
       "       [62.5009994 ],\n",
       "       [26.23318285],\n",
       "       [34.20490436],\n",
       "       [41.40992856],\n",
       "       [ 9.61750072],\n",
       "       [17.22311048],\n",
       "       [44.38846488],\n",
       "       [19.76520849],\n",
       "       [50.51101176],\n",
       "       [39.05192064],\n",
       "       [25.11662572],\n",
       "       [35.57006684],\n",
       "       [44.27814872],\n",
       "       [50.60064364],\n",
       "       [68.29949256],\n",
       "       [31.1787942 ],\n",
       "       [62.05284   ],\n",
       "       [39.2311844 ],\n",
       "       [15.0305768 ],\n",
       "       [17.59680647],\n",
       "       [36.56291228],\n",
       "       [59.79825348],\n",
       "       [56.8128224 ],\n",
       "       [53.30063166],\n",
       "       [37.99702236],\n",
       "       [64.30053176],\n",
       "       [77.29715436],\n",
       "       [38.610656  ],\n",
       "       [10.7875415 ],\n",
       "       [34.48758952],\n",
       "       [53.65502232],\n",
       "       [13.22414968],\n",
       "       [63.3973182 ],\n",
       "       [36.93522932],\n",
       "       [25.3727168 ],\n",
       "       [12.17614616],\n",
       "       [37.16965116],\n",
       "       [51.0556978 ],\n",
       "       [21.91154728],\n",
       "       [44.298833  ],\n",
       "       [53.77223324],\n",
       "       [21.29101888],\n",
       "       [45.2985732 ],\n",
       "       [18.41590396],\n",
       "       [42.62064842],\n",
       "       [60.9496784 ],\n",
       "       [31.11605188],\n",
       "       [15.43736764],\n",
       "       [24.24197616],\n",
       "       [42.79577532],\n",
       "       [21.96670536],\n",
       "       [38.6306508 ],\n",
       "       [26.0621928 ],\n",
       "       [24.42813468],\n",
       "       [27.77209328],\n",
       "       [31.89998609],\n",
       "       [56.61907964],\n",
       "       [33.27411176],\n",
       "       [11.57630204],\n",
       "       [30.21973308],\n",
       "       [56.61287436],\n",
       "       [33.30651713],\n",
       "       [29.93015316],\n",
       "       [24.00065956],\n",
       "       [46.23419213],\n",
       "       [79.29663476],\n",
       "       [41.71950328],\n",
       "       [33.39821744],\n",
       "       [51.03501352],\n",
       "       [14.98920824],\n",
       "       [28.02168359],\n",
       "       [32.39847724],\n",
       "       [53.104131  ],\n",
       "       [35.3011712 ],\n",
       "       [14.79615496],\n",
       "       [30.07976945],\n",
       "       [37.26548832],\n",
       "       [50.94882902],\n",
       "       [43.6982994 ],\n",
       "       [21.6495464 ],\n",
       "       [23.07676172],\n",
       "       [24.0654703 ],\n",
       "       [10.0318758 ],\n",
       "       [58.79851328],\n",
       "       [25.17966352],\n",
       "       [24.43778734],\n",
       "       [60.2946762 ],\n",
       "       [40.65839972],\n",
       "       [ 7.50701469],\n",
       "       [55.59934464],\n",
       "       [36.3009114 ],\n",
       "       [74.69782984],\n",
       "       [ 9.56165317],\n",
       "       [44.20782217],\n",
       "       [13.19657064],\n",
       "       [27.93549909],\n",
       "       [26.04840328],\n",
       "       [32.10988228],\n",
       "       [78.80021204],\n",
       "       [26.40003604],\n",
       "       [56.63355864],\n",
       "       [15.69109481],\n",
       "       [25.08313688],\n",
       "       [51.021224  ],\n",
       "       [37.25928304],\n",
       "       [42.42345828],\n",
       "       [43.49904084],\n",
       "       [23.52354217],\n",
       "       [25.55887532],\n",
       "       [31.64005364],\n",
       "       [12.83804312],\n",
       "       [33.96358776],\n",
       "       [49.20100736],\n",
       "       [15.56974703],\n",
       "       [28.99108685],\n",
       "       [65.19685056],\n",
       "       [12.37264682],\n",
       "       [41.885667  ],\n",
       "       [25.74503384],\n",
       "       [40.0585556 ],\n",
       "       [46.2293658 ],\n",
       "       [23.73865868],\n",
       "       [43.56523054],\n",
       "       [41.05140104],\n",
       "       [32.8535314 ],\n",
       "       [31.0236621 ],\n",
       "       [60.19814956],\n",
       "       [65.90701084],\n",
       "       [73.29819356],\n",
       "       [44.27814872],\n",
       "       [52.20022796],\n",
       "       [26.85991653],\n",
       "       [40.75906322],\n",
       "       [11.46598588],\n",
       "       [21.78054684],\n",
       "       [40.56876784],\n",
       "       [28.29609504],\n",
       "       [18.28766142],\n",
       "       [14.2032056 ],\n",
       "       [44.51946532],\n",
       "       [14.8437288 ],\n",
       "       [21.26343984],\n",
       "       [39.39665864],\n",
       "       [52.44154456],\n",
       "       [35.3011712 ],\n",
       "       [41.09966436],\n",
       "       [24.28334472],\n",
       "       [25.17966352],\n",
       "       [61.79773388],\n",
       "       [23.69039536],\n",
       "       [31.2677366 ],\n",
       "       [ 9.13142014],\n",
       "       [36.80491836],\n",
       "       [30.84715624],\n",
       "       [42.54756396],\n",
       "       [19.00885332],\n",
       "       [25.10382116],\n",
       "       [44.63667624],\n",
       "       [38.99538361],\n",
       "       [ 9.307926  ],\n",
       "       [55.55108132],\n",
       "       [38.76923548],\n",
       "       [45.83636448],\n",
       "       [74.16693332],\n",
       "       [22.752708  ],\n",
       "       [27.74244581],\n",
       "       [29.86810032],\n",
       "       [49.18514941],\n",
       "       [24.3385028 ],\n",
       "       [44.52360218],\n",
       "       [68.4994406 ],\n",
       "       [31.6469484 ],\n",
       "       [37.42751518],\n",
       "       [67.79617508],\n",
       "       [36.4388066 ],\n",
       "       [55.0201848 ],\n",
       "       [39.00464228],\n",
       "       [32.53292506],\n",
       "       [73.69808964],\n",
       "       [19.93275116],\n",
       "       [ 8.3743755 ],\n",
       "       [10.22217118],\n",
       "       [14.5968964 ],\n",
       "       [43.69898888],\n",
       "       [ 7.72351015],\n",
       "       [31.35047372],\n",
       "       [44.86834018],\n",
       "       [45.3675208 ],\n",
       "       [29.7508894 ],\n",
       "       [26.14492992],\n",
       "       [55.19944856],\n",
       "       [29.23171397],\n",
       "       [51.04190828],\n",
       "       [65.90907927],\n",
       "       [79.29663476],\n",
       "       [ 9.73815902],\n",
       "       [54.89607912],\n",
       "       [37.36270444],\n",
       "       [51.72448952],\n",
       "       [20.72564856],\n",
       "       [52.82075636],\n",
       "       [32.10269204],\n",
       "       [71.62276688],\n",
       "       [35.86585204],\n",
       "       [35.10122316],\n",
       "       [46.24315532],\n",
       "       [31.84000168],\n",
       "       [33.39821744],\n",
       "       [57.21271848],\n",
       "       [43.94237391],\n",
       "       [ 7.67593631],\n",
       "       [18.0297974 ],\n",
       "       [31.87516496],\n",
       "       [75.497622  ],\n",
       "       [24.40055564],\n",
       "       [ 8.20407492],\n",
       "       [46.68441996],\n",
       "       [ 3.31982694],\n",
       "       [21.02212324],\n",
       "       [41.36856   ],\n",
       "       [27.04124872],\n",
       "       [44.42293868],\n",
       "       [34.39795764],\n",
       "       [20.96696516],\n",
       "       [36.96970312],\n",
       "       [ 6.26733684],\n",
       "       [15.41668336],\n",
       "       [39.4352693 ],\n",
       "       [50.73233356]])"
      ]
     },
     "execution_count": 69,
     "metadata": {},
     "output_type": "execute_result"
    }
   ],
   "source": [
    "y_train"
   ]
  },
  {
   "cell_type": "code",
   "execution_count": 70,
   "metadata": {},
   "outputs": [
    {
     "data": {
      "text/plain": [
       "(721, 1)"
      ]
     },
     "execution_count": 70,
     "metadata": {},
     "output_type": "execute_result"
    }
   ],
   "source": [
    "y_train.shape"
   ]
  },
  {
   "cell_type": "code",
   "execution_count": 71,
   "metadata": {},
   "outputs": [
    {
     "data": {
      "text/plain": [
       "2"
      ]
     },
     "execution_count": 71,
     "metadata": {},
     "output_type": "execute_result"
    }
   ],
   "source": [
    "y_train.ndim"
   ]
  },
  {
   "cell_type": "code",
   "execution_count": 72,
   "metadata": {},
   "outputs": [
    {
     "data": {
      "text/plain": [
       "array([[26.0621928 ],\n",
       "       [10.35455057],\n",
       "       [79.29663476],\n",
       "       [74.98740976],\n",
       "       [ 9.69472204],\n",
       "       [47.09810556],\n",
       "       [58.99846132],\n",
       "       [22.7182342 ],\n",
       "       [61.88736576],\n",
       "       [52.1243856 ],\n",
       "       [17.54026944],\n",
       "       [48.15300384],\n",
       "       [38.32797084],\n",
       "       [17.20035777],\n",
       "       [56.83350668],\n",
       "       [55.25460664],\n",
       "       [33.35684888],\n",
       "       [34.6806428 ],\n",
       "       [52.61391356],\n",
       "       [39.94134468],\n",
       "       [61.45989064],\n",
       "       [27.62730332],\n",
       "       [32.90179472],\n",
       "       [41.63745564],\n",
       "       [17.54026944],\n",
       "       [26.84819544],\n",
       "       [66.89985628],\n",
       "       [21.0634918 ],\n",
       "       [61.06688932],\n",
       "       [66.9481196 ],\n",
       "       [20.87043852],\n",
       "       [48.79421652],\n",
       "       [24.04616498],\n",
       "       [47.81378165],\n",
       "       [21.16001844],\n",
       "       [ 6.94095489],\n",
       "       [28.59946448],\n",
       "       [26.31040416],\n",
       "       [33.94772981],\n",
       "       [25.72434956],\n",
       "       [37.79707432],\n",
       "       [35.17017076],\n",
       "       [32.23989776],\n",
       "       [37.81086384],\n",
       "       [57.226508  ],\n",
       "       [33.39821744],\n",
       "       [30.14389072],\n",
       "       [33.79811352],\n",
       "       [35.07640202],\n",
       "       [52.90831981],\n",
       "       [40.93419012],\n",
       "       [21.7529678 ],\n",
       "       [16.49916068],\n",
       "       [42.34761592],\n",
       "       [50.93848688],\n",
       "       [64.0178466 ],\n",
       "       [52.20022796],\n",
       "       [53.38612668],\n",
       "       [64.30053176],\n",
       "       [44.52045028],\n",
       "       [37.42475728],\n",
       "       [22.13907436],\n",
       "       [62.93536928],\n",
       "       [45.69846928],\n",
       "       [14.63826496],\n",
       "       [53.57917996],\n",
       "       [33.71882378],\n",
       "       [24.5798194 ],\n",
       "       [13.20208645],\n",
       "       [18.91232668],\n",
       "       [ 7.39807748],\n",
       "       [24.84871504],\n",
       "       [49.20100736],\n",
       "       [25.57335432],\n",
       "       [31.38150014],\n",
       "       [23.34565736],\n",
       "       [45.70536404],\n",
       "       [ 6.8085755 ],\n",
       "       [27.3377234 ],\n",
       "       [39.58971192],\n",
       "       [30.9574724 ],\n",
       "       [55.6407132 ],\n",
       "       [18.01600788],\n",
       "       [33.08795324],\n",
       "       [48.71837416],\n",
       "       [36.80422888],\n",
       "       [45.89841732],\n",
       "       [46.68441996],\n",
       "       [40.8686899 ],\n",
       "       [35.34253976],\n",
       "       [65.69721315],\n",
       "       [17.24379476],\n",
       "       [ 9.4458212 ],\n",
       "       [33.94290348],\n",
       "       [15.56836808],\n",
       "       [40.26953526],\n",
       "       [15.81657944],\n",
       "       [41.54230795],\n",
       "       [50.23522136],\n",
       "       [29.97841648],\n",
       "       [20.72564856],\n",
       "       [27.42046052],\n",
       "       [27.66177712],\n",
       "       [29.72606826],\n",
       "       [45.08483564],\n",
       "       [42.13387836],\n",
       "       [51.95891136],\n",
       "       [15.60973664],\n",
       "       [34.29453624],\n",
       "       [53.52471136],\n",
       "       [ 4.82771095],\n",
       "       [41.36856   ],\n",
       "       [ 9.73126426],\n",
       "       [31.81242264],\n",
       "       [41.05346947],\n",
       "       [61.92183956],\n",
       "       [37.42475728],\n",
       "       [37.91704314],\n",
       "       [32.72253096],\n",
       "       [14.94094492],\n",
       "       [44.0919902 ],\n",
       "       [26.92265885],\n",
       "       [64.90037588],\n",
       "       [29.21999288],\n",
       "       [12.45883132],\n",
       "       [ 7.99585317],\n",
       "       [13.71367764],\n",
       "       [13.66403537],\n",
       "       [63.14221208],\n",
       "       [37.91428524],\n",
       "       [37.404073  ],\n",
       "       [55.06431126],\n",
       "       [35.2322236 ],\n",
       "       [31.4201108 ],\n",
       "       [10.73031499],\n",
       "       [47.96684532],\n",
       "       [38.89334116],\n",
       "       [38.80439876],\n",
       "       [ 4.5650206 ],\n",
       "       [10.3938507 ],\n",
       "       [29.58541516],\n",
       "       [54.37828264],\n",
       "       [22.50449664],\n",
       "       [28.62980142],\n",
       "       [17.3403214 ],\n",
       "       [32.32952964],\n",
       "       [41.66503468],\n",
       "       [15.87173752],\n",
       "       [44.86420332],\n",
       "       [17.54026944],\n",
       "       [11.98309288],\n",
       "       [15.42357812],\n",
       "       [30.38520732],\n",
       "       [45.85429086],\n",
       "       [41.68020315],\n",
       "       [42.6440906 ],\n",
       "       [34.90127512],\n",
       "       [25.44786968],\n",
       "       [39.300132  ],\n",
       "       [27.923778  ],\n",
       "       [52.5035974 ],\n",
       "       [37.81362174],\n",
       "       [15.52631004],\n",
       "       [30.57136584],\n",
       "       [37.36339392],\n",
       "       [14.58931216],\n",
       "       [53.69225402],\n",
       "       [57.02655996],\n",
       "       [55.26012245],\n",
       "       [ 6.46728488],\n",
       "       [33.41890172],\n",
       "       [41.1617172 ],\n",
       "       [31.44700036],\n",
       "       [36.14922668],\n",
       "       [14.39625888],\n",
       "       [13.35515012],\n",
       "       [ 8.53571288],\n",
       "       [40.28509772],\n",
       "       [32.03994972],\n",
       "       [51.4349096 ],\n",
       "       [21.48062478],\n",
       "       [29.72331036],\n",
       "       [14.2032056 ],\n",
       "       [37.6798634 ],\n",
       "       [24.13166   ],\n",
       "       [23.84897484],\n",
       "       [36.44570136],\n",
       "       [44.284354  ],\n",
       "       [19.51906556],\n",
       "       [59.49488404],\n",
       "       [25.17966352],\n",
       "       [69.29923276],\n",
       "       [61.23236356],\n",
       "       [32.922479  ],\n",
       "       [ 6.28043688],\n",
       "       [39.70002808],\n",
       "       [33.39821744],\n",
       "       [23.8358748 ],\n",
       "       [39.2656582 ],\n",
       "       [72.29845336],\n",
       "       [18.12632404],\n",
       "       [27.53077668],\n",
       "       [33.76226077],\n",
       "       [33.00521612],\n",
       "       [33.7153764 ],\n",
       "       [13.81709904],\n",
       "       [43.89204216],\n",
       "       [38.21075992],\n",
       "       [33.4195912 ],\n",
       "       [13.12072828],\n",
       "       [47.22221124],\n",
       "       [22.31833812],\n",
       "       [12.47262084],\n",
       "       [28.9379972 ],\n",
       "       [47.02984744],\n",
       "       [26.32281473],\n",
       "       [30.43967592],\n",
       "       [12.63809508],\n",
       "       [20.77391188],\n",
       "       [43.79827342],\n",
       "       [66.10006412],\n",
       "       [15.36152528],\n",
       "       [40.86524252],\n",
       "       [45.93978588],\n",
       "       [33.75674496],\n",
       "       [43.58177796],\n",
       "       [23.52423164],\n",
       "       [42.69924868],\n",
       "       [14.14391066],\n",
       "       [48.4012152 ],\n",
       "       [34.56963716],\n",
       "       [35.85964676],\n",
       "       [59.09498796],\n",
       "       [24.49708228],\n",
       "       [37.72192144],\n",
       "       [15.52010476],\n",
       "       [32.40123514],\n",
       "       [33.05347944],\n",
       "       [49.24927068],\n",
       "       [71.69860924],\n",
       "       [54.89607912],\n",
       "       [50.45930106],\n",
       "       [51.86376367],\n",
       "       [28.6822016 ],\n",
       "       [26.77235308],\n",
       "       [17.23621052],\n",
       "       [36.83870268],\n",
       "       [40.2309246 ],\n",
       "       [47.7144971 ],\n",
       "       [11.36256448],\n",
       "       [ 9.99050724],\n",
       "       [40.92522693],\n",
       "       [40.56325203],\n",
       "       [31.715896  ],\n",
       "       [39.41734292],\n",
       "       [18.12632404],\n",
       "       [18.28490352],\n",
       "       [ 9.86640156],\n",
       "       [41.2996124 ],\n",
       "       [34.55653712],\n",
       "       [53.95839176],\n",
       "       [82.5992248 ],\n",
       "       [54.59891496],\n",
       "       [44.6118551 ],\n",
       "       [39.28978986],\n",
       "       [63.52831864],\n",
       "       [39.1622368 ],\n",
       "       [39.32150576],\n",
       "       [20.41607384],\n",
       "       [44.39535964],\n",
       "       [56.33708396],\n",
       "       [38.50033984],\n",
       "       [32.24541357],\n",
       "       [42.22902605],\n",
       "       [46.24729218],\n",
       "       [33.68779736],\n",
       "       [44.20920112],\n",
       "       [33.72916592],\n",
       "       [64.90037588],\n",
       "       [33.19206412],\n",
       "       [12.45193656],\n",
       "       [44.14025352],\n",
       "       [57.915984  ],\n",
       "       [55.50971276],\n",
       "       [37.2661778 ],\n",
       "       [42.21661548],\n",
       "       [41.20308576],\n",
       "       [39.77931782],\n",
       "       [64.90037588],\n",
       "       [39.6621069 ],\n",
       "       [23.5111316 ],\n",
       "       [54.76507868],\n",
       "       [29.07313449],\n",
       "       [49.77327244],\n",
       "       [65.19685056],\n",
       "       [36.58842289],\n",
       "       [52.00717468],\n",
       "       [37.2661778 ],\n",
       "       [43.57833058],\n",
       "       [40.679084  ],\n",
       "       [26.96540636],\n",
       "       [36.2519586 ],\n",
       "       [25.72641799],\n",
       "       [12.18097249],\n",
       "       [72.99482412],\n",
       "       [28.62704352],\n",
       "       [11.39221195],\n",
       "       [20.08443588],\n",
       "       [48.28400428]])"
      ]
     },
     "execution_count": 72,
     "metadata": {},
     "output_type": "execute_result"
    }
   ],
   "source": [
    "y_test"
   ]
  },
  {
   "cell_type": "code",
   "execution_count": 73,
   "metadata": {},
   "outputs": [
    {
     "data": {
      "text/plain": [
       "(309, 1)"
      ]
     },
     "execution_count": 73,
     "metadata": {},
     "output_type": "execute_result"
    }
   ],
   "source": [
    "y_test.shape"
   ]
  },
  {
   "cell_type": "code",
   "execution_count": 74,
   "metadata": {},
   "outputs": [
    {
     "data": {
      "text/plain": [
       "2"
      ]
     },
     "execution_count": 74,
     "metadata": {},
     "output_type": "execute_result"
    }
   ],
   "source": [
    "y_test.ndim"
   ]
  },
  {
   "cell_type": "markdown",
   "metadata": {},
   "source": [
    "# Random Forest Regressor Code"
   ]
  },
  {
   "cell_type": "code",
   "execution_count": 75,
   "metadata": {},
   "outputs": [
    {
     "name": "stderr",
     "output_type": "stream",
     "text": [
      "C:\\Anaconda\\lib\\site-packages\\ipykernel_launcher.py:3: DataConversionWarning: A column-vector y was passed when a 1d array was expected. Please change the shape of y to (n_samples,), for example using ravel().\n",
      "  This is separate from the ipykernel package so we can avoid doing imports until\n"
     ]
    },
    {
     "data": {
      "text/plain": [
       "RandomForestRegressor(bootstrap=True, ccp_alpha=0.0, criterion='mse',\n",
       "                      max_depth=None, max_features='auto', max_leaf_nodes=None,\n",
       "                      max_samples=None, min_impurity_decrease=0.0,\n",
       "                      min_impurity_split=None, min_samples_leaf=1,\n",
       "                      min_samples_split=2, min_weight_fraction_leaf=0.0,\n",
       "                      n_estimators=10, n_jobs=-1, oob_score=False,\n",
       "                      random_state=0, verbose=0, warm_start=False)"
      ]
     },
     "execution_count": 75,
     "metadata": {},
     "output_type": "execute_result"
    }
   ],
   "source": [
    "from sklearn.ensemble import RandomForestRegressor\n",
    "Rf=RandomForestRegressor(n_estimators=10,random_state=0, n_jobs=-1)\n",
    "Rf.fit(x_train,y_train)"
   ]
  },
  {
   "cell_type": "markdown",
   "metadata": {},
   "source": [
    "# Saving the Random Forest Regressor Model For Deployment"
   ]
  },
  {
   "cell_type": "code",
   "execution_count": 76,
   "metadata": {},
   "outputs": [],
   "source": [
    "import pickle\n",
    "pickle.dump(Rf,open('random.pkl','wb'))"
   ]
  },
  {
   "cell_type": "markdown",
   "metadata": {},
   "source": [
    "# Checking the Predictions of the Model by passing the Testing Data"
   ]
  },
  {
   "cell_type": "code",
   "execution_count": 77,
   "metadata": {},
   "outputs": [],
   "source": [
    "y_pred4=Rf.predict(x_test)"
   ]
  },
  {
   "cell_type": "code",
   "execution_count": 78,
   "metadata": {},
   "outputs": [
    {
     "data": {
      "text/plain": [
       "array([29.05906918,  9.39810946, 64.91377141, 61.00276805,  8.13774733,\n",
       "       44.83428006, 65.0691596 , 27.22464934, 73.07756124, 52.94203519,\n",
       "       19.28505741, 49.14552424, 35.61088382, 17.10203849, 55.67194646,\n",
       "       56.14403068, 36.79112884, 37.49715226, 46.70717267, 37.56403143,\n",
       "       61.78597996, 27.84497089, 26.22546072, 44.12291812, 15.26803233,\n",
       "       25.19138461, 63.88753564, 25.91967811, 56.14403068, 63.49177641,\n",
       "       21.19752593, 47.39823446, 26.43175194, 36.52802479, 17.83881255,\n",
       "        7.53569689, 35.9273139 , 26.27234508, 30.58419009, 28.22363111,\n",
       "       36.54006108, 39.48325683, 30.2349705 , 37.6942045 , 63.28769152,\n",
       "       33.83810313, 29.59596414, 36.1055927 , 35.8341657 , 49.16618882,\n",
       "       44.33689208, 28.66696418, 23.93695198, 38.86107368, 54.49342514,\n",
       "       48.15431384, 46.31596399, 60.91451512, 62.78988984, 37.76889445,\n",
       "       33.10953384, 22.94555444, 56.2602238 , 47.00019997, 13.96104193,\n",
       "       68.619961  , 34.97746222, 29.15263107, 16.21145613, 14.7993955 ,\n",
       "       18.66963113, 28.8503648 , 49.86014642, 26.19167639, 37.44426945,\n",
       "       28.83260586, 28.97867628, 13.14920364, 31.86068596, 33.20559754,\n",
       "       19.24327516, 50.90608151, 19.32187542, 26.93624153, 48.27848847,\n",
       "       34.98449487, 38.39882271, 49.5978008 , 39.48677906, 40.01718704,\n",
       "       65.35001274, 16.62209425, 13.51717698, 47.75172881, 17.44608702,\n",
       "       46.50012303, 18.80338947, 34.82350223, 49.61986403, 34.49696639,\n",
       "       11.86050405, 18.15941889, 27.09205325, 28.31967512, 38.87334636,\n",
       "       41.29802661, 53.62813276, 17.41685324, 32.90503526, 46.58837595,\n",
       "        6.86614675, 50.76404945, 16.98234546, 26.93624153, 51.09120581,\n",
       "       59.85203261, 40.94991017, 34.39402763, 38.80274401, 14.40963471,\n",
       "       47.41774663, 31.0336595 , 66.34965443, 26.1741637 , 13.51338486,\n",
       "       11.11028521, 11.73591573,  9.46367863, 51.68139727, 39.63494155,\n",
       "       31.18706791, 53.46134851, 37.6985482 , 30.83067776, 13.3025431 ,\n",
       "       61.81149057, 38.47179553, 39.35335955,  4.97353513,  9.66679826,\n",
       "       35.89618899, 49.04808158, 21.71463293, 31.52167061, 20.3624326 ,\n",
       "       33.40028587, 39.60057938, 10.17439049, 45.64427647, 18.11660243,\n",
       "       14.45279591, 17.41326796, 19.1529538 , 39.07784494, 39.84145931,\n",
       "       35.30530806, 47.65485743, 28.08987277, 30.05860254, 30.4031337 ,\n",
       "       48.75622639, 35.66266347, 19.67971347, 40.75954585, 31.89750398,\n",
       "        9.57820059, 49.83773845, 48.05199561, 49.04808158, 10.4798973 ,\n",
       "       43.52124197, 39.012916  , 31.77043355, 37.22549872, 10.9439836 ,\n",
       "       14.75651009, 15.22549167, 44.70565667, 32.99914873, 48.16127755,\n",
       "       17.34976722, 28.31967512, 14.90205847, 38.1107859 , 22.09429782,\n",
       "       50.93994463, 38.80274401, 42.36581809, 14.47003281, 56.2602238 ,\n",
       "       32.24699936, 66.94949855, 59.23874371, 39.72209131,  5.75319459,\n",
       "       43.39506786, 31.78725677, 28.7670761 , 35.18602871, 64.98567391,\n",
       "       21.78951003, 30.13678912, 33.65980463, 27.74520372, 34.97746222,\n",
       "       12.23061476, 46.0426557 , 31.21575011, 43.52124197, 16.06685923,\n",
       "       53.08068881, 21.31032421, 14.29752592, 30.07032363, 47.84598018,\n",
       "       31.69135065, 26.74077508, 29.05906918, 21.62334631, 39.79738209,\n",
       "       67.15604586, 21.24965032, 39.48677906, 41.44164446, 33.65980463,\n",
       "       39.72071236, 23.79953941, 45.8184381 , 18.02207527, 47.0767318 ,\n",
       "       34.38189285, 38.00426186, 47.87969555, 26.83371644, 43.68809516,\n",
       "       18.28993669, 34.18297902, 31.68638643, 30.36969411, 70.88414109,\n",
       "       62.6906053 , 51.1979367 , 44.35854162, 33.90429282, 21.34259168,\n",
       "       17.11975803, 38.12303231, 28.97867628, 46.37153575,  9.134247  ,\n",
       "       11.7067509 , 50.70020397, 39.98505746, 39.67520694, 41.00906721,\n",
       "       19.90372422, 27.4068089 ,  9.20126406, 30.78441392, 30.7218489 ,\n",
       "       54.68440999, 73.86976916, 44.7973931 , 39.35535903, 39.26945032,\n",
       "       62.94709037, 33.82872625, 33.12277178, 17.64596611, 40.9376375 ,\n",
       "       61.81149057, 28.83319684, 30.2349705 , 42.1700069 , 41.68537422,\n",
       "       45.39585826, 46.52101415, 31.87992234, 59.0980906 , 34.14795364,\n",
       "       13.79089895, 49.12171762, 58.88224521, 48.00269807, 27.87544573,\n",
       "       34.73924826, 34.6347237 , 45.03043598, 69.6628821 , 36.09441334,\n",
       "       29.71227874, 66.35566273, 40.07234512, 41.21866792, 64.87762317,\n",
       "       38.04411357, 38.9610083 , 45.14028921, 42.5836925 , 38.27536973,\n",
       "       31.78787729, 38.50888934, 28.10028386, 14.99810248, 69.30573353,\n",
       "       30.99201515, 13.23608746, 24.66634864, 40.51698819])"
      ]
     },
     "execution_count": 78,
     "metadata": {},
     "output_type": "execute_result"
    }
   ],
   "source": [
    "y_pred4"
   ]
  },
  {
   "cell_type": "code",
   "execution_count": 79,
   "metadata": {},
   "outputs": [
    {
     "data": {
      "text/plain": [
       "array([[26.0621928 ],\n",
       "       [10.35455057],\n",
       "       [79.29663476],\n",
       "       [74.98740976],\n",
       "       [ 9.69472204],\n",
       "       [47.09810556],\n",
       "       [58.99846132],\n",
       "       [22.7182342 ],\n",
       "       [61.88736576],\n",
       "       [52.1243856 ],\n",
       "       [17.54026944],\n",
       "       [48.15300384],\n",
       "       [38.32797084],\n",
       "       [17.20035777],\n",
       "       [56.83350668],\n",
       "       [55.25460664],\n",
       "       [33.35684888],\n",
       "       [34.6806428 ],\n",
       "       [52.61391356],\n",
       "       [39.94134468],\n",
       "       [61.45989064],\n",
       "       [27.62730332],\n",
       "       [32.90179472],\n",
       "       [41.63745564],\n",
       "       [17.54026944],\n",
       "       [26.84819544],\n",
       "       [66.89985628],\n",
       "       [21.0634918 ],\n",
       "       [61.06688932],\n",
       "       [66.9481196 ],\n",
       "       [20.87043852],\n",
       "       [48.79421652],\n",
       "       [24.04616498],\n",
       "       [47.81378165],\n",
       "       [21.16001844],\n",
       "       [ 6.94095489],\n",
       "       [28.59946448],\n",
       "       [26.31040416],\n",
       "       [33.94772981],\n",
       "       [25.72434956],\n",
       "       [37.79707432],\n",
       "       [35.17017076],\n",
       "       [32.23989776],\n",
       "       [37.81086384],\n",
       "       [57.226508  ],\n",
       "       [33.39821744],\n",
       "       [30.14389072],\n",
       "       [33.79811352],\n",
       "       [35.07640202],\n",
       "       [52.90831981],\n",
       "       [40.93419012],\n",
       "       [21.7529678 ],\n",
       "       [16.49916068],\n",
       "       [42.34761592],\n",
       "       [50.93848688],\n",
       "       [64.0178466 ],\n",
       "       [52.20022796],\n",
       "       [53.38612668],\n",
       "       [64.30053176],\n",
       "       [44.52045028],\n",
       "       [37.42475728],\n",
       "       [22.13907436],\n",
       "       [62.93536928],\n",
       "       [45.69846928],\n",
       "       [14.63826496],\n",
       "       [53.57917996],\n",
       "       [33.71882378],\n",
       "       [24.5798194 ],\n",
       "       [13.20208645],\n",
       "       [18.91232668],\n",
       "       [ 7.39807748],\n",
       "       [24.84871504],\n",
       "       [49.20100736],\n",
       "       [25.57335432],\n",
       "       [31.38150014],\n",
       "       [23.34565736],\n",
       "       [45.70536404],\n",
       "       [ 6.8085755 ],\n",
       "       [27.3377234 ],\n",
       "       [39.58971192],\n",
       "       [30.9574724 ],\n",
       "       [55.6407132 ],\n",
       "       [18.01600788],\n",
       "       [33.08795324],\n",
       "       [48.71837416],\n",
       "       [36.80422888],\n",
       "       [45.89841732],\n",
       "       [46.68441996],\n",
       "       [40.8686899 ],\n",
       "       [35.34253976],\n",
       "       [65.69721315],\n",
       "       [17.24379476],\n",
       "       [ 9.4458212 ],\n",
       "       [33.94290348],\n",
       "       [15.56836808],\n",
       "       [40.26953526],\n",
       "       [15.81657944],\n",
       "       [41.54230795],\n",
       "       [50.23522136],\n",
       "       [29.97841648],\n",
       "       [20.72564856],\n",
       "       [27.42046052],\n",
       "       [27.66177712],\n",
       "       [29.72606826],\n",
       "       [45.08483564],\n",
       "       [42.13387836],\n",
       "       [51.95891136],\n",
       "       [15.60973664],\n",
       "       [34.29453624],\n",
       "       [53.52471136],\n",
       "       [ 4.82771095],\n",
       "       [41.36856   ],\n",
       "       [ 9.73126426],\n",
       "       [31.81242264],\n",
       "       [41.05346947],\n",
       "       [61.92183956],\n",
       "       [37.42475728],\n",
       "       [37.91704314],\n",
       "       [32.72253096],\n",
       "       [14.94094492],\n",
       "       [44.0919902 ],\n",
       "       [26.92265885],\n",
       "       [64.90037588],\n",
       "       [29.21999288],\n",
       "       [12.45883132],\n",
       "       [ 7.99585317],\n",
       "       [13.71367764],\n",
       "       [13.66403537],\n",
       "       [63.14221208],\n",
       "       [37.91428524],\n",
       "       [37.404073  ],\n",
       "       [55.06431126],\n",
       "       [35.2322236 ],\n",
       "       [31.4201108 ],\n",
       "       [10.73031499],\n",
       "       [47.96684532],\n",
       "       [38.89334116],\n",
       "       [38.80439876],\n",
       "       [ 4.5650206 ],\n",
       "       [10.3938507 ],\n",
       "       [29.58541516],\n",
       "       [54.37828264],\n",
       "       [22.50449664],\n",
       "       [28.62980142],\n",
       "       [17.3403214 ],\n",
       "       [32.32952964],\n",
       "       [41.66503468],\n",
       "       [15.87173752],\n",
       "       [44.86420332],\n",
       "       [17.54026944],\n",
       "       [11.98309288],\n",
       "       [15.42357812],\n",
       "       [30.38520732],\n",
       "       [45.85429086],\n",
       "       [41.68020315],\n",
       "       [42.6440906 ],\n",
       "       [34.90127512],\n",
       "       [25.44786968],\n",
       "       [39.300132  ],\n",
       "       [27.923778  ],\n",
       "       [52.5035974 ],\n",
       "       [37.81362174],\n",
       "       [15.52631004],\n",
       "       [30.57136584],\n",
       "       [37.36339392],\n",
       "       [14.58931216],\n",
       "       [53.69225402],\n",
       "       [57.02655996],\n",
       "       [55.26012245],\n",
       "       [ 6.46728488],\n",
       "       [33.41890172],\n",
       "       [41.1617172 ],\n",
       "       [31.44700036],\n",
       "       [36.14922668],\n",
       "       [14.39625888],\n",
       "       [13.35515012],\n",
       "       [ 8.53571288],\n",
       "       [40.28509772],\n",
       "       [32.03994972],\n",
       "       [51.4349096 ],\n",
       "       [21.48062478],\n",
       "       [29.72331036],\n",
       "       [14.2032056 ],\n",
       "       [37.6798634 ],\n",
       "       [24.13166   ],\n",
       "       [23.84897484],\n",
       "       [36.44570136],\n",
       "       [44.284354  ],\n",
       "       [19.51906556],\n",
       "       [59.49488404],\n",
       "       [25.17966352],\n",
       "       [69.29923276],\n",
       "       [61.23236356],\n",
       "       [32.922479  ],\n",
       "       [ 6.28043688],\n",
       "       [39.70002808],\n",
       "       [33.39821744],\n",
       "       [23.8358748 ],\n",
       "       [39.2656582 ],\n",
       "       [72.29845336],\n",
       "       [18.12632404],\n",
       "       [27.53077668],\n",
       "       [33.76226077],\n",
       "       [33.00521612],\n",
       "       [33.7153764 ],\n",
       "       [13.81709904],\n",
       "       [43.89204216],\n",
       "       [38.21075992],\n",
       "       [33.4195912 ],\n",
       "       [13.12072828],\n",
       "       [47.22221124],\n",
       "       [22.31833812],\n",
       "       [12.47262084],\n",
       "       [28.9379972 ],\n",
       "       [47.02984744],\n",
       "       [26.32281473],\n",
       "       [30.43967592],\n",
       "       [12.63809508],\n",
       "       [20.77391188],\n",
       "       [43.79827342],\n",
       "       [66.10006412],\n",
       "       [15.36152528],\n",
       "       [40.86524252],\n",
       "       [45.93978588],\n",
       "       [33.75674496],\n",
       "       [43.58177796],\n",
       "       [23.52423164],\n",
       "       [42.69924868],\n",
       "       [14.14391066],\n",
       "       [48.4012152 ],\n",
       "       [34.56963716],\n",
       "       [35.85964676],\n",
       "       [59.09498796],\n",
       "       [24.49708228],\n",
       "       [37.72192144],\n",
       "       [15.52010476],\n",
       "       [32.40123514],\n",
       "       [33.05347944],\n",
       "       [49.24927068],\n",
       "       [71.69860924],\n",
       "       [54.89607912],\n",
       "       [50.45930106],\n",
       "       [51.86376367],\n",
       "       [28.6822016 ],\n",
       "       [26.77235308],\n",
       "       [17.23621052],\n",
       "       [36.83870268],\n",
       "       [40.2309246 ],\n",
       "       [47.7144971 ],\n",
       "       [11.36256448],\n",
       "       [ 9.99050724],\n",
       "       [40.92522693],\n",
       "       [40.56325203],\n",
       "       [31.715896  ],\n",
       "       [39.41734292],\n",
       "       [18.12632404],\n",
       "       [18.28490352],\n",
       "       [ 9.86640156],\n",
       "       [41.2996124 ],\n",
       "       [34.55653712],\n",
       "       [53.95839176],\n",
       "       [82.5992248 ],\n",
       "       [54.59891496],\n",
       "       [44.6118551 ],\n",
       "       [39.28978986],\n",
       "       [63.52831864],\n",
       "       [39.1622368 ],\n",
       "       [39.32150576],\n",
       "       [20.41607384],\n",
       "       [44.39535964],\n",
       "       [56.33708396],\n",
       "       [38.50033984],\n",
       "       [32.24541357],\n",
       "       [42.22902605],\n",
       "       [46.24729218],\n",
       "       [33.68779736],\n",
       "       [44.20920112],\n",
       "       [33.72916592],\n",
       "       [64.90037588],\n",
       "       [33.19206412],\n",
       "       [12.45193656],\n",
       "       [44.14025352],\n",
       "       [57.915984  ],\n",
       "       [55.50971276],\n",
       "       [37.2661778 ],\n",
       "       [42.21661548],\n",
       "       [41.20308576],\n",
       "       [39.77931782],\n",
       "       [64.90037588],\n",
       "       [39.6621069 ],\n",
       "       [23.5111316 ],\n",
       "       [54.76507868],\n",
       "       [29.07313449],\n",
       "       [49.77327244],\n",
       "       [65.19685056],\n",
       "       [36.58842289],\n",
       "       [52.00717468],\n",
       "       [37.2661778 ],\n",
       "       [43.57833058],\n",
       "       [40.679084  ],\n",
       "       [26.96540636],\n",
       "       [36.2519586 ],\n",
       "       [25.72641799],\n",
       "       [12.18097249],\n",
       "       [72.99482412],\n",
       "       [28.62704352],\n",
       "       [11.39221195],\n",
       "       [20.08443588],\n",
       "       [48.28400428]])"
      ]
     },
     "execution_count": 79,
     "metadata": {},
     "output_type": "execute_result"
    }
   ],
   "source": [
    "y_test"
   ]
  },
  {
   "cell_type": "code",
   "execution_count": 80,
   "metadata": {},
   "outputs": [],
   "source": [
    "results4=pd.DataFrame({'actual':y_test.flatten(),'predicted':y_pred4.flatten()})"
   ]
  },
  {
   "cell_type": "code",
   "execution_count": 81,
   "metadata": {},
   "outputs": [
    {
     "data": {
      "text/html": [
       "<div>\n",
       "<style scoped>\n",
       "    .dataframe tbody tr th:only-of-type {\n",
       "        vertical-align: middle;\n",
       "    }\n",
       "\n",
       "    .dataframe tbody tr th {\n",
       "        vertical-align: top;\n",
       "    }\n",
       "\n",
       "    .dataframe thead th {\n",
       "        text-align: right;\n",
       "    }\n",
       "</style>\n",
       "<table border=\"1\" class=\"dataframe\">\n",
       "  <thead>\n",
       "    <tr style=\"text-align: right;\">\n",
       "      <th></th>\n",
       "      <th>actual</th>\n",
       "      <th>predicted</th>\n",
       "    </tr>\n",
       "  </thead>\n",
       "  <tbody>\n",
       "    <tr>\n",
       "      <th>0</th>\n",
       "      <td>26.062193</td>\n",
       "      <td>29.059069</td>\n",
       "    </tr>\n",
       "    <tr>\n",
       "      <th>1</th>\n",
       "      <td>10.354551</td>\n",
       "      <td>9.398109</td>\n",
       "    </tr>\n",
       "    <tr>\n",
       "      <th>2</th>\n",
       "      <td>79.296635</td>\n",
       "      <td>64.913771</td>\n",
       "    </tr>\n",
       "    <tr>\n",
       "      <th>3</th>\n",
       "      <td>74.987410</td>\n",
       "      <td>61.002768</td>\n",
       "    </tr>\n",
       "    <tr>\n",
       "      <th>4</th>\n",
       "      <td>9.694722</td>\n",
       "      <td>8.137747</td>\n",
       "    </tr>\n",
       "  </tbody>\n",
       "</table>\n",
       "</div>"
      ],
      "text/plain": [
       "      actual  predicted\n",
       "0  26.062193  29.059069\n",
       "1  10.354551   9.398109\n",
       "2  79.296635  64.913771\n",
       "3  74.987410  61.002768\n",
       "4   9.694722   8.137747"
      ]
     },
     "execution_count": 81,
     "metadata": {},
     "output_type": "execute_result"
    }
   ],
   "source": [
    "results4.head()"
   ]
  },
  {
   "cell_type": "markdown",
   "metadata": {},
   "source": [
    "# Testing the Accuracy and Performance of the Model Using R2 Score and Mean Squared Error(MSE) Criterion"
   ]
  },
  {
   "cell_type": "code",
   "execution_count": 82,
   "metadata": {},
   "outputs": [],
   "source": [
    "from sklearn.metrics import r2_score"
   ]
  },
  {
   "cell_type": "code",
   "execution_count": 83,
   "metadata": {},
   "outputs": [
    {
     "data": {
      "text/plain": [
       "0.8734447353564693"
      ]
     },
     "execution_count": 83,
     "metadata": {},
     "output_type": "execute_result"
    }
   ],
   "source": [
    "r2_score(y_test,y_pred4)"
   ]
  },
  {
   "cell_type": "code",
   "execution_count": 84,
   "metadata": {},
   "outputs": [
    {
     "data": {
      "text/plain": [
       "32.48673415137879"
      ]
     },
     "execution_count": 84,
     "metadata": {},
     "output_type": "execute_result"
    }
   ],
   "source": [
    "from sklearn.metrics import mean_squared_error\n",
    "mean_squared_error(y_test,y_pred4)"
   ]
  },
  {
   "cell_type": "markdown",
   "metadata": {},
   "source": [
    "# Testing the Predictions of the Model by Passing Input Data"
   ]
  },
  {
   "cell_type": "code",
   "execution_count": 85,
   "metadata": {},
   "outputs": [
    {
     "data": {
      "text/plain": [
       "array([57.39280961])"
      ]
     },
     "execution_count": 85,
     "metadata": {},
     "output_type": "execute_result"
    }
   ],
   "source": [
    "Rf.predict([[540,0,0,162,2,1040,676,28]])"
   ]
  },
  {
   "cell_type": "code",
   "execution_count": 86,
   "metadata": {},
   "outputs": [
    {
     "data": {
      "text/plain": [
       "array([55.6176847])"
      ]
     },
     "execution_count": 86,
     "metadata": {},
     "output_type": "execute_result"
    }
   ],
   "source": [
    "Rf.predict([[332.5,142.5,0.0,228.0,0.0,932.0,594.0,270]])"
   ]
  },
  {
   "cell_type": "code",
   "execution_count": null,
   "metadata": {},
   "outputs": [],
   "source": []
  }
 ],
 "metadata": {
  "kernelspec": {
   "display_name": "Python 3",
   "language": "python",
   "name": "python3"
  },
  "language_info": {
   "codemirror_mode": {
    "name": "ipython",
    "version": 3
   },
   "file_extension": ".py",
   "mimetype": "text/x-python",
   "name": "python",
   "nbconvert_exporter": "python",
   "pygments_lexer": "ipython3",
   "version": "3.7.6"
  }
 },
 "nbformat": 4,
 "nbformat_minor": 4
}
